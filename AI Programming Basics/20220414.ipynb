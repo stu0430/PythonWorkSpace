{
 "cells": [
  {
   "cell_type": "code",
   "execution_count": 10,
   "id": "9d27255e",
   "metadata": {},
   "outputs": [
    {
     "name": "stdout",
     "output_type": "stream",
     "text": [
      "1 Hello, world!\n",
      "2 Hello, world!\n",
      "3 Hello, world!\n"
     ]
    }
   ],
   "source": [
    "i = 0\n",
    "while i < 3 :\n",
    "    print(i + 1, \"Hello, world!\")\n",
    "    i += 1"
   ]
  },
  {
   "cell_type": "code",
   "execution_count": 11,
   "id": "60ef4bc9",
   "metadata": {},
   "outputs": [
    {
     "name": "stdout",
     "output_type": "stream",
     "text": [
      "3 Hello, world!\n",
      "2 Hello, world!\n",
      "1 Hello, world!\n"
     ]
    }
   ],
   "source": [
    "i = 3\n",
    "while i > 0 :\n",
    "    print(i, \"Hello, world!\")\n",
    "    i -= 1"
   ]
  },
  {
   "cell_type": "code",
   "execution_count": 13,
   "id": "f66bbdcd",
   "metadata": {},
   "outputs": [
    {
     "name": "stdout",
     "output_type": "stream",
     "text": [
      "반복 횟수를 입력하세요:5\n",
      "1 Hello, world!\n",
      "2 Hello, world!\n",
      "3 Hello, world!\n",
      "4 Hello, world!\n",
      "5 Hello, world!\n"
     ]
    }
   ],
   "source": [
    "count = int(input('반복 횟수를 입력하세요:'))\n",
    "i = 0\n",
    "while i < count :\n",
    "    print(i + 1, \"Hello, world!\")\n",
    "    i += 1"
   ]
  },
  {
   "cell_type": "code",
   "execution_count": 14,
   "id": "f9378e9e",
   "metadata": {},
   "outputs": [],
   "source": [
    "import random"
   ]
  },
  {
   "cell_type": "code",
   "execution_count": 21,
   "id": "165f427a",
   "metadata": {},
   "outputs": [
    {
     "data": {
      "text/plain": [
       "0.8618885760455922"
      ]
     },
     "execution_count": 21,
     "metadata": {},
     "output_type": "execute_result"
    }
   ],
   "source": [
    "random.random()"
   ]
  },
  {
   "cell_type": "code",
   "execution_count": 32,
   "id": "dac04794",
   "metadata": {},
   "outputs": [
    {
     "data": {
      "text/plain": [
       "5"
      ]
     },
     "execution_count": 32,
     "metadata": {},
     "output_type": "execute_result"
    }
   ],
   "source": [
    "random.randint(1,6)"
   ]
  },
  {
   "cell_type": "code",
   "execution_count": 35,
   "id": "d1141544",
   "metadata": {},
   "outputs": [
    {
     "name": "stdout",
     "output_type": "stream",
     "text": [
      "6\n",
      "2\n",
      "6\n",
      "2\n",
      "3\n"
     ]
    }
   ],
   "source": [
    "import random\n",
    "\n",
    "while True :\n",
    "    i = random.randint(1,6)\n",
    "    print(i)\n",
    "    if i == 3 :\n",
    "        break"
   ]
  },
  {
   "cell_type": "code",
   "execution_count": 4,
   "id": "d2eece80",
   "metadata": {},
   "outputs": [
    {
     "name": "stdout",
     "output_type": "stream",
     "text": [
      "1의 갯수: 997\n",
      "2의 갯수: 977\n",
      "3의 갯수: 1037\n",
      "4의 갯수: 1006\n",
      "5의 갯수: 1001\n",
      "6의 갯수: 982\n"
     ]
    }
   ],
   "source": [
    "import random\n",
    "\n",
    "count1 = count2 = count3 = count4 = count5 = count6 = 0\n",
    "i = 6000\n",
    "while i > 0 :\n",
    "    num = random.randint(1, 6)\n",
    "    if num == 1 :\n",
    "        count1 += 1\n",
    "    elif num == 2 :\n",
    "        count2 += 1\n",
    "    elif num == 3 :\n",
    "        count3 += 1\n",
    "    elif num == 4 :\n",
    "        count4 += 1\n",
    "    elif num == 5 :\n",
    "        count5 += 1\n",
    "    else :\n",
    "        count6 += 1\n",
    "    i -= 1\n",
    "    \n",
    "print('1의 갯수:', count1)\n",
    "print('2의 갯수:', count2)\n",
    "print('3의 갯수:', count3)\n",
    "print('4의 갯수:', count4)\n",
    "print('5의 갯수:', count5)\n",
    "print('6의 갯수:', count6)"
   ]
  },
  {
   "cell_type": "code",
   "execution_count": 38,
   "id": "879c53cc",
   "metadata": {},
   "outputs": [
    {
     "name": "stdout",
     "output_type": "stream",
     "text": [
      "1의 갯수: 1004\n",
      "2의 갯수: 1007\n",
      "3의 갯수: 972\n",
      "4의 갯수: 1024\n",
      "5의 갯수: 998\n",
      "6의 갯수: 995\n"
     ]
    }
   ],
   "source": [
    "import random\n",
    "\n",
    "count = [0, 0, 0, 0, 0, 0]\n",
    "i = 6000\n",
    "\n",
    "while i > 0 :\n",
    "    num = random.randint(1,6)\n",
    "    count[num - 1] += 1\n",
    "    i -= 1\n",
    "\n",
    "for j in range(6) :\n",
    "    print(str(j + 1) + '의 갯수:',  count[j])"
   ]
  },
  {
   "cell_type": "code",
   "execution_count": 40,
   "id": "87272790",
   "metadata": {},
   "outputs": [
    {
     "name": "stdout",
     "output_type": "stream",
     "text": [
      "내 점수: 9\n",
      "3승 3무 4패\n"
     ]
    }
   ],
   "source": [
    "import random\n",
    "\n",
    "game = 10\n",
    "score = 0\n",
    "win = draw = lose = 0\n",
    "\n",
    "while game > 0 :\n",
    "    opp = random.randint(1,6)\n",
    "    me  = random.randint(1,6)\n",
    "    if me > opp :\n",
    "        score += 2\n",
    "        win += 1\n",
    "    elif me == opp :\n",
    "        score += 1\n",
    "        draw += 1\n",
    "    else :\n",
    "        lose += 1\n",
    "    game -= 1\n",
    "\n",
    "print('내 점수:', score)\n",
    "print(str(win) + '승', str(draw) + '무', str(lose) + '패')"
   ]
  },
  {
   "cell_type": "code",
   "execution_count": 1,
   "id": "053bf281",
   "metadata": {},
   "outputs": [
    {
     "name": "stdout",
     "output_type": "stream",
     "text": [
      "2\n",
      "4\n",
      "6\n",
      "8\n",
      "10\n"
     ]
    }
   ],
   "source": [
    "for i in range(1, 11) :\n",
    "    if i % 2 == 0 :\n",
    "        print(i)"
   ]
  },
  {
   "cell_type": "code",
   "execution_count": 43,
   "id": "d2a706ea",
   "metadata": {},
   "outputs": [
    {
     "name": "stdout",
     "output_type": "stream",
     "text": [
      "2\n",
      "4\n",
      "6\n",
      "8\n",
      "10\n"
     ]
    }
   ],
   "source": [
    "for i in range(1, 11) :\n",
    "    if i % 2 != 0 :\n",
    "        continue\n",
    "    print(i)       "
   ]
  },
  {
   "cell_type": "code",
   "execution_count": 5,
   "id": "77c4de10",
   "metadata": {},
   "outputs": [
    {
     "name": "stdout",
     "output_type": "stream",
     "text": [
      "짝수를 구할 마지막 수를 입력하세요: 100\n",
      "1\n",
      "3\n",
      "5\n",
      "7\n",
      "9\n",
      "11\n",
      "13\n",
      "15\n",
      "17\n",
      "19\n",
      "21\n",
      "23\n",
      "25\n",
      "27\n",
      "29\n",
      "31\n",
      "33\n",
      "35\n",
      "37\n",
      "39\n",
      "41\n",
      "43\n",
      "45\n",
      "47\n",
      "49\n",
      "51\n",
      "53\n",
      "55\n",
      "57\n",
      "59\n",
      "61\n",
      "63\n",
      "65\n",
      "67\n",
      "69\n",
      "71\n",
      "73\n",
      "75\n",
      "77\n",
      "79\n",
      "81\n",
      "83\n",
      "85\n",
      "87\n",
      "89\n",
      "91\n",
      "93\n",
      "95\n",
      "97\n",
      "99\n"
     ]
    }
   ],
   "source": [
    "count = int(input('짝수를 구할 마지막 수를 입력하세요: '))\n",
    "for i in range(1, count + 1) :\n",
    "    if i % 2 == 0 :\n",
    "        continue\n",
    "    print(i)"
   ]
  },
  {
   "cell_type": "code",
   "execution_count": null,
   "id": "8106ceab",
   "metadata": {},
   "outputs": [],
   "source": []
  }
 ],
 "metadata": {
  "kernelspec": {
   "display_name": "Python 3 (ipykernel)",
   "language": "python",
   "name": "python3"
  },
  "language_info": {
   "codemirror_mode": {
    "name": "ipython",
    "version": 3
   },
   "file_extension": ".py",
   "mimetype": "text/x-python",
   "name": "python",
   "nbconvert_exporter": "python",
   "pygments_lexer": "ipython3",
   "version": "3.9.7"
  }
 },
 "nbformat": 4,
 "nbformat_minor": 5
}
