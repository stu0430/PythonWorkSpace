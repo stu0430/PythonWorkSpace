{
 "cells": [
  {
   "cell_type": "markdown",
   "id": "987af88e",
   "metadata": {},
   "source": [
    "### Hello, world 테스트\n",
    "* 간단한 테스트입니다"
   ]
  },
  {
   "cell_type": "code",
   "execution_count": 3,
   "id": "75a10307",
   "metadata": {},
   "outputs": [
    {
     "name": "stdout",
     "output_type": "stream",
     "text": [
      "Hello, world!\n"
     ]
    }
   ],
   "source": [
    "print(\"Hello, world!\")"
   ]
  }
 ],
 "metadata": {
  "kernelspec": {
   "display_name": "Python 3 (ipykernel)",
   "language": "python",
   "name": "python3"
  },
  "language_info": {
   "codemirror_mode": {
    "name": "ipython",
    "version": 3
   },
   "file_extension": ".py",
   "mimetype": "text/x-python",
   "name": "python",
   "nbconvert_exporter": "python",
   "pygments_lexer": "ipython3",
   "version": "3.9.7"
  }
 },
 "nbformat": 4,
 "nbformat_minor": 5
}
