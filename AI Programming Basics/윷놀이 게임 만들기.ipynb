{
 "cells": [
  {
   "cell_type": "code",
   "execution_count": 3,
   "metadata": {},
   "outputs": [
    {
     "name": "stdout",
     "output_type": "stream",
     "text": [
      "상대방이 윷을 던졌습니다.\n",
      "걸! 3점을 흭득하여 상대방의 점수는 현재 3점입니다.\n",
      "다음은 당신 차례입니다.\n",
      "당신이 윷을 던졌습니다.\n",
      "걸! 3점을 흭득하여 당신의 점수는 현재 3점입니다.\n",
      "다음은 상대방 차례입니다.\n",
      "상대방이 윷을 던졌습니다.\n",
      "도! 1점을 흭득하여 상대방의 점수는 현재 4점입니다.\n",
      "다음은 당신 차례입니다.\n",
      "당신이 윷을 던졌습니다.\n",
      "도! 1점을 흭득하여 당신의 점수는 현재 4점입니다.\n",
      "다음은 상대방 차례입니다.\n",
      "상대방이 윷을 던졌습니다.\n",
      "모! 5점을 흭득하여 상대방의 점수는 현재 9점입니다.\n",
      "한 번 더 던질 기회가 주어집니다.\n",
      "상대방이 윷을 던졌습니다.\n",
      "개! 2점을 흭득하여 상대방의 점수는 현재 11점입니다.\n",
      "다음은 당신 차례입니다.\n",
      "당신이 윷을 던졌습니다.\n",
      "걸! 3점을 흭득하여 당신의 점수는 현재 7점입니다.\n",
      "다음은 상대방 차례입니다.\n",
      "상대방이 윷을 던졌습니다.\n",
      "도! 1점을 흭득하여 상대방의 점수는 현재 12점입니다.\n",
      "다음은 당신 차례입니다.\n",
      "당신이 윷을 던졌습니다.\n",
      "도! 1점을 흭득하여 당신의 점수는 현재 8점입니다.\n",
      "다음은 상대방 차례입니다.\n",
      "상대방이 윷을 던졌습니다.\n",
      "윷! 4점을 흭득하여 상대방의 점수는 현재 16점입니다.\n",
      "한 번 더 던질 기회가 주어집니다.\n",
      "상대방이 윷을 던졌습니다.\n",
      "윷! 4점을 흭득하여 상대방의 점수는 현재 20점입니다.\n",
      "한 번 더 던질 기회가 주어집니다.\n",
      "상대방이 윷을 던졌습니다.\n",
      "걸! 3점을 흭득하여 상대방의 점수는 현재 23점입니다.\n",
      "다음은 당신 차례입니다.\n",
      "당신이 윷을 던졌습니다.\n",
      "도! 1점을 흭득하여 당신의 점수는 현재 9점입니다.\n",
      "다음은 상대방 차례입니다.\n",
      "상대방이 윷을 던졌습니다.\n",
      "걸! 3점을 흭득하여 상대방의 점수는 현재 26점입니다.\n",
      "다음은 당신 차례입니다.\n",
      "당신이 윷을 던졌습니다.\n",
      "걸! 3점을 흭득하여 당신의 점수는 현재 12점입니다.\n",
      "다음은 상대방 차례입니다.\n",
      "상대방이 윷을 던졌습니다.\n",
      "개! 2점을 흭득하여 상대방의 점수는 현재 28점입니다.\n",
      "다음은 당신 차례입니다.\n",
      "당신이 윷을 던졌습니다.\n",
      "개! 2점을 흭득하여 당신의 점수는 현재 14점입니다.\n",
      "다음은 상대방 차례입니다.\n",
      "상대방이 윷을 던졌습니다.\n",
      "걸! 3점을 흭득하여 상대방의 점수는 현재 31점입니다.\n",
      "상대방이 이겼습니다! 당신의 점수는 14점 입니다. \n"
     ]
    }
   ],
   "source": [
    "import random\n",
    "\n",
    "gamers = ('상대방', '당신')\n",
    "turn = 0\n",
    "score = [0, 0]\n",
    "\n",
    "value = ('도', '개', '걸', '윷', '모')\n",
    "\n",
    "end_score = 30\n",
    "\n",
    "while True : \n",
    "    print(gamers[turn] + '이 윷을 던졌습니다.')\n",
    "\n",
    "    roll = random.randint(1, 5)\n",
    "    score[turn] += roll\n",
    "\n",
    "    print(value[roll - 1] + '! ' + str(roll) + '점을 흭득하여 ' +\n",
    "          gamers[turn] + '의 점수는 현재 ' + str(score[turn]) + '점입니다.')\n",
    "    \n",
    "    if score[turn] >= end_score :\n",
    "        print(gamers[turn] + '이 이겼습니다! ', end = '')\n",
    "        turn = (turn + 1) % 2\n",
    "        print(gamers[turn] + '의 점수는 ' + str(score[turn]) + '점입니다. ')\n",
    "        break\n",
    "    if roll >= 4 :\n",
    "        print('한 번 더 던질 기회가 주어집니다.')\n",
    "    else :\n",
    "        turn = (turn + 1) % 2\n",
    "        roll = 0\n",
    "        print('다음은 ' + gamers[turn] + ' 차례입니다.')\n",
    "\n",
    "\n"
   ]
  },
  {
   "cell_type": "code",
   "execution_count": null,
   "metadata": {},
   "outputs": [],
   "source": []
  }
 ],
 "metadata": {
  "interpreter": {
   "hash": "ca7b62161f3b9e3222d6fb67745e01a946a6552e36cbdcc714dadc2ba14328d1"
  },
  "kernelspec": {
   "display_name": "Python 3.9.8 64-bit",
   "language": "python",
   "name": "python3"
  },
  "language_info": {
   "codemirror_mode": {
    "name": "ipython",
    "version": 3
   },
   "file_extension": ".py",
   "mimetype": "text/x-python",
   "name": "python",
   "nbconvert_exporter": "python",
   "pygments_lexer": "ipython3",
   "version": "3.9.8"
  },
  "orig_nbformat": 4
 },
 "nbformat": 4,
 "nbformat_minor": 2
}
