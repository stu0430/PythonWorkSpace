{
 "cells": [
  {
   "cell_type": "code",
   "execution_count": 7,
   "id": "bb3778a8",
   "metadata": {},
   "outputs": [
    {
     "name": "stdout",
     "output_type": "stream",
     "text": [
      "Hello, world! 10\n",
      "Hello, world! 9\n",
      "Hello, world! 8\n",
      "Hello, world! 7\n",
      "Hello, world! 6\n",
      "Hello, world! 5\n",
      "Hello, world! 4\n",
      "Hello, world! 3\n",
      "Hello, world! 2\n",
      "Hello, world! 1\n"
     ]
    }
   ],
   "source": [
    "for i in range(10, 0, -1) :\n",
    "    print('Hello, world!', i)"
   ]
  },
  {
   "cell_type": "code",
   "execution_count": 8,
   "id": "7b3be50d",
   "metadata": {},
   "outputs": [
    {
     "name": "stdout",
     "output_type": "stream",
     "text": [
      "Hello, world! 9\n",
      "Hello, world! 8\n",
      "Hello, world! 7\n",
      "Hello, world! 6\n",
      "Hello, world! 5\n",
      "Hello, world! 4\n",
      "Hello, world! 3\n",
      "Hello, world! 2\n",
      "Hello, world! 1\n",
      "Hello, world! 0\n"
     ]
    }
   ],
   "source": [
    "for i in reversed(range(10)) :\n",
    "    print('Hello, world!', i)"
   ]
  },
  {
   "cell_type": "code",
   "execution_count": 9,
   "id": "0040f17f",
   "metadata": {},
   "outputs": [
    {
     "name": "stdout",
     "output_type": "stream",
     "text": [
      "Hello, world! 1\n",
      "Hello, world! 2\n",
      "Hello, world! 3\n",
      "Hello, world! 4\n",
      "Hello, world! 5\n",
      "Hello, world! 6\n",
      "Hello, world! 7\n",
      "Hello, world! 8\n",
      "Hello, world! 9\n",
      "Hello, world! 10\n"
     ]
    }
   ],
   "source": [
    "for i in reversed(range(10, 0, -1)) :\n",
    "    print('Hello, world!', i)"
   ]
  },
  {
   "cell_type": "code",
   "execution_count": 10,
   "id": "d121e7c2",
   "metadata": {},
   "outputs": [
    {
     "name": "stdout",
     "output_type": "stream",
     "text": [
      "반복할 횟수를 입력하세요.5\n"
     ]
    }
   ],
   "source": [
    "count = int(input('반복할 횟수를 입력하세요.'))"
   ]
  },
  {
   "cell_type": "code",
   "execution_count": 11,
   "id": "b2997d9f",
   "metadata": {},
   "outputs": [
    {
     "name": "stdout",
     "output_type": "stream",
     "text": [
      "Hello, world!\n",
      "Hello, world!\n",
      "Hello, world!\n",
      "Hello, world!\n",
      "Hello, world!\n"
     ]
    }
   ],
   "source": [
    "for i in range(count) :\n",
    "    print('Hello, world!')"
   ]
  },
  {
   "cell_type": "code",
   "execution_count": 12,
   "id": "d6b21586",
   "metadata": {},
   "outputs": [],
   "source": [
    "a = [10, 20, 30, 40, 50]"
   ]
  },
  {
   "cell_type": "code",
   "execution_count": 13,
   "id": "c2bec27b",
   "metadata": {},
   "outputs": [
    {
     "name": "stdout",
     "output_type": "stream",
     "text": [
      "10\n",
      "20\n",
      "30\n",
      "40\n",
      "50\n"
     ]
    }
   ],
   "source": [
    "for i in a :\n",
    "    print(i)"
   ]
  },
  {
   "cell_type": "code",
   "execution_count": 16,
   "id": "a4fad060",
   "metadata": {},
   "outputs": [
    {
     "name": "stdout",
     "output_type": "stream",
     "text": [
      "합은 150\n"
     ]
    }
   ],
   "source": [
    "hap = 0\n",
    "for i in a :\n",
    "    hap += i\n",
    "print('합은',hap)"
   ]
  },
  {
   "cell_type": "code",
   "execution_count": 17,
   "id": "70edc41a",
   "metadata": {},
   "outputs": [],
   "source": [
    "fruits = ('apple', 'orange', 'grape')"
   ]
  },
  {
   "cell_type": "code",
   "execution_count": 18,
   "id": "09fff78f",
   "metadata": {},
   "outputs": [
    {
     "name": "stdout",
     "output_type": "stream",
     "text": [
      "apple\n",
      "orange\n",
      "grape\n"
     ]
    }
   ],
   "source": [
    "for fruit in fruits :\n",
    "    print(fruit)"
   ]
  },
  {
   "cell_type": "code",
   "execution_count": 22,
   "id": "9c1f3030",
   "metadata": {},
   "outputs": [
    {
     "name": "stdout",
     "output_type": "stream",
     "text": [
      "n,o,h,t,y,P"
     ]
    }
   ],
   "source": [
    "for letter in reversed('Python') :\n",
    "    print(letter, end = '')\n",
    "    if letter != 'P' :\n",
    "        print(',', end = '')"
   ]
  },
  {
   "cell_type": "code",
   "execution_count": 27,
   "id": "926524a0",
   "metadata": {},
   "outputs": [
    {
     "name": "stdout",
     "output_type": "stream",
     "text": [
      "합을 구할 숫자 n을 입력하세요: 10\n",
      "1부터 10 까지의 합은 55 입니다.\n"
     ]
    }
   ],
   "source": [
    "n = int(input('합을 구할 숫자 n을 입력하세요: '))\n",
    "sigma = 0\n",
    "for i in range(1, n + 1) :\n",
    "    sigma += i\n",
    "print('1부터', str(n), '까지의 합은', str(sigma), '입니다.')"
   ]
  },
  {
   "cell_type": "code",
   "execution_count": null,
   "id": "3bd2e6f3",
   "metadata": {},
   "outputs": [],
   "source": []
  }
 ],
 "metadata": {
  "kernelspec": {
   "display_name": "Python 3 (ipykernel)",
   "language": "python",
   "name": "python3"
  },
  "language_info": {
   "codemirror_mode": {
    "name": "ipython",
    "version": 3
   },
   "file_extension": ".py",
   "mimetype": "text/x-python",
   "name": "python",
   "nbconvert_exporter": "python",
   "pygments_lexer": "ipython3",
   "version": "3.9.7"
  }
 },
 "nbformat": 4,
 "nbformat_minor": 5
}
