{
 "cells": [
  {
   "cell_type": "markdown",
   "id": "5b6cd804",
   "metadata": {},
   "source": [
    "**이차방정식의 해 구하기/0407/20220785/이상권**"
   ]
  },
  {
   "cell_type": "code",
   "execution_count": 38,
   "id": "2e1db503",
   "metadata": {
    "scrolled": true
   },
   "outputs": [
    {
     "name": "stdout",
     "output_type": "stream",
     "text": [
      "[이차방정식의 실수 해 계산 프로그램]\n",
      "====================================\n",
      "x에 대한 이차방정식 ax^2 + bx + c = 0 에서\n",
      "상수 a, b, c 값을 차례로 입력하세요: 2, 2, -4\n",
      "입력한 이차방정식: 2x^2 + 2x - 4 = 0은\n",
      "------------------------------------\n",
      "2개의 실수 해가 존재합니다: x = 1.0 , x = -2.0\n",
      "====================================\n"
     ]
    }
   ],
   "source": [
    "#프로그램 제목\n",
    "print('''[이차방정식의 실수 해 계산 프로그램]\n",
    "====================================''')\n",
    "\n",
    "#상수 입력\n",
    "a, b, c = map(int, input('''x에 대한 이차방정식 ax^2 + bx + c = 0 에서\n",
    "상수 a, b, c 값을 차례로 입력하세요: ''').split(', '))\n",
    "\n",
    "#입력받은 방정식 출력\n",
    "equ = str(a) + 'x^2'\n",
    "\n",
    "if b < 0:  #b가 음수일 시 +를 -로 바꿈\n",
    "    equ += ' - ' + str(-b) + 'x'\n",
    "else:\n",
    "    equ += ' + ' + str(b) + 'x'    \n",
    "    \n",
    "if c < 0:  #c가 음수일 시 +를 -로 바꿈\n",
    "    equ += ' - ' + str(-c)\n",
    "else:\n",
    "    equ += ' + ' + str(c)\n",
    "    \n",
    "equ += ' = 0'\n",
    "print(\"입력한 이차방정식: \", equ, \"은\", \"\\n------------------------------------\", sep = '')\n",
    "\n",
    "#실수 해 찾기\n",
    "D = b**2 - 4*a*c #판별식\n",
    "if D > 0 : #실근 2개\n",
    "    x_1 = (-b + D**0.5) / (2*a)\n",
    "    x_2 = (-b - D**0.5) / (2*a)\n",
    "    print('2개의 실수 해가 존재합니다:', 'x =', x_1, ',', 'x =', x_2)\n",
    "elif D == 0 : #실근 1개 (중근)\n",
    "    x = -b / (2*a)\n",
    "    print('1개의 실수 해가 존재합니다:', 'x =', x)\n",
    "else : #허근\n",
    "    print('실수 해가 존재하지 않습니다.')\n",
    "print('====================================')"
   ]
  },
  {
   "cell_type": "markdown",
   "id": "01f47d05",
   "metadata": {},
   "source": [
    "**코딩 후기: 음수를 입력받아 방정식을 출력할 때  4x^2 + 3x + -2 처럼 부자연스럽게  나오는 것을 해결하는게 힘들었던 것 같다.**"
   ]
  }
 ],
 "metadata": {
  "kernelspec": {
   "display_name": "Python 3 (ipykernel)",
   "language": "python",
   "name": "python3"
  },
  "language_info": {
   "codemirror_mode": {
    "name": "ipython",
    "version": 3
   },
   "file_extension": ".py",
   "mimetype": "text/x-python",
   "name": "python",
   "nbconvert_exporter": "python",
   "pygments_lexer": "ipython3",
   "version": "3.9.7"
  }
 },
 "nbformat": 4,
 "nbformat_minor": 5
}
