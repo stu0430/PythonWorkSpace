{
 "cells": [
  {
   "attachments": {},
   "cell_type": "markdown",
   "id": "5b6cd804",
   "metadata": {},
   "source": [
    "**이차방정식의 해 구하기/0115/20220785/이상권**"
   ]
  },
  {
   "cell_type": "code",
   "execution_count": 1,
   "id": "2e1db503",
   "metadata": {
    "scrolled": true
   },
   "outputs": [
    {
     "name": "stdout",
     "output_type": "stream",
     "text": [
      "[이차방정식의 실수 해 계산 프로그램]\n",
      "====================================\n",
      "x에 대한 이차방정식 ax^2 + bx + c = 0 에서\n",
      "입력한 이차방정식 : x^2 + x + 1.0 = 0은\n",
      "------------------------------------\n",
      "실수 해가 존재하지 않습니다.\n",
      "====================================\n"
     ]
    }
   ],
   "source": [
    "#프로그램 제목\n",
    "print('[이차방정식의 실수 해 계산 프로그램]')\n",
    "print('====================================')\n",
    "\n",
    "print('x에 대한 이차방정식 ax^2 + bx + c = 0 에서')\n",
    "\n",
    "#상수 입력\n",
    "a, b, c = map(float, input('상수 a, b, c 값을 차례로 입력하세요 : ').split(','))\n",
    "\n",
    "if a == 0:\n",
    "    print('a 값이 0이므로 이차방정식이 아닙니다.')\n",
    "    \n",
    "else:\n",
    "    #입력받은 방정식 출력\n",
    "    if a == 1:\n",
    "        equ = 'x^2'\n",
    "    elif a == -1:\n",
    "        equ = '-x^2'\n",
    "    else:\n",
    "        equ = f'{str(a)}x^2'\n",
    "\n",
    "    if b == 1:\n",
    "        equ += ' + x'\n",
    "    elif b == -1:\n",
    "        equ += ' - x'\n",
    "    else:\n",
    "        if b < 0:  #b가 음수일 시 +를 -로 바꿈\n",
    "            equ += f' - {str(-b)}x'\n",
    "        else:\n",
    "            equ += f' + {str(b)}x'    \n",
    "\n",
    "    if c < 0:  #c가 음수일 시 +를 -로 바꿈\n",
    "        equ += f' - {str(-c)}'\n",
    "    else:\n",
    "        equ += f' + {str(c)}'\n",
    "\n",
    "    equ += ' = 0'\n",
    "\n",
    "    print(f'입력한 이차방정식 : {equ}은')\n",
    "    print('------------------------------------')\n",
    "\n",
    "    #실수 해 찾기\n",
    "    D = b ** 2 - 4 * a * c #판별식\n",
    "\n",
    "    if D > 0 : #실근 2개\n",
    "        x_1 = (-b + D ** 0.5) / (2 * a)\n",
    "        x_2 = (-b - D ** 0.5) / (2 * a)\n",
    "        print(f'2개의 실수 해가 존재합니다 : x = {x_1} , x = {x_2}')\n",
    "\n",
    "    elif D == 0 : #실근 1개 (중근)\n",
    "        x = -b / (2 * a)\n",
    "        print(f'1개의 실수 해가 존재합니다 : x = {x}')\n",
    "\n",
    "    else : #허근\n",
    "        print('실수 해가 존재하지 않습니다.')\n",
    "\n",
    "print('====================================')"
   ]
  }
 ],
 "metadata": {
  "kernelspec": {
   "display_name": "Python 3 (ipykernel)",
   "language": "python",
   "name": "python3"
  },
  "language_info": {
   "codemirror_mode": {
    "name": "ipython",
    "version": 3
   },
   "file_extension": ".py",
   "mimetype": "text/x-python",
   "name": "python",
   "nbconvert_exporter": "python",
   "pygments_lexer": "ipython3",
   "version": "3.9.8"
  },
  "vscode": {
   "interpreter": {
    "hash": "ca7b62161f3b9e3222d6fb67745e01a946a6552e36cbdcc714dadc2ba14328d1"
   }
  }
 },
 "nbformat": 4,
 "nbformat_minor": 5
}
