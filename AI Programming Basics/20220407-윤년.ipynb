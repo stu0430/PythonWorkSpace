{
 "cells": [
  {
   "cell_type": "code",
   "execution_count": 5,
   "id": "4579d07d",
   "metadata": {},
   "outputs": [
    {
     "name": "stdout",
     "output_type": "stream",
     "text": [
      "년도를 입력하세요:2000\n",
      "2000년은 윤년입니다.\n"
     ]
    }
   ],
   "source": [
    "year = int(input('년도를 입력하세요:'))\n",
    "if year <= 0 :\n",
    "    print('양의 정수를 입력하세요.')\n",
    "else :\n",
    "    if year % 4 == 0 :\n",
    "        if year % 100 == 0 :\n",
    "            if year % 400 == 0 :\n",
    "                print(year, '년은 윤년입니다.', sep = \"\")\n",
    "            else :   \n",
    "                print(year, '년은 평년입니다.', sep = \"\")\n",
    "        else :\n",
    "            print(year, '년은 윤년입니다.', sep = \"\")\n",
    "    else :\n",
    "        print(year, '년은 평년입니다.', sep = \"\")"
   ]
  },
  {
   "cell_type": "code",
   "execution_count": 4,
   "id": "bc2b758c",
   "metadata": {},
   "outputs": [
    {
     "name": "stdout",
     "output_type": "stream",
     "text": [
      "2100년은 평년입니다.\n"
     ]
    }
   ],
   "source": [
    "if year <= 0 :\n",
    "    print('양의 정수를 입력하세요.')\n",
    "elif year % 400 == 0 :\n",
    "    print(year, '년은 윤년입니다.', sep = \"\")\n",
    "elif year % 100 == 0 :\n",
    "    print(year, '년은 평년입니다.', sep = \"\")\n",
    "elif year % 4 == 0 :\n",
    "    print(year, '년은 윤년입니다.', sep = \"\")\n",
    "else :\n",
    "    print(year, '년은 평년입니다.', sep = \"\")"
   ]
  },
  {
   "cell_type": "code",
   "execution_count": null,
   "id": "3c7520b0",
   "metadata": {},
   "outputs": [],
   "source": []
  }
 ],
 "metadata": {
  "kernelspec": {
   "display_name": "Python 3 (ipykernel)",
   "language": "python",
   "name": "python3"
  },
  "language_info": {
   "codemirror_mode": {
    "name": "ipython",
    "version": 3
   },
   "file_extension": ".py",
   "mimetype": "text/x-python",
   "name": "python",
   "nbconvert_exporter": "python",
   "pygments_lexer": "ipython3",
   "version": "3.9.7"
  }
 },
 "nbformat": 4,
 "nbformat_minor": 5
}
