{
 "cells": [
  {
   "cell_type": "code",
   "execution_count": 2,
   "id": "41b920f9",
   "metadata": {},
   "outputs": [],
   "source": [
    "a = {\"a\":10, \"b\":20, \"c\":30, \"a\": 15}"
   ]
  },
  {
   "cell_type": "code",
   "execution_count": 3,
   "id": "5ea843bb",
   "metadata": {},
   "outputs": [
    {
     "data": {
      "text/plain": [
       "{'a': 15, 'b': 20, 'c': 30}"
      ]
     },
     "execution_count": 3,
     "metadata": {},
     "output_type": "execute_result"
    }
   ],
   "source": [
    "a"
   ]
  },
  {
   "cell_type": "code",
   "execution_count": 6,
   "id": "9c44444f",
   "metadata": {},
   "outputs": [],
   "source": [
    "students = {'홍길동':{'나이':20, '성별':'남'}, '아무개':{'나이':21, '성별':'여'}}"
   ]
  },
  {
   "cell_type": "code",
   "execution_count": 7,
   "id": "81f9bb84",
   "metadata": {},
   "outputs": [
    {
     "data": {
      "text/plain": [
       "{'홍길동': {'나이': 20, '성별': '남'}, '아무개': {'나이': 21, '성별': '여'}}"
      ]
     },
     "execution_count": 7,
     "metadata": {},
     "output_type": "execute_result"
    }
   ],
   "source": [
    "students"
   ]
  },
  {
   "cell_type": "code",
   "execution_count": 8,
   "id": "125d9800",
   "metadata": {},
   "outputs": [],
   "source": [
    "a = {}"
   ]
  },
  {
   "cell_type": "code",
   "execution_count": 9,
   "id": "ea346af5",
   "metadata": {
    "scrolled": true
   },
   "outputs": [
    {
     "data": {
      "text/plain": [
       "{}"
      ]
     },
     "execution_count": 9,
     "metadata": {},
     "output_type": "execute_result"
    }
   ],
   "source": [
    "a"
   ]
  },
  {
   "cell_type": "code",
   "execution_count": 10,
   "id": "90a092f2",
   "metadata": {},
   "outputs": [
    {
     "data": {
      "text/plain": [
       "dict"
      ]
     },
     "execution_count": 10,
     "metadata": {},
     "output_type": "execute_result"
    }
   ],
   "source": [
    "type(a)"
   ]
  },
  {
   "cell_type": "code",
   "execution_count": 11,
   "id": "0b62687b",
   "metadata": {},
   "outputs": [],
   "source": [
    "a = dict()"
   ]
  },
  {
   "cell_type": "code",
   "execution_count": 12,
   "id": "01b4a931",
   "metadata": {},
   "outputs": [
    {
     "data": {
      "text/plain": [
       "{}"
      ]
     },
     "execution_count": 12,
     "metadata": {},
     "output_type": "execute_result"
    }
   ],
   "source": [
    "a"
   ]
  },
  {
   "cell_type": "code",
   "execution_count": 13,
   "id": "8a76bb10",
   "metadata": {},
   "outputs": [],
   "source": [
    "x = dict(이름 = '홍길동', 나이 = 20)"
   ]
  },
  {
   "cell_type": "code",
   "execution_count": 14,
   "id": "5c27f19a",
   "metadata": {},
   "outputs": [
    {
     "data": {
      "text/plain": [
       "{'이름': '홍길동', '나이': 20}"
      ]
     },
     "execution_count": 14,
     "metadata": {},
     "output_type": "execute_result"
    }
   ],
   "source": [
    "x"
   ]
  },
  {
   "cell_type": "code",
   "execution_count": 15,
   "id": "a574fbcf",
   "metadata": {},
   "outputs": [],
   "source": [
    "y = dict(zip(['name', 'age'],['홍길동', 20]))"
   ]
  },
  {
   "cell_type": "code",
   "execution_count": 16,
   "id": "350bdf2f",
   "metadata": {},
   "outputs": [
    {
     "data": {
      "text/plain": [
       "{'name': '홍길동', 'age': 20}"
      ]
     },
     "execution_count": 16,
     "metadata": {},
     "output_type": "execute_result"
    }
   ],
   "source": [
    "y"
   ]
  },
  {
   "cell_type": "code",
   "execution_count": 17,
   "id": "4d19c465",
   "metadata": {},
   "outputs": [],
   "source": [
    "y = dict([('name','홍길동'), ('age', 20)])"
   ]
  },
  {
   "cell_type": "code",
   "execution_count": 18,
   "id": "452bcb54",
   "metadata": {},
   "outputs": [
    {
     "data": {
      "text/plain": [
       "{'name': '홍길동', 'age': 20}"
      ]
     },
     "execution_count": 18,
     "metadata": {},
     "output_type": "execute_result"
    }
   ],
   "source": [
    "y"
   ]
  },
  {
   "cell_type": "code",
   "execution_count": 22,
   "id": "77f11d9b",
   "metadata": {},
   "outputs": [],
   "source": [
    "z = dict({'name': '홍길동', 'age': 20})"
   ]
  },
  {
   "cell_type": "code",
   "execution_count": 23,
   "id": "edc46d8e",
   "metadata": {},
   "outputs": [
    {
     "data": {
      "text/plain": [
       "{'name': '홍길동', 'age': 20}"
      ]
     },
     "execution_count": 23,
     "metadata": {},
     "output_type": "execute_result"
    }
   ],
   "source": [
    "z"
   ]
  },
  {
   "cell_type": "code",
   "execution_count": 25,
   "id": "286f2929",
   "metadata": {},
   "outputs": [],
   "source": [
    "z['name'] = '아무개'"
   ]
  },
  {
   "cell_type": "code",
   "execution_count": 26,
   "id": "28012f84",
   "metadata": {},
   "outputs": [
    {
     "data": {
      "text/plain": [
       "{'name': '아무개', 'age': 20}"
      ]
     },
     "execution_count": 26,
     "metadata": {},
     "output_type": "execute_result"
    }
   ],
   "source": [
    "z"
   ]
  },
  {
   "cell_type": "code",
   "execution_count": 27,
   "id": "e7ebe5ee",
   "metadata": {},
   "outputs": [],
   "source": [
    "z['height'] = 180"
   ]
  },
  {
   "cell_type": "code",
   "execution_count": 28,
   "id": "6f30f320",
   "metadata": {},
   "outputs": [
    {
     "data": {
      "text/plain": [
       "{'name': '아무개', 'age': 20, 'height': 180}"
      ]
     },
     "execution_count": 28,
     "metadata": {},
     "output_type": "execute_result"
    }
   ],
   "source": [
    "z"
   ]
  },
  {
   "cell_type": "code",
   "execution_count": 30,
   "id": "3a0726d4",
   "metadata": {},
   "outputs": [
    {
     "data": {
      "text/plain": [
       "True"
      ]
     },
     "execution_count": 30,
     "metadata": {},
     "output_type": "execute_result"
    }
   ],
   "source": [
    "'name' in z"
   ]
  },
  {
   "cell_type": "code",
   "execution_count": 31,
   "id": "9979dccd",
   "metadata": {},
   "outputs": [
    {
     "data": {
      "text/plain": [
       "True"
      ]
     },
     "execution_count": 31,
     "metadata": {},
     "output_type": "execute_result"
    }
   ],
   "source": [
    "'phone' not in z"
   ]
  },
  {
   "cell_type": "code",
   "execution_count": 32,
   "id": "c5ea3aa1",
   "metadata": {},
   "outputs": [
    {
     "data": {
      "text/plain": [
       "3"
      ]
     },
     "execution_count": 32,
     "metadata": {},
     "output_type": "execute_result"
    }
   ],
   "source": [
    "len(z)"
   ]
  },
  {
   "cell_type": "code",
   "execution_count": 33,
   "id": "696ab501",
   "metadata": {},
   "outputs": [
    {
     "data": {
      "text/plain": [
       "{'name': '아무개', 'age': 20, 'height': 180}"
      ]
     },
     "execution_count": 33,
     "metadata": {},
     "output_type": "execute_result"
    }
   ],
   "source": [
    "z"
   ]
  },
  {
   "cell_type": "code",
   "execution_count": 37,
   "id": "e00633dc",
   "metadata": {},
   "outputs": [],
   "source": [
    "mat = [[1,2,3,4],[5,6,7,8],[9,10,11,12],[13,14,15,16]]"
   ]
  },
  {
   "cell_type": "code",
   "execution_count": 38,
   "id": "44174f99",
   "metadata": {},
   "outputs": [
    {
     "data": {
      "text/plain": [
       "[[1, 2, 3, 4], [5, 6, 7, 8], [9, 10, 11, 12], [13, 14, 15, 16]]"
      ]
     },
     "execution_count": 38,
     "metadata": {},
     "output_type": "execute_result"
    }
   ],
   "source": [
    "mat"
   ]
  },
  {
   "cell_type": "code",
   "execution_count": 39,
   "id": "d75061d2",
   "metadata": {},
   "outputs": [
    {
     "data": {
      "text/plain": [
       "2"
      ]
     },
     "execution_count": 39,
     "metadata": {},
     "output_type": "execute_result"
    }
   ],
   "source": [
    "mat[0][1]"
   ]
  },
  {
   "cell_type": "code",
   "execution_count": 40,
   "id": "d3718f50",
   "metadata": {},
   "outputs": [
    {
     "data": {
      "text/plain": [
       "7"
      ]
     },
     "execution_count": 40,
     "metadata": {},
     "output_type": "execute_result"
    }
   ],
   "source": [
    "mat[1][2]"
   ]
  },
  {
   "cell_type": "code",
   "execution_count": 41,
   "id": "0b728555",
   "metadata": {},
   "outputs": [
    {
     "data": {
      "text/plain": [
       "{'홍길동': {'나이': 20, '성별': '남'}, '아무개': {'나이': 21, '성별': '여'}}"
      ]
     },
     "execution_count": 41,
     "metadata": {},
     "output_type": "execute_result"
    }
   ],
   "source": [
    "students"
   ]
  },
  {
   "cell_type": "code",
   "execution_count": 42,
   "id": "00c0f2a0",
   "metadata": {},
   "outputs": [
    {
     "data": {
      "text/plain": [
       "{'나이': 20, '성별': '남'}"
      ]
     },
     "execution_count": 42,
     "metadata": {},
     "output_type": "execute_result"
    }
   ],
   "source": [
    "students['홍길동']"
   ]
  },
  {
   "cell_type": "code",
   "execution_count": 43,
   "id": "d2586eba",
   "metadata": {},
   "outputs": [
    {
     "data": {
      "text/plain": [
       "20"
      ]
     },
     "execution_count": 43,
     "metadata": {},
     "output_type": "execute_result"
    }
   ],
   "source": [
    "students['홍길동']['나이']"
   ]
  },
  {
   "cell_type": "code",
   "execution_count": 56,
   "id": "b2fbb585",
   "metadata": {},
   "outputs": [
    {
     "name": "stdout",
     "output_type": "stream",
     "text": [
      "False\n"
     ]
    }
   ],
   "source": [
    "a = 3\n",
    "b = 5\n",
    "if a>b:\n",
    "    print('True')\n",
    "elif a==b:\n",
    "    print('Same')\n",
    "elif a<b:\n",
    "    print('False')"
   ]
  },
  {
   "cell_type": "code",
   "execution_count": 59,
   "id": "662afc17",
   "metadata": {},
   "outputs": [
    {
     "name": "stdout",
     "output_type": "stream",
     "text": [
      "20\n"
     ]
    }
   ],
   "source": [
    "if z['name'] == '아무개':\n",
    "    print(z['age'])"
   ]
  },
  {
   "cell_type": "code",
   "execution_count": null,
   "id": "20510d59",
   "metadata": {},
   "outputs": [],
   "source": []
  }
 ],
 "metadata": {
  "kernelspec": {
   "display_name": "Python 3 (ipykernel)",
   "language": "python",
   "name": "python3"
  },
  "language_info": {
   "codemirror_mode": {
    "name": "ipython",
    "version": 3
   },
   "file_extension": ".py",
   "mimetype": "text/x-python",
   "name": "python",
   "nbconvert_exporter": "python",
   "pygments_lexer": "ipython3",
   "version": "3.9.7"
  }
 },
 "nbformat": 4,
 "nbformat_minor": 5
}
