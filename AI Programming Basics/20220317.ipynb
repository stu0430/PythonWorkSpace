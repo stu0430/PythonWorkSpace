{
 "cells": [
  {
   "cell_type": "code",
   "execution_count": 2,
   "id": "798b59c6",
   "metadata": {},
   "outputs": [
    {
     "data": {
      "text/plain": [
       "1.5999999999999996"
      ]
     },
     "execution_count": 2,
     "metadata": {},
     "output_type": "execute_result"
    }
   ],
   "source": [
    "4.3 - 2.7"
   ]
  },
  {
   "cell_type": "code",
   "execution_count": 4,
   "id": "d515e9cd",
   "metadata": {},
   "outputs": [
    {
     "data": {
      "text/plain": [
       "1.2"
      ]
     },
     "execution_count": 4,
     "metadata": {},
     "output_type": "execute_result"
    }
   ],
   "source": [
    "float('1.2')"
   ]
  },
  {
   "cell_type": "code",
   "execution_count": 5,
   "id": "e8ad11b2",
   "metadata": {},
   "outputs": [
    {
     "data": {
      "text/plain": [
       "float"
      ]
     },
     "execution_count": 5,
     "metadata": {},
     "output_type": "execute_result"
    }
   ],
   "source": [
    "type(1.2)"
   ]
  },
  {
   "cell_type": "code",
   "execution_count": 6,
   "id": "454427c5",
   "metadata": {},
   "outputs": [
    {
     "data": {
      "text/plain": [
       "(1+2.4j)"
      ]
     },
     "execution_count": 6,
     "metadata": {},
     "output_type": "execute_result"
    }
   ],
   "source": [
    "1.0+2.4j"
   ]
  },
  {
   "cell_type": "code",
   "execution_count": 7,
   "id": "73e6d2f7",
   "metadata": {},
   "outputs": [
    {
     "data": {
      "text/plain": [
       "complex"
      ]
     },
     "execution_count": 7,
     "metadata": {},
     "output_type": "execute_result"
    }
   ],
   "source": [
    "type(1.0+2.4j)"
   ]
  },
  {
   "cell_type": "code",
   "execution_count": 8,
   "id": "5d2e42ea",
   "metadata": {},
   "outputs": [
    {
     "data": {
      "text/plain": [
       "(1+2.4j)"
      ]
     },
     "execution_count": 8,
     "metadata": {},
     "output_type": "execute_result"
    }
   ],
   "source": [
    "complex(1.0,2.4)"
   ]
  },
  {
   "cell_type": "code",
   "execution_count": 9,
   "id": "ad88fdeb",
   "metadata": {},
   "outputs": [],
   "source": [
    "count = 0"
   ]
  },
  {
   "cell_type": "code",
   "execution_count": 10,
   "id": "dcae9d55",
   "metadata": {},
   "outputs": [
    {
     "data": {
      "text/plain": [
       "0"
      ]
     },
     "execution_count": 10,
     "metadata": {},
     "output_type": "execute_result"
    }
   ],
   "source": [
    "count"
   ]
  },
  {
   "cell_type": "code",
   "execution_count": 12,
   "id": "6e1ca7eb",
   "metadata": {},
   "outputs": [],
   "source": [
    "Count = 1"
   ]
  },
  {
   "cell_type": "code",
   "execution_count": 14,
   "id": "c4b41ee2",
   "metadata": {},
   "outputs": [
    {
     "name": "stdout",
     "output_type": "stream",
     "text": [
      "1\n"
     ]
    }
   ],
   "source": [
    "print(Count)"
   ]
  },
  {
   "cell_type": "code",
   "execution_count": 15,
   "id": "441da30e",
   "metadata": {},
   "outputs": [],
   "source": [
    "a000 = 2"
   ]
  },
  {
   "cell_type": "code",
   "execution_count": 16,
   "id": "432b561d",
   "metadata": {},
   "outputs": [],
   "source": [
    "_ssdsd = 1"
   ]
  },
  {
   "cell_type": "code",
   "execution_count": 17,
   "id": "ac6d5e78",
   "metadata": {},
   "outputs": [],
   "source": [
    "string = \"Hello\""
   ]
  },
  {
   "cell_type": "code",
   "execution_count": 18,
   "id": "b21a3270",
   "metadata": {},
   "outputs": [
    {
     "data": {
      "text/plain": [
       "'Hello'"
      ]
     },
     "execution_count": 18,
     "metadata": {},
     "output_type": "execute_result"
    }
   ],
   "source": [
    "string"
   ]
  },
  {
   "cell_type": "code",
   "execution_count": 19,
   "id": "cfb90a79",
   "metadata": {},
   "outputs": [
    {
     "name": "stdout",
     "output_type": "stream",
     "text": [
      "Hello\n"
     ]
    }
   ],
   "source": [
    "print(string)"
   ]
  },
  {
   "cell_type": "code",
   "execution_count": 20,
   "id": "aa43eabe",
   "metadata": {},
   "outputs": [
    {
     "data": {
      "text/plain": [
       "str"
      ]
     },
     "execution_count": 20,
     "metadata": {},
     "output_type": "execute_result"
    }
   ],
   "source": [
    "type(string)"
   ]
  },
  {
   "cell_type": "code",
   "execution_count": 21,
   "id": "d6d99185",
   "metadata": {},
   "outputs": [],
   "source": [
    "x , y , z = 10, 20, 30"
   ]
  },
  {
   "cell_type": "code",
   "execution_count": 22,
   "id": "842002fc",
   "metadata": {},
   "outputs": [
    {
     "data": {
      "text/plain": [
       "10"
      ]
     },
     "execution_count": 22,
     "metadata": {},
     "output_type": "execute_result"
    }
   ],
   "source": [
    "x"
   ]
  },
  {
   "cell_type": "code",
   "execution_count": 23,
   "id": "e0b16133",
   "metadata": {},
   "outputs": [
    {
     "data": {
      "text/plain": [
       "20"
      ]
     },
     "execution_count": 23,
     "metadata": {},
     "output_type": "execute_result"
    }
   ],
   "source": [
    "y"
   ]
  },
  {
   "cell_type": "code",
   "execution_count": 24,
   "id": "4cd6f025",
   "metadata": {},
   "outputs": [
    {
     "data": {
      "text/plain": [
       "30"
      ]
     },
     "execution_count": 24,
     "metadata": {},
     "output_type": "execute_result"
    }
   ],
   "source": [
    "z"
   ]
  },
  {
   "cell_type": "code",
   "execution_count": 25,
   "id": "d244b8b1",
   "metadata": {},
   "outputs": [],
   "source": [
    "x = y = z =10"
   ]
  },
  {
   "cell_type": "code",
   "execution_count": 26,
   "id": "745cecb2",
   "metadata": {},
   "outputs": [
    {
     "data": {
      "text/plain": [
       "10"
      ]
     },
     "execution_count": 26,
     "metadata": {},
     "output_type": "execute_result"
    }
   ],
   "source": [
    "y"
   ]
  },
  {
   "cell_type": "code",
   "execution_count": 27,
   "id": "05517939",
   "metadata": {},
   "outputs": [],
   "source": [
    "x = 10\n",
    "y = 20"
   ]
  },
  {
   "cell_type": "code",
   "execution_count": 30,
   "id": "b38cb679",
   "metadata": {},
   "outputs": [
    {
     "data": {
      "text/plain": [
       "20"
      ]
     },
     "execution_count": 30,
     "metadata": {},
     "output_type": "execute_result"
    }
   ],
   "source": [
    "x"
   ]
  },
  {
   "cell_type": "code",
   "execution_count": 31,
   "id": "eb6f38c9",
   "metadata": {},
   "outputs": [
    {
     "data": {
      "text/plain": [
       "20"
      ]
     },
     "execution_count": 31,
     "metadata": {},
     "output_type": "execute_result"
    }
   ],
   "source": [
    "y"
   ]
  },
  {
   "cell_type": "code",
   "execution_count": 32,
   "id": "18080d9e",
   "metadata": {},
   "outputs": [],
   "source": [
    "temp = y\n",
    "y = x\n",
    "x = temp"
   ]
  },
  {
   "cell_type": "code",
   "execution_count": 33,
   "id": "964ebe9e",
   "metadata": {},
   "outputs": [
    {
     "data": {
      "text/plain": [
       "20"
      ]
     },
     "execution_count": 33,
     "metadata": {},
     "output_type": "execute_result"
    }
   ],
   "source": [
    "x"
   ]
  },
  {
   "cell_type": "code",
   "execution_count": 34,
   "id": "3a001c35",
   "metadata": {},
   "outputs": [
    {
     "data": {
      "text/plain": [
       "20"
      ]
     },
     "execution_count": 34,
     "metadata": {},
     "output_type": "execute_result"
    }
   ],
   "source": [
    "y"
   ]
  },
  {
   "cell_type": "code",
   "execution_count": 35,
   "id": "2da4ba92",
   "metadata": {},
   "outputs": [],
   "source": [
    "x , y = y , x"
   ]
  },
  {
   "cell_type": "code",
   "execution_count": 36,
   "id": "22cba851",
   "metadata": {},
   "outputs": [
    {
     "data": {
      "text/plain": [
       "20"
      ]
     },
     "execution_count": 36,
     "metadata": {},
     "output_type": "execute_result"
    }
   ],
   "source": [
    "x"
   ]
  },
  {
   "cell_type": "code",
   "execution_count": 38,
   "id": "60a9d62d",
   "metadata": {},
   "outputs": [
    {
     "data": {
      "text/plain": [
       "20"
      ]
     },
     "execution_count": 38,
     "metadata": {},
     "output_type": "execute_result"
    }
   ],
   "source": [
    "y"
   ]
  },
  {
   "cell_type": "code",
   "execution_count": 39,
   "id": "9b4a7210",
   "metadata": {},
   "outputs": [],
   "source": [
    "del x"
   ]
  },
  {
   "cell_type": "code",
   "execution_count": 40,
   "id": "6d6fd38d",
   "metadata": {},
   "outputs": [],
   "source": [
    "del y"
   ]
  },
  {
   "cell_type": "code",
   "execution_count": 42,
   "id": "d2e001c2",
   "metadata": {},
   "outputs": [],
   "source": [
    "a = None"
   ]
  },
  {
   "cell_type": "code",
   "execution_count": 43,
   "id": "e1606d2a",
   "metadata": {},
   "outputs": [],
   "source": [
    "a"
   ]
  },
  {
   "cell_type": "code",
   "execution_count": 44,
   "id": "568256e0",
   "metadata": {},
   "outputs": [
    {
     "name": "stdout",
     "output_type": "stream",
     "text": [
      "None\n"
     ]
    }
   ],
   "source": [
    "print(a)"
   ]
  },
  {
   "cell_type": "code",
   "execution_count": 45,
   "id": "63c1ba76",
   "metadata": {},
   "outputs": [],
   "source": [
    "x = 10\n",
    "y = 20\n",
    "x = y + 10"
   ]
  },
  {
   "cell_type": "code",
   "execution_count": 46,
   "id": "182f916e",
   "metadata": {},
   "outputs": [],
   "source": [
    "y = y + 10"
   ]
  },
  {
   "cell_type": "code",
   "execution_count": 47,
   "id": "50d22660",
   "metadata": {},
   "outputs": [],
   "source": [
    "y += 10"
   ]
  },
  {
   "cell_type": "code",
   "execution_count": 48,
   "id": "99746029",
   "metadata": {},
   "outputs": [
    {
     "data": {
      "text/plain": [
       "40"
      ]
     },
     "execution_count": 48,
     "metadata": {},
     "output_type": "execute_result"
    }
   ],
   "source": [
    "y"
   ]
  },
  {
   "cell_type": "code",
   "execution_count": 51,
   "id": "9a673000",
   "metadata": {},
   "outputs": [],
   "source": [
    "y *= 10"
   ]
  },
  {
   "cell_type": "code",
   "execution_count": 52,
   "id": "f621513e",
   "metadata": {},
   "outputs": [
    {
     "data": {
      "text/plain": [
       "400"
      ]
     },
     "execution_count": 52,
     "metadata": {},
     "output_type": "execute_result"
    }
   ],
   "source": [
    "y"
   ]
  },
  {
   "cell_type": "code",
   "execution_count": 93,
   "id": "d3eab98f",
   "metadata": {},
   "outputs": [],
   "source": [
    "y //= 10"
   ]
  },
  {
   "cell_type": "code",
   "execution_count": 95,
   "id": "8a2a94bb",
   "metadata": {},
   "outputs": [
    {
     "data": {
      "text/plain": [
       "0"
      ]
     },
     "execution_count": 95,
     "metadata": {},
     "output_type": "execute_result"
    }
   ],
   "source": [
    "y"
   ]
  },
  {
   "cell_type": "code",
   "execution_count": 59,
   "id": "c4709b2d",
   "metadata": {},
   "outputs": [
    {
     "ename": "TypeError",
     "evalue": "unsupported operand type(s) for +=: 'NoneType' and 'int'",
     "output_type": "error",
     "traceback": [
      "\u001b[1;31m---------------------------------------------------------------------------\u001b[0m",
      "\u001b[1;31mTypeError\u001b[0m                                 Traceback (most recent call last)",
      "\u001b[1;32m~\\AppData\\Local\\Temp/ipykernel_1660/2794729713.py\u001b[0m in \u001b[0;36m<module>\u001b[1;34m\u001b[0m\n\u001b[1;32m----> 1\u001b[1;33m \u001b[0ma\u001b[0m \u001b[1;33m+=\u001b[0m \u001b[1;36m10\u001b[0m\u001b[1;33m\u001b[0m\u001b[1;33m\u001b[0m\u001b[0m\n\u001b[0m",
      "\u001b[1;31mTypeError\u001b[0m: unsupported operand type(s) for +=: 'NoneType' and 'int'"
     ]
    }
   ],
   "source": [
    "a += 10"
   ]
  },
  {
   "cell_type": "code",
   "execution_count": 96,
   "id": "fa36d8d9",
   "metadata": {},
   "outputs": [
    {
     "name": "stdout",
     "output_type": "stream",
     "text": [
      "Hello, world!\n"
     ]
    },
    {
     "data": {
      "text/plain": [
       "'Hello, world!'"
      ]
     },
     "execution_count": 96,
     "metadata": {},
     "output_type": "execute_result"
    }
   ],
   "source": [
    "input()"
   ]
  },
  {
   "cell_type": "code",
   "execution_count": 90,
   "id": "91f1eb3c",
   "metadata": {},
   "outputs": [
    {
     "name": "stdout",
     "output_type": "stream",
     "text": [
      "숫자를 입력하세요.10\n"
     ]
    },
    {
     "data": {
      "text/plain": [
       "'10'"
      ]
     },
     "execution_count": 90,
     "metadata": {},
     "output_type": "execute_result"
    }
   ],
   "source": [
    "input('숫자를 입력하세요.')"
   ]
  },
  {
   "cell_type": "code",
   "execution_count": 60,
   "id": "43e83928",
   "metadata": {},
   "outputs": [
    {
     "name": "stdout",
     "output_type": "stream",
     "text": [
      "숫자를 입력하세요.: 123\n"
     ]
    }
   ],
   "source": [
    "num = input('숫자를 입력하세요.: ')"
   ]
  },
  {
   "cell_type": "code",
   "execution_count": 61,
   "id": "80933634",
   "metadata": {},
   "outputs": [
    {
     "data": {
      "text/plain": [
       "'123'"
      ]
     },
     "execution_count": 61,
     "metadata": {},
     "output_type": "execute_result"
    }
   ],
   "source": [
    "num"
   ]
  },
  {
   "cell_type": "code",
   "execution_count": 82,
   "id": "765f4197",
   "metadata": {},
   "outputs": [
    {
     "name": "stdout",
     "output_type": "stream",
     "text": [
      " 첫 번째 숫자를 입력하세요.: 10\n"
     ]
    }
   ],
   "source": [
    "num1= input(' 첫 번째 숫자를 입력하세요.: ')"
   ]
  },
  {
   "cell_type": "code",
   "execution_count": 83,
   "id": "6711132b",
   "metadata": {},
   "outputs": [
    {
     "name": "stdout",
     "output_type": "stream",
     "text": [
      "두 번째 숫자를 입력하세요.: 20\n"
     ]
    }
   ],
   "source": [
    "num2 = input('두 번째 숫자를 입력하세요.: ')"
   ]
  },
  {
   "cell_type": "code",
   "execution_count": 66,
   "id": "d2500bb8",
   "metadata": {},
   "outputs": [
    {
     "data": {
      "text/plain": [
       "('10', '20')"
      ]
     },
     "execution_count": 66,
     "metadata": {},
     "output_type": "execute_result"
    }
   ],
   "source": [
    "num1 , num2"
   ]
  },
  {
   "cell_type": "code",
   "execution_count": 80,
   "id": "09271798",
   "metadata": {},
   "outputs": [],
   "source": [
    "sum = int(num1) + int(num2)"
   ]
  },
  {
   "cell_type": "code",
   "execution_count": 81,
   "id": "6cc4025e",
   "metadata": {},
   "outputs": [
    {
     "data": {
      "text/plain": [
       "30"
      ]
     },
     "execution_count": 81,
     "metadata": {},
     "output_type": "execute_result"
    }
   ],
   "source": [
    "sum"
   ]
  },
  {
   "cell_type": "code",
   "execution_count": 76,
   "id": "ef2bab7d",
   "metadata": {},
   "outputs": [
    {
     "name": "stdout",
     "output_type": "stream",
     "text": [
      "첫 번째 숫자를 입력하세요.: 10\n"
     ]
    }
   ],
   "source": [
    "a = int(input('첫 번째 숫자를 입력하세요.: '))"
   ]
  },
  {
   "cell_type": "code",
   "execution_count": 77,
   "id": "2abe3a97",
   "metadata": {
    "scrolled": true
   },
   "outputs": [
    {
     "name": "stdout",
     "output_type": "stream",
     "text": [
      "두 번째 숫자를 입력하세요.: 20\n"
     ]
    }
   ],
   "source": [
    "b = int(input('두 번째 숫자를 입력하세요.: '))"
   ]
  },
  {
   "cell_type": "code",
   "execution_count": 78,
   "id": "c976427d",
   "metadata": {},
   "outputs": [],
   "source": [
    "sum = a + b"
   ]
  },
  {
   "cell_type": "code",
   "execution_count": 79,
   "id": "f698b476",
   "metadata": {
    "scrolled": true
   },
   "outputs": [
    {
     "data": {
      "text/plain": [
       "30"
      ]
     },
     "execution_count": 79,
     "metadata": {},
     "output_type": "execute_result"
    }
   ],
   "source": [
    "sum"
   ]
  },
  {
   "cell_type": "code",
   "execution_count": 84,
   "id": "e46a3283",
   "metadata": {
    "scrolled": false
   },
   "outputs": [
    {
     "name": "stdout",
     "output_type": "stream",
     "text": [
      "첫 번째 숫자를 입력하세요.: 10\n",
      "두 번째 숫자를 입력하세요.: 20\n",
      "두 수의 합은 30\n"
     ]
    }
   ],
   "source": [
    "a = int(input('첫 번째 숫자를 입력하세요.: '))\n",
    "b = int(input('두 번째 숫자를 입력하세요.: '))\n",
    "sum = a + b\n",
    "print('두 수의 합은',sum)"
   ]
  },
  {
   "cell_type": "code",
   "execution_count": 86,
   "id": "2f497efb",
   "metadata": {},
   "outputs": [
    {
     "name": "stdout",
     "output_type": "stream",
     "text": [
      "두 숫자를 입력하세요.: 10 20\n"
     ]
    }
   ],
   "source": [
    "nums = input('두 숫자를 입력하세요.: ')"
   ]
  },
  {
   "cell_type": "code",
   "execution_count": 87,
   "id": "cdedef67",
   "metadata": {},
   "outputs": [
    {
     "data": {
      "text/plain": [
       "'10 20'"
      ]
     },
     "execution_count": 87,
     "metadata": {},
     "output_type": "execute_result"
    }
   ],
   "source": [
    "nums"
   ]
  },
  {
   "cell_type": "code",
   "execution_count": 88,
   "id": "45558734",
   "metadata": {},
   "outputs": [
    {
     "name": "stdout",
     "output_type": "stream",
     "text": [
      "두 숫자를 입력하세요.:10 20\n"
     ]
    }
   ],
   "source": [
    "nums = input('두 숫자를 입력하세요.:').split()"
   ]
  },
  {
   "cell_type": "code",
   "execution_count": 91,
   "id": "96bfa0af",
   "metadata": {},
   "outputs": [
    {
     "data": {
      "text/plain": [
       "['10', '20']"
      ]
     },
     "execution_count": 91,
     "metadata": {},
     "output_type": "execute_result"
    }
   ],
   "source": [
    "nums"
   ]
  },
  {
   "cell_type": "code",
   "execution_count": null,
   "id": "6182543b",
   "metadata": {},
   "outputs": [],
   "source": []
  }
 ],
 "metadata": {
  "kernelspec": {
   "display_name": "Python 3 (ipykernel)",
   "language": "python",
   "name": "python3"
  },
  "language_info": {
   "codemirror_mode": {
    "name": "ipython",
    "version": 3
   },
   "file_extension": ".py",
   "mimetype": "text/x-python",
   "name": "python",
   "nbconvert_exporter": "python",
   "pygments_lexer": "ipython3",
   "version": "3.9.7"
  }
 },
 "nbformat": 4,
 "nbformat_minor": 5
}
