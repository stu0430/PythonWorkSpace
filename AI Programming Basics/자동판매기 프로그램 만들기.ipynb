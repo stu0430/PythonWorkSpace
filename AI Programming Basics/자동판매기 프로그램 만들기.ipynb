{
 "cells": [
  {
   "cell_type": "markdown",
   "id": "62bc1b1e",
   "metadata": {},
   "source": [
    "**자동판매기 프로그램 만들기/0324/20220785/이상권**"
   ]
  },
  {
   "cell_type": "code",
   "execution_count": 26,
   "id": "d9213d9b",
   "metadata": {
    "scrolled": true
   },
   "outputs": [
    {
     "name": "stdout",
     "output_type": "stream",
     "text": [
      "[자동판매기 프로그램]\n",
      "========================\n",
      "입력할 1000원짜리 지폐 개수: 1\n",
      "입력할  500원짜리 동전 개수: 0\n",
      "입력할  100원짜리 동전 개수: 0\n",
      "구입할 물건 값 입력: 360\n",
      "========================\n",
      "물건을 받으세요. 거스름돈은 다음과 같습니다.\n",
      "1000원:0개,500원:1개,100원:1개,10원:4개,1원:0개\n"
     ]
    }
   ],
   "source": [
    "print('''[자동판매기 프로그램]\n",
    "========================''')\n",
    "pay_1000 = int(input('입력할 1000원짜리 지폐 개수: '))\n",
    "pay_500= int(input('입력할  500원짜리 동전 개수: '))\n",
    "pay_100 = int(input('입력할  100원짜리 동전 개수: '))\n",
    "price = int(input('구입할 물건 값 입력: '))\n",
    "print('''========================\n",
    "물건을 받으세요. 거스름돈은 다음과 같습니다.''')\n",
    "#거스름돈 계산\n",
    "pay = (pay_1000 * 1000) + (pay_500 * 500) + (pay_100 * 100)\n",
    "change = pay -price\n",
    "change_1000 = change // 1000\n",
    "change_500 = (change % 1000) // 500\n",
    "change_100 = (change % 500) // 100\n",
    "change_10 = (change % 100) // 10\n",
    "change_1 = (change % 10) // 1\n",
    "print('1000원:',change_1000,'개',',500원:',change_500,'개',',100원:',change_100,'개',',10원:',change_10,'개',',1원:',change_1,'개',sep = '')"
   ]
  },
  {
   "cell_type": "markdown",
   "id": "09d3777e",
   "metadata": {},
   "source": [
    "**코딩 후기: 거스름돈을 계산해내는 것이 생각보다 힘들었다..**"
   ]
  }
 ],
 "metadata": {
  "kernelspec": {
   "display_name": "Python 3 (ipykernel)",
   "language": "python",
   "name": "python3"
  },
  "language_info": {
   "codemirror_mode": {
    "name": "ipython",
    "version": 3
   },
   "file_extension": ".py",
   "mimetype": "text/x-python",
   "name": "python",
   "nbconvert_exporter": "python",
   "pygments_lexer": "ipython3",
   "version": "3.9.7"
  }
 },
 "nbformat": 4,
 "nbformat_minor": 5
}
