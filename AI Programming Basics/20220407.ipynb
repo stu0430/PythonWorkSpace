{
 "cells": [
  {
   "cell_type": "code",
   "execution_count": 18,
   "id": "e3336db7",
   "metadata": {},
   "outputs": [
    {
     "name": "stdout",
     "output_type": "stream",
     "text": [
      "10\n"
     ]
    }
   ],
   "source": [
    "x = int(input())"
   ]
  },
  {
   "cell_type": "code",
   "execution_count": 20,
   "id": "013a5d62",
   "metadata": {},
   "outputs": [
    {
     "name": "stdout",
     "output_type": "stream",
     "text": [
      "입력한 x의 값:  10\n",
      "x는 0보다 큰 정수입니다.\n",
      "x는 10과 같거나 큰 정수입니다..\n"
     ]
    }
   ],
   "source": [
    "print('입력한 x의 값: ', x)\n",
    "\n",
    "if x > 0:\n",
    "    print('x는 0보다 큰 정수입니다.')\n",
    "    \n",
    "    if x < 10:\n",
    "        print('x는 0보다 크고 10보다 작은 정수입니다.')\n",
    "    else :\n",
    "        print('x는 10과 같거나 큰 정수입니다..')\n",
    "    \n",
    "else :\n",
    "    print('x는 0 또는 음의 정수입니다.')"
   ]
  },
  {
   "cell_type": "code",
   "execution_count": 23,
   "id": "1d707562",
   "metadata": {},
   "outputs": [
    {
     "name": "stdout",
     "output_type": "stream",
     "text": [
      "입력한 x의 값: 10\n",
      "x는 0과 같거나 0보다 작거나, 10과 같거나 10보다 큰 정수입니다.\n"
     ]
    }
   ],
   "source": [
    "print('입력한 x의 값:', x)\n",
    "\n",
    "if 0 < x < 10 :\n",
    "    print('x는 0보다 크고 10보다 작은 정수입니다.')\n",
    "else :\n",
    "    print('x는 0과 같거나 0보다 작거나, 10과 같거나 10보다 큰 정수입니다.')"
   ]
  },
  {
   "cell_type": "code",
   "execution_count": null,
   "id": "da9a5342",
   "metadata": {},
   "outputs": [],
   "source": []
  }
 ],
 "metadata": {
  "kernelspec": {
   "display_name": "Python 3 (ipykernel)",
   "language": "python",
   "name": "python3"
  },
  "language_info": {
   "codemirror_mode": {
    "name": "ipython",
    "version": 3
   },
   "file_extension": ".py",
   "mimetype": "text/x-python",
   "name": "python",
   "nbconvert_exporter": "python",
   "pygments_lexer": "ipython3",
   "version": "3.9.7"
  }
 },
 "nbformat": 4,
 "nbformat_minor": 5
}
