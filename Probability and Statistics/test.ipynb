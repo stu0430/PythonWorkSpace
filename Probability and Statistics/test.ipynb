{
 "cells": [
  {
   "cell_type": "code",
   "execution_count": 1,
   "metadata": {},
   "outputs": [
    {
     "data": {
      "image/png": "[encoded data removed]",
      "text/plain": [
       "<Figure size 432x288 with 1 Axes>"
      ]
     },
     "metadata": {
      "needs_background": "light"
     },
     "output_type": "display_data"
    }
   ],
   "source": [
    "import math\n",
    "import numpy as np\n",
    "import scipy.stats as sp\n",
    "import matplotlib.pyplot as plt\n",
    "\n",
    "mean = 10\n",
    "var = 9\n",
    "rv = sp.norm(mean, math.sqrt(var))\n",
    "xx = np.arange(-2, 22, 0.01)\n",
    "plt.bar(xx, rv.pdf(xx))\n",
    "# plt.plot(xx, rv.pdf(xx))\n",
    "plt.show()"
   ]
  },
  {
   "cell_type": "code",
   "execution_count": 44,
   "metadata": {},
   "outputs": [
    {
     "name": "stdout",
     "output_type": "stream",
     "text": [
      "0.6305586598182363\n",
      "0.36944134018176367\n"
     ]
    }
   ],
   "source": [
    "# x가 11보다 작게 나올 확률\n",
    "print(rv.cdf(11))\n",
    "# x가 11보다 크게 나올 확률\n",
    "print(1 - rv.cdf(11))"
   ]
  },
  {
   "cell_type": "code",
   "execution_count": 78,
   "metadata": {},
   "outputs": [
    {
     "name": "stdout",
     "output_type": "stream",
     "text": [
      "30.3\n",
      "11.870000000000003\n"
     ]
    }
   ],
   "source": [
    "np.random.seed(0)\n",
    "# x = rv.rvs(30)\n",
    "# average = np.average(x)\n",
    "# mean = np.mean(x)\n",
    "# var = np.var(x)\n",
    "# print(*x)\n",
    "# print(average)\n",
    "# print(mean)\n",
    "# print(var)\n",
    "\n",
    "for i in range(50):\n",
    "    x = rv.rvs(100)\n",
    "    average = np.average(x)\n",
    "    var = np.var(x)\n",
    "    print(average)\n",
    "    print(var)\n",
    "    break"
   ]
  },
  {
   "cell_type": "code",
   "execution_count": 18,
   "metadata": {},
   "outputs": [
    {
     "data": {
      "image/png": "[encoded data removed]",
      "text/plain": [
       "<Figure size 432x288 with 1 Axes>"
      ]
     },
     "metadata": {
      "needs_background": "light"
     },
     "output_type": "display_data"
    },
    {
     "name": "stdout",
     "output_type": "stream",
     "text": [
      "30.3\n",
      "0.0007572965829096834\n",
      "29.923666666666666\n",
      "0.0008714988888888895\n"
     ]
    },
    {
     "data": {
      "image/png": "[encoded data removed]",
      "text/plain": [
       "<Figure size 432x288 with 1 Axes>"
      ]
     },
     "metadata": {
      "needs_background": "light"
     },
     "output_type": "display_data"
    },
    {
     "name": "stdout",
     "output_type": "stream",
     "text": [
      "0.0\n"
     ]
    }
   ],
   "source": [
    "# X~B(50,0.6)\n",
    "rv_1 = sp.binom(50, 0.6)\n",
    "x_1 = np.arange(50)\n",
    "y_1 = rv_1.cdf(x_1)\n",
    "plt.plot(x_1, y_1)\n",
    "plt.show()\n",
    "\n",
    "np.random.seed(0)\n",
    "samples = rv_1.rvs(100)\n",
    "print(samples.mean())\n",
    "\n",
    "print(1 - rv_1.cdf(40))\n",
    "\n",
    "np.random.seed(0)\n",
    "sample_array = []\n",
    "for i in range(30):\n",
    "    sample = rv_1.rvs(100)\n",
    "    sample_array.append(np.average(sample))\n",
    "\n",
    "mean = np.average(sample_array)\n",
    "var = np.var(sample_array) / 100\n",
    "\n",
    "print(mean)\n",
    "print(var)\n",
    "\n",
    "rv_2 = sp.norm(mean, math.sqrt(var))\n",
    "x_2 = np.arange(50)\n",
    "y_2 = rv_2.cdf(x_2)\n",
    "plt.plot(x_2, y_2)\n",
    "plt.show()\n",
    "\n",
    "print(1 - rv_2.cdf(40))\n"
   ]
  },
  {
   "cell_type": "code",
   "execution_count": 1,
   "metadata": {},
   "outputs": [
    {
     "name": "stdout",
     "output_type": "stream",
     "text": [
      "Overwriting assignment.py\n"
     ]
    }
   ],
   "source": [
    "%%writefile assignment.py\n",
    "from math import sqrt\n",
    "import numpy as np\n",
    "import scipy.stats as sp\n",
    "import matplotlib.pyplot as plt\n",
    "\n",
    "# X ~ B(50, 0.6)\n",
    "# n = 50, p = 0.6인 이항 분포를 생성하고 누적 분포 함수 그리기\n",
    "n = 50\n",
    "p = 0.6\n",
    "rv_1 = sp.binom(n, p)\n",
    "x = np.arange(0, 51)\n",
    "y = rv_1.cdf(x)\n",
    "plt.plot(x, y)\n",
    "plt.show()\n",
    "\n",
    "# X의 확률 분포를 따르는 100개의 표본을 생성하고 각 표본의 평균 구하기\n",
    "np.random.seed(0)\n",
    "samples_1 = rv_1.rvs(100)\n",
    "print(samples_1.mean())\n",
    "\n",
    "# X의 값이 40이상의 값을 가지는 확률 구하기\n",
    "print(1 - rv_1.cdf(39))\n",
    "\n",
    "# 표본 100개에 대한 표본 평균을 구하는 과정을 30회 반복한 후, 표본 평균에 대한 평균과 분산 구하기\n",
    "np.random.seed(0)\n",
    "samples_2 = rv_1.rvs((30, 100))\n",
    "average = samples_2.mean(axis=1).mean()\n",
    "var = samples_2.mean(axis=1).var()\n",
    "print(average)\n",
    "print(var)\n",
    "\n",
    "# 표본 평균이 따르는 정규 분포를 생성하고 누적 분포 함수 그리기\n",
    "rv_2 = sp.norm(average, sqrt(var))\n",
    "x = np.arange(23, 37, 0.1)\n",
    "y = rv_2.cdf(x)\n",
    "plt.plot(x, y)\n",
    "plt.show()\n",
    "\n",
    "# 표본 평균이 40이상의 값을 가지는 확률 구하기\n",
    "print(1 - rv_2.cdf(40))"
   ]
  },
  {
   "cell_type": "code",
   "execution_count": null,
   "metadata": {},
   "outputs": [],
   "source": []
  }
 ],
 "metadata": {
  "kernelspec": {
   "display_name": "Python 3.9.7 ('base')",
   "language": "python",
   "name": "python3"
  },
  "language_info": {
   "codemirror_mode": {
    "name": "ipython",
    "version": 3
   },
   "file_extension": ".py",
   "mimetype": "text/x-python",
   "name": "python",
   "nbconvert_exporter": "python",
   "pygments_lexer": "ipython3",
   "version": "3.9.7 (default, Sep 16 2021, 16:59:28) [MSC v.1916 64 bit (AMD64)]"
  },
  "orig_nbformat": 4,
  "vscode": {
   "interpreter": {
    "hash": "ff4f85d6e04298634172ac5d8264e7e9b556b95639fe52ebb9425c4d4cba0c9c"
   }
  }
 },
 "nbformat": 4,
 "nbformat_minor": 2
}
