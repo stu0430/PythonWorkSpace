{
 "cells": [
  {
   "cell_type": "code",
   "execution_count": null,
   "metadata": {},
   "outputs": [],
   "source": [
    "n = int(input())\n",
    "\n",
    "def is_prime(x):\n",
    "    for i in range(2, int(x**0.5)+1):\n",
    "        if x % i == 0:\n",
    "            return False\n",
    "    return True\n",
    "\n",
    "if is_prime(n):\n",
    "    print(f'{n}은 소수입니다.')\n",
    "else:\n",
    "    print(f'{n}은 소수가 아닙니다.')"
   ]
  },
  {
   "cell_type": "code",
   "execution_count": null,
   "metadata": {},
   "outputs": [],
   "source": [
    "lst = list(map(int, input().split()))\n",
    "x = min(lst)\n",
    "lst = lst[lst.index(x)+1:]\n",
    "print(max(lst)-x)"
   ]
  },
  {
   "cell_type": "code",
   "execution_count": null,
   "metadata": {},
   "outputs": [],
   "source": [
    "import sys\n",
    "lst = list(map(int, input().split()))\n",
    "profit = 0\n",
    "min_price = sys.maxsize\n",
    "for i in range(5):\n",
    "    min_price = min(min_price, lst[i])\n",
    "    profit = max(profit, lst[i] - min_price)\n",
    "print(profit)"
   ]
  },
  {
   "cell_type": "code",
   "execution_count": null,
   "metadata": {},
   "outputs": [],
   "source": []
  },
  {
   "cell_type": "code",
   "execution_count": null,
   "metadata": {},
   "outputs": [],
   "source": []
  },
  {
   "cell_type": "code",
   "execution_count": null,
   "metadata": {},
   "outputs": [],
   "source": []
  },
  {
   "cell_type": "code",
   "execution_count": null,
   "metadata": {},
   "outputs": [],
   "source": []
  },
  {
   "cell_type": "code",
   "execution_count": null,
   "metadata": {},
   "outputs": [],
   "source": []
  },
  {
   "cell_type": "code",
   "execution_count": null,
   "metadata": {},
   "outputs": [],
   "source": []
  }
 ],
 "metadata": {
  "kernelspec": {
   "display_name": "Python 3.9.8 64-bit",
   "language": "python",
   "name": "python3"
  },
  "language_info": {
   "name": "python",
   "version": "3.9.8"
  },
  "orig_nbformat": 4,
  "vscode": {
   "interpreter": {
    "hash": "ca7b62161f3b9e3222d6fb67745e01a946a6552e36cbdcc714dadc2ba14328d1"
   }
  }
 },
 "nbformat": 4,
 "nbformat_minor": 2
}
