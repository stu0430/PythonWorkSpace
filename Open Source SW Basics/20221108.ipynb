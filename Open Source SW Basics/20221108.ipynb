{
 "cells": [
  {
   "cell_type": "code",
   "execution_count": 4,
   "metadata": {},
   "outputs": [],
   "source": [
    "import re"
   ]
  },
  {
   "cell_type": "code",
   "execution_count": 4,
   "metadata": {},
   "outputs": [
    {
     "name": "stdout",
     "output_type": "stream",
     "text": [
      "['', 'h', 'e', '', '', 'e', 'g', 'u', 'l', 'a', 'r', '', '', 'x', 'p', 'r', 'e', 's', 'i', 'o', 'n', '', '', '', '', '', '', '', '', '', '', '', '', '']\n",
      "['he', 'egular', 'xpresion']\n",
      "['', 'he', '', '', 'egular', '', '', 'xpresion', '', '', '', '', '', '', '', '', '', '', '', '', '']\n"
     ]
    }
   ],
   "source": [
    "string = 'The Regular Expresion !!! 123 @#!'\n",
    "\n",
    "pattern = re.compile('[a-z]?')\n",
    "print(pattern.findall(string))\n",
    "\n",
    "pattern = re.compile('[a-z]+')\n",
    "print(pattern.findall(string))\n",
    "\n",
    "pattern = re.compile('[a-z]*')\n",
    "print(pattern.findall(string))"
   ]
  },
  {
   "cell_type": "code",
   "execution_count": 3,
   "metadata": {},
   "outputs": [
    {
     "name": "stdout",
     "output_type": "stream",
     "text": [
      "['1 apple', '5 oranges', '3 boys', '4 girls', '10 army']\n"
     ]
    }
   ],
   "source": [
    "regex = re.compile(r'\\d+\\s\\w+')\n",
    "list = regex.findall('1 apple, 5 oranges, 3 boys, 4 girls; 10 army| 11mr')\n",
    "print(list)"
   ]
  },
  {
   "cell_type": "code",
   "execution_count": 7,
   "metadata": {},
   "outputs": [
    {
     "name": "stdout",
     "output_type": "stream",
     "text": [
      "199305\n",
      "no match found\n"
     ]
    }
   ],
   "source": [
    "regex = re.compile(r'^\\d+$')\n",
    "\n",
    "# regex = re.compile(r'^\\d+\\D+\\d+$')\n",
    "\n",
    "mo = regex.search('199305')\n",
    "\n",
    "if mo == None:\n",
    "    print('no match found')\n",
    "else:\n",
    "    print(mo.group())\n",
    "\n",
    "mo = regex.search('99food234')\n",
    "\n",
    "if mo == None:\n",
    "    print('no match found')\n",
    "else:\n",
    "    print(mo.group())"
   ]
  },
  {
   "cell_type": "code",
   "execution_count": 8,
   "metadata": {},
   "outputs": [
    {
     "name": "stdout",
     "output_type": "stream",
     "text": [
      "['key', 'value']\n"
     ]
    }
   ],
   "source": [
    "pattern = re.compile(':')\n",
    "print(pattern.split('key:value'))"
   ]
  },
  {
   "cell_type": "code",
   "execution_count": 12,
   "metadata": {},
   "outputs": [
    {
     "name": "stdout",
     "output_type": "stream",
     "text": [
      "['Ross McFluff: 834.345.1254 155 Elm Street Ronald Heathmore:892.345.3428 436 Finley Avenue Frank Burger: 925.541.7625662 South Dogwood Way Heather Albrecht: 548.326.4584 919Park Place']\n",
      "[['Ross', 'McFluff', '834.345.1254', '155', 'Elm Street Ronald Heathmore:892.345.3428 436 Finley Avenue Frank Burger: 925.541.7625662 South Dogwood Way Heather Albrecht: 548.326.4584 919Park Place']]\n"
     ]
    }
   ],
   "source": [
    "string = 'Ross McFluff: 834.345.1254 155 Elm Street Ronald Heathmore:892.345.3428 436 Finley Avenue Frank Burger: 925.541.7625662 South Dogwood Way Heather Albrecht: 548.326.4584 919Park Place'\n",
    "\n",
    "entries = re.split(\"\\n+\", string)\n",
    "print(entries)\n",
    "\n",
    "result = [re.split(\":? \", entry, maxsplit=4) for entry in entries]\n",
    "print(result)"
   ]
  },
  {
   "cell_type": "code",
   "execution_count": 13,
   "metadata": {},
   "outputs": [
    {
     "name": "stdout",
     "output_type": "stream",
     "text": [
      "we love to eat TOMATO, fresh TOMATO in themorning is my favorite dessert\n",
      "apple A\n",
      "We just love bXXX\n"
     ]
    }
   ],
   "source": [
    "regexSub = re.compile(r'apple')\n",
    "str1 = regexSub.sub('TOMATO','we love to eat apple, fresh apple in themorning is my favorite dessert')\n",
    "print(str1)\n",
    "\n",
    "regex = re.compile(r'apple (\\w)\\w*')\n",
    "mo = regex.search('We just love apple A')\n",
    "print(mo.group())\n",
    "\n",
    "str1 = regex.sub(r'\\1XXX', 'We just love apple banana')\n",
    "print(str1)"
   ]
  },
  {
   "cell_type": "code",
   "execution_count": 15,
   "metadata": {},
   "outputs": [
    {
     "name": "stdout",
     "output_type": "stream",
     "text": [
      "Kim   123456-1******\n",
      "Lee   214428-2******\n",
      "Park  682142-4******\n",
      "Kim   781943-4******\n",
      "Park  304922-7******\n",
      "Jeong 403214-6******\n",
      "Lee   212531-4******\n",
      "Choi  804304-3******\n",
      "Kim   034154-1******\n",
      "Lee   642738-4******\n",
      "Choi  123878-5******\n"
     ]
    }
   ],
   "source": [
    "import re\n",
    "\n",
    "# 정규 표현식 패턴\n",
    "regex = re.compile('(\\d{6})-(\\d{1})(\\d{6})')\n",
    "\n",
    "n = int(input('입력할 주민등록번호의 개수를 입력하세요 : '))\n",
    "\n",
    "# 파일 입력\n",
    "with open('people.txt', 'w', encoding='utf-8') as file:\n",
    "    for i in range(3):\n",
    "        person = input('이름과 주민등록번호를 입력하세요 (ex. Lee 642738-4723781) : ')\n",
    "        file.write(person+'\\n')\n",
    "\n",
    "# 파일 출력\n",
    "with open('people.txt', 'r', encoding='utf-8') as file:\n",
    "    for person in file:\n",
    "        # 주민등록번호의 뒤 6자리를 *로 치환\n",
    "        new_num = regex.sub(r'\\1-\\2******', person)\n",
    "        print(new_num.strip())"
   ]
  },
  {
   "cell_type": "code",
   "execution_count": null,
   "metadata": {},
   "outputs": [],
   "source": []
  }
 ],
 "metadata": {
  "kernelspec": {
   "display_name": "Python 3.9.8 64-bit",
   "language": "python",
   "name": "python3"
  },
  "language_info": {
   "codemirror_mode": {
    "name": "ipython",
    "version": 3
   },
   "file_extension": ".py",
   "mimetype": "text/x-python",
   "name": "python",
   "nbconvert_exporter": "python",
   "pygments_lexer": "ipython3",
   "version": "3.9.8 (tags/v3.9.8:bb3fdcf, Nov  5 2021, 20:48:33) [MSC v.1929 64 bit (AMD64)]"
  },
  "orig_nbformat": 4,
  "vscode": {
   "interpreter": {
    "hash": "ca7b62161f3b9e3222d6fb67745e01a946a6552e36cbdcc714dadc2ba14328d1"
   }
  }
 },
 "nbformat": 4,
 "nbformat_minor": 2
}
