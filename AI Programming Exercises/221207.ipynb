{
 "cells": [
  {
   "cell_type": "markdown",
   "metadata": {},
   "source": [
    "### 1. 패키지 로드"
   ]
  },
  {
   "cell_type": "code",
   "execution_count": 1,
   "metadata": {},
   "outputs": [],
   "source": [
    "import sys"
   ]
  },
  {
   "cell_type": "markdown",
   "metadata": {},
   "source": [
    "### 2. 전역변수 선언"
   ]
  },
  {
   "cell_type": "code",
   "execution_count": 2,
   "metadata": {},
   "outputs": [],
   "source": [
    "EMPTY_SPACE = '.'\n",
    "PLAYER_X = 'X'\n",
    "PLAYER_O = 'O'"
   ]
  },
  {
   "cell_type": "code",
   "execution_count": 3,
   "metadata": {},
   "outputs": [],
   "source": [
    "BOARD_WIDTH = 7\n",
    "BOARD_HEIGHT = 6\n",
    "COLUMN_LABELS = ('1', '2', '3', '4', '5', '6', '7')"
   ]
  },
  {
   "cell_type": "markdown",
   "metadata": {},
   "source": [
    "### 3. 메인 함수"
   ]
  },
  {
   "cell_type": "code",
   "execution_count": null,
   "metadata": {},
   "outputs": [],
   "source": [
    "def main():\n",
    "    gameBoard = getNewBoard()\n",
    "    playerTurn = PLAYER_X\n",
    "    while True:\n",
    "        displayBoard(gameBoard)\n",
    "        playerMove = askForPlayerChoice(playerTurn, gameBoard)\n",
    "        gameBoard[playerMove] = playerTurn\n",
    "        \n",
    "        if isWinner(playerTurn, gameBoard):\n",
    "            displayBoard(gameBoard)\n",
    "            \n",
    "        elif isFull(gameBoard):\n",
    "            displayBoard(gameBoard)\n",
    "            \n",
    "        playerTurn = PLAYER_O or PLAYER_X"
   ]
  },
  {
   "cell_type": "markdown",
   "metadata": {},
   "source": [
    "### 4. 기타 함수"
   ]
  },
  {
   "cell_type": "code",
   "execution_count": 4,
   "metadata": {},
   "outputs": [],
   "source": [
    "def getNewBoard():\n",
    "    board = {}\n",
    "    \n",
    "    for row in range(BOARD_HEIGHT):\n",
    "        for col in range(BOARD_WIDTH):\n",
    "            board[(col, row)] = EMPTY_SPACE\n",
    "        \n",
    "    return board"
   ]
  },
  {
   "cell_type": "code",
   "execution_count": 5,
   "metadata": {},
   "outputs": [],
   "source": [
    "gameBoard = getNewBoard()"
   ]
  },
  {
   "cell_type": "code",
   "execution_count": 6,
   "metadata": {},
   "outputs": [
    {
     "data": {
      "text/plain": [
       "{(0, 0): '.',\n",
       " (1, 0): '.',\n",
       " (2, 0): '.',\n",
       " (3, 0): '.',\n",
       " (4, 0): '.',\n",
       " (5, 0): '.',\n",
       " (6, 0): '.',\n",
       " (0, 1): '.',\n",
       " (1, 1): '.',\n",
       " (2, 1): '.',\n",
       " (3, 1): '.',\n",
       " (4, 1): '.',\n",
       " (5, 1): '.',\n",
       " (6, 1): '.',\n",
       " (0, 2): '.',\n",
       " (1, 2): '.',\n",
       " (2, 2): '.',\n",
       " (3, 2): '.',\n",
       " (4, 2): '.',\n",
       " (5, 2): '.',\n",
       " (6, 2): '.',\n",
       " (0, 3): '.',\n",
       " (1, 3): '.',\n",
       " (2, 3): '.',\n",
       " (3, 3): '.',\n",
       " (4, 3): '.',\n",
       " (5, 3): '.',\n",
       " (6, 3): '.',\n",
       " (0, 4): '.',\n",
       " (1, 4): '.',\n",
       " (2, 4): '.',\n",
       " (3, 4): '.',\n",
       " (4, 4): '.',\n",
       " (5, 4): '.',\n",
       " (6, 4): '.',\n",
       " (0, 5): '.',\n",
       " (1, 5): '.',\n",
       " (2, 5): '.',\n",
       " (3, 5): '.',\n",
       " (4, 5): '.',\n",
       " (5, 5): '.',\n",
       " (6, 5): '.'}"
      ]
     },
     "execution_count": 6,
     "metadata": {},
     "output_type": "execute_result"
    }
   ],
   "source": [
    "gameBoard"
   ]
  },
  {
   "cell_type": "code",
   "execution_count": 9,
   "metadata": {},
   "outputs": [],
   "source": [
    "def displayBoard(board):\n",
    "    tileChars = []\n",
    "    \n",
    "    for row in range(BOARD_HEIGHT):\n",
    "        for col in range(BOARD_WIDTH):\n",
    "            tileChars.append(board[(col, row)])\n",
    "            \n",
    "    print('''\n",
    "           1234567\n",
    "          +-------+\n",
    "          |{}{}{}{}{}{}{}|\n",
    "          |{}{}{}{}{}{}{}|\n",
    "          |{}{}{}{}{}{}{}|\n",
    "          |{}{}{}{}{}{}{}|\n",
    "          |{}{}{}{}{}{}{}|\n",
    "          |{}{}{}{}{}{}{}|\n",
    "          +-------+'''.format(*tileChars))"
   ]
  },
  {
   "cell_type": "code",
   "execution_count": 10,
   "metadata": {},
   "outputs": [
    {
     "name": "stdout",
     "output_type": "stream",
     "text": [
      "\n",
      "           1234567\n",
      "          +-------+\n",
      "          |.......|\n",
      "          |.......|\n",
      "          |.......|\n",
      "          |.......|\n",
      "          |.......|\n",
      "          |.......|\n",
      "          +-------+\n"
     ]
    }
   ],
   "source": [
    "displayBoard(gameBoard)"
   ]
  },
  {
   "cell_type": "code",
   "execution_count": 15,
   "metadata": {},
   "outputs": [],
   "source": [
    "def askForPlayerChoice(playerTile, board):\n",
    "    \n",
    "    while True:\n",
    "        print(f'Player {playerTile}: 1부터 {BOARD_WIDTH}까지, 또는 \"Q\"를 입력하세요')\n",
    "        response = input('>>> ').upper().strip()\n",
    "        \n",
    "        if response == 'Q':\n",
    "            print('>>> 게임을 종료합니다.')\n",
    "            sys.exit()\n",
    "            \n",
    "        elif response not in COLUMN_LABELS:\n",
    "            print('>>> 잘못 입력했습니다. 다시 입력해 주세요.')\n",
    "            continue\n",
    "        \n",
    "        col = int(response) - 1\n",
    "        \n",
    "        if board[col, 0] != EMPTY_SPACE:\n",
    "            print('>>> 해당 열은 가득 찼습니다. 다시 입력해 주세요.')\n",
    "            continue\n",
    "        \n",
    "        for row in range(BOARD_HEIGHT - 1, -1, -1):\n",
    "            if board[(col, row)] == EMPTY_SPACE:\n",
    "                return col, row"
   ]
  },
  {
   "cell_type": "code",
   "execution_count": 16,
   "metadata": {},
   "outputs": [
    {
     "name": "stdout",
     "output_type": "stream",
     "text": [
      "Player X: 1부터 7까지, 또는 \"Q\"를 입력하세요\n"
     ]
    },
    {
     "data": {
      "text/plain": [
       "(1, 5)"
      ]
     },
     "execution_count": 16,
     "metadata": {},
     "output_type": "execute_result"
    }
   ],
   "source": [
    "askForPlayerChoice(PLAYER_X, gameBoard)"
   ]
  },
  {
   "cell_type": "code",
   "execution_count": 17,
   "metadata": {},
   "outputs": [
    {
     "name": "stdout",
     "output_type": "stream",
     "text": [
      "Player X: 1부터 7까지, 또는 \"Q\"를 입력하세요\n"
     ]
    }
   ],
   "source": [
    "gameBoard[askForPlayerChoice(PLAYER_X, gameBoard)] = PLAYER_X\n"
   ]
  },
  {
   "cell_type": "code",
   "execution_count": 18,
   "metadata": {},
   "outputs": [
    {
     "name": "stdout",
     "output_type": "stream",
     "text": [
      "\n",
      "           1234567\n",
      "          +-------+\n",
      "          |.......|\n",
      "          |.......|\n",
      "          |.......|\n",
      "          |.......|\n",
      "          |.......|\n",
      "          |....X..|\n",
      "          +-------+\n"
     ]
    }
   ],
   "source": [
    "displayBoard(gameBoard)"
   ]
  },
  {
   "cell_type": "code",
   "execution_count": 20,
   "metadata": {},
   "outputs": [],
   "source": [
    "def isWinner(playerTile, board):\n",
    "    for row in range(BOARD_HEIGHT):\n",
    "        for col in range(BOARD_WIDTH - 3):\n",
    "            tile1 = board[(col, row)]\n",
    "            tile2 = board[(col + 1, row)]\n",
    "            tile3 = board[(col + 2, row)]\n",
    "            tile4 = board[(col + 3, row)]\n",
    "            \n",
    "            if tile1 == tile2 == tile3 == tile4 == playerTile:\n",
    "                return True\n",
    "            \n",
    "    for row in range(BOARD_HEIGHT - 3):\n",
    "        for col in range(BOARD_WIDTH):\n",
    "            tile1 = board[(col, row)]\n",
    "            tile2 = board[(col, row + 1)]\n",
    "            tile3 = board[(col, row + 2)]\n",
    "            tile4 = board[(col, row + 3)]\n",
    "\n",
    "            if tile1 == tile2 == tile3 == tile4 == playerTile:\n",
    "                return True\n",
    "\n",
    "    for row in range(BOARD_HEIGHT - 3):\n",
    "       for col in range(BOARD_WIDTH - 3):\n",
    "           tile1 = board[(col, row)]\n",
    "           tile2 = board[(col + 1, row + 1)]\n",
    "           tile3 = board[(col + 2, row + 2)]\n",
    "           tile4 = board[(col + 3, row + 3)]\n",
    "           \n",
    "           if tile1 == tile2 == tile3 == tile4 == playerTile:\n",
    "               return True\n",
    "           \n",
    "    for row in range(BOARD_HEIGHT - 3):\n",
    "       for col in range(BOARD_WIDTH - 1, 2, -1):\n",
    "           tile1 = board[(col, row)]\n",
    "           tile2 = board[(col - 1, row + 1)]\n",
    "           tile3 = board[(col - 2, row + 2)]\n",
    "           tile4 = board[(col - 3, row + 3)]\n",
    "\n",
    "           if tile1 == tile2 == tile3 == tile4 == playerTile:\n",
    "               return True\n",
    "           \n",
    "    return False"
   ]
  },
  {
   "cell_type": "code",
   "execution_count": 21,
   "metadata": {},
   "outputs": [],
   "source": [
    "def isFull(board):\n",
    "    for col in range(BOARD_WIDTH):\n",
    "        for row in range(BOARD_HEIGHT):\n",
    "            if board[(col, row)] == EMPTY_SPACE:\n",
    "                return False\n",
    "        \n",
    "    return True"
   ]
  },
  {
   "cell_type": "code",
   "execution_count": 22,
   "metadata": {},
   "outputs": [],
   "source": [
    "def main():\n",
    "    gameBoard = getNewBoard()\n",
    "    playerTurn = PLAYER_X\n",
    "    \n",
    "    while True:\n",
    "        displayBoard(gameBoard)\n",
    "        \n",
    "        playerMove = askForPlayerChoice(playerTurn, gameBoard)\n",
    "        \n",
    "        gameBoard[playerMove] = playerTurn\n",
    "\n",
    "        if isWinner(playerTurn, gameBoard):\n",
    "            displayBoard(gameBoard)\n",
    "            print(f'Player {playerTurn}가 이겼습니다!')\n",
    "            break\n",
    "\n",
    "        elif isFull(gameBoard):\n",
    "            displayBoard(gameBoard)\n",
    "            print(f'비겼습니다!')\n",
    "            break\n",
    "        \n",
    "        if playerTurn == PLAYER_X:\n",
    "            playerTurn = PLAYER_O\n",
    "            \n",
    "        elif playerTurn == PLAYER_O:\n",
    "            playerTurn = PLAYER_X"
   ]
  },
  {
   "cell_type": "code",
   "execution_count": 23,
   "metadata": {},
   "outputs": [
    {
     "name": "stdout",
     "output_type": "stream",
     "text": [
      "\n",
      "           1234567\n",
      "          +-------+\n",
      "          |.......|\n",
      "          |.......|\n",
      "          |.......|\n",
      "          |.......|\n",
      "          |.......|\n",
      "          |.......|\n",
      "          +-------+\n",
      "Player X: 1부터 7까지, 또는 \"Q\"를 입력하세요\n",
      "\n",
      "           1234567\n",
      "          +-------+\n",
      "          |.......|\n",
      "          |.......|\n",
      "          |.......|\n",
      "          |.......|\n",
      "          |.......|\n",
      "          |..X....|\n",
      "          +-------+\n",
      "Player O: 1부터 7까지, 또는 \"Q\"를 입력하세요\n",
      "\n",
      "           1234567\n",
      "          +-------+\n",
      "          |.......|\n",
      "          |.......|\n",
      "          |.......|\n",
      "          |.......|\n",
      "          |..O....|\n",
      "          |..X....|\n",
      "          +-------+\n",
      "Player X: 1부터 7까지, 또는 \"Q\"를 입력하세요\n",
      "\n",
      "           1234567\n",
      "          +-------+\n",
      "          |.......|\n",
      "          |.......|\n",
      "          |.......|\n",
      "          |.......|\n",
      "          |..O....|\n",
      "          |..XX...|\n",
      "          +-------+\n",
      "Player O: 1부터 7까지, 또는 \"Q\"를 입력하세요\n",
      ">>> 잘못 입력했습니다. 다시 입력해 주세요.\n",
      "Player O: 1부터 7까지, 또는 \"Q\"를 입력하세요\n",
      ">>> 게임을 종료합니다.\n"
     ]
    },
    {
     "ename": "SystemExit",
     "evalue": "",
     "output_type": "error",
     "traceback": [
      "An exception has occurred, use %tb to see the full traceback.\n",
      "\u001b[1;31mSystemExit\u001b[0m\n"
     ]
    },
    {
     "name": "stderr",
     "output_type": "stream",
     "text": [
      "c:\\Users\\stu04\\AppData\\Local\\Programs\\Python\\Python39\\lib\\site-packages\\IPython\\core\\interactiveshell.py:3405: UserWarning: To exit: use 'exit', 'quit', or Ctrl-D.\n",
      "  warn(\"To exit: use 'exit', 'quit', or Ctrl-D.\", stacklevel=1)\n"
     ]
    }
   ],
   "source": [
    "main()"
   ]
  },
  {
   "cell_type": "code",
   "execution_count": null,
   "metadata": {},
   "outputs": [],
   "source": []
  }
 ],
 "metadata": {
  "kernelspec": {
   "display_name": "Python 3.9.8 64-bit",
   "language": "python",
   "name": "python3"
  },
  "language_info": {
   "codemirror_mode": {
    "name": "ipython",
    "version": 3
   },
   "file_extension": ".py",
   "mimetype": "text/x-python",
   "name": "python",
   "nbconvert_exporter": "python",
   "pygments_lexer": "ipython3",
   "version": "3.9.8"
  },
  "orig_nbformat": 4,
  "vscode": {
   "interpreter": {
    "hash": "ca7b62161f3b9e3222d6fb67745e01a946a6552e36cbdcc714dadc2ba14328d1"
   }
  }
 },
 "nbformat": 4,
 "nbformat_minor": 2
}
