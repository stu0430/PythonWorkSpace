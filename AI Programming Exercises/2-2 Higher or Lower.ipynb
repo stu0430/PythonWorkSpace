{
 "cells": [
  {
   "cell_type": "markdown",
   "metadata": {},
   "source": [
    "### 1. 헤더 출력"
   ]
  },
  {
   "cell_type": "code",
   "execution_count": 5,
   "metadata": {},
   "outputs": [],
   "source": [
    "from util import util"
   ]
  },
  {
   "cell_type": "code",
   "execution_count": 6,
   "metadata": {},
   "outputs": [
    {
     "name": "stdout",
     "output_type": "stream",
     "text": [
      "***********************\n",
      "* 2-2 Higher or Lower *\n",
      "*     2022.10.12      *\n",
      "* (c) Lee, Sang-gwon  *\n",
      "***********************\n"
     ]
    }
   ],
   "source": [
    "util.print_header(\"2-2 Higher or Lower\", \"2022.10.12\", \"(c) Lee, Sang-gwon\")"
   ]
  },
  {
   "cell_type": "markdown",
   "metadata": {},
   "source": [
    "### 2. 전역 변수 선언"
   ]
  },
  {
   "cell_type": "code",
   "execution_count": 7,
   "metadata": {},
   "outputs": [],
   "source": [
    "NCARDS = 8\n",
    "INIT_SCORE = 50\n",
    "SUIT_TUPLE = ('Clubs', 'Diamonds', 'Hearts', 'Spades')\n",
    "RANK_TUPLE = ('Ace', '2', '3', '4', '5', '6', '7', '8', '9', '10', 'Jack', 'Queen', 'King')"
   ]
  },
  {
   "cell_type": "code",
   "execution_count": 8,
   "metadata": {},
   "outputs": [],
   "source": [
    "card1 = {'suit': 'Spades', 'rank': 'Jack', 'value': 11}"
   ]
  },
  {
   "cell_type": "code",
   "execution_count": 9,
   "metadata": {},
   "outputs": [],
   "source": [
    "card2 = {'suit': 'Hearts', 'rank': '5', 'value': 5}"
   ]
  },
  {
   "cell_type": "code",
   "execution_count": 10,
   "metadata": {},
   "outputs": [],
   "source": [
    "cardList = [card1, card2]"
   ]
  },
  {
   "cell_type": "code",
   "execution_count": 11,
   "metadata": {},
   "outputs": [
    {
     "data": {
      "text/plain": [
       "[{'suit': 'Spades', 'rank': 'Jack', 'value': 11},\n",
       " {'suit': 'Hearts', 'rank': '5', 'value': 5}]"
      ]
     },
     "execution_count": 11,
     "metadata": {},
     "output_type": "execute_result"
    }
   ],
   "source": [
    "cardList"
   ]
  },
  {
   "cell_type": "markdown",
   "metadata": {},
   "source": [
    "### 3. 함수 설계"
   ]
  },
  {
   "cell_type": "code",
   "execution_count": 12,
   "metadata": {},
   "outputs": [],
   "source": [
    "def createDeck():\n",
    "    deck = []\n",
    "    for suit in SUIT_TUPLE:\n",
    "        for value, rank in enumerate(RANK_TUPLE):\n",
    "            card = {'suit': suit, 'rank': rank, 'value': value + 1}\n",
    "            deck.append(card)\n",
    "    return deck"
   ]
  },
  {
   "cell_type": "code",
   "execution_count": 13,
   "metadata": {},
   "outputs": [
    {
     "data": {
      "text/plain": [
       "[{'suit': 'Clubs', 'rank': 'Ace', 'value': 1},\n",
       " {'suit': 'Clubs', 'rank': '2', 'value': 2},\n",
       " {'suit': 'Clubs', 'rank': '3', 'value': 3},\n",
       " {'suit': 'Clubs', 'rank': '4', 'value': 4},\n",
       " {'suit': 'Clubs', 'rank': '5', 'value': 5},\n",
       " {'suit': 'Clubs', 'rank': '6', 'value': 6},\n",
       " {'suit': 'Clubs', 'rank': '7', 'value': 7},\n",
       " {'suit': 'Clubs', 'rank': '8', 'value': 8},\n",
       " {'suit': 'Clubs', 'rank': '9', 'value': 9},\n",
       " {'suit': 'Clubs', 'rank': '10', 'value': 10},\n",
       " {'suit': 'Clubs', 'rank': 'Jack', 'value': 11},\n",
       " {'suit': 'Clubs', 'rank': 'Queen', 'value': 12},\n",
       " {'suit': 'Clubs', 'rank': 'King', 'value': 13},\n",
       " {'suit': 'Diamonds', 'rank': 'Ace', 'value': 1},\n",
       " {'suit': 'Diamonds', 'rank': '2', 'value': 2},\n",
       " {'suit': 'Diamonds', 'rank': '3', 'value': 3},\n",
       " {'suit': 'Diamonds', 'rank': '4', 'value': 4},\n",
       " {'suit': 'Diamonds', 'rank': '5', 'value': 5},\n",
       " {'suit': 'Diamonds', 'rank': '6', 'value': 6},\n",
       " {'suit': 'Diamonds', 'rank': '7', 'value': 7},\n",
       " {'suit': 'Diamonds', 'rank': '8', 'value': 8},\n",
       " {'suit': 'Diamonds', 'rank': '9', 'value': 9},\n",
       " {'suit': 'Diamonds', 'rank': '10', 'value': 10},\n",
       " {'suit': 'Diamonds', 'rank': 'Jack', 'value': 11},\n",
       " {'suit': 'Diamonds', 'rank': 'Queen', 'value': 12},\n",
       " {'suit': 'Diamonds', 'rank': 'King', 'value': 13},\n",
       " {'suit': 'Hearts', 'rank': 'Ace', 'value': 1},\n",
       " {'suit': 'Hearts', 'rank': '2', 'value': 2},\n",
       " {'suit': 'Hearts', 'rank': '3', 'value': 3},\n",
       " {'suit': 'Hearts', 'rank': '4', 'value': 4},\n",
       " {'suit': 'Hearts', 'rank': '5', 'value': 5},\n",
       " {'suit': 'Hearts', 'rank': '6', 'value': 6},\n",
       " {'suit': 'Hearts', 'rank': '7', 'value': 7},\n",
       " {'suit': 'Hearts', 'rank': '8', 'value': 8},\n",
       " {'suit': 'Hearts', 'rank': '9', 'value': 9},\n",
       " {'suit': 'Hearts', 'rank': '10', 'value': 10},\n",
       " {'suit': 'Hearts', 'rank': 'Jack', 'value': 11},\n",
       " {'suit': 'Hearts', 'rank': 'Queen', 'value': 12},\n",
       " {'suit': 'Hearts', 'rank': 'King', 'value': 13},\n",
       " {'suit': 'Spades', 'rank': 'Ace', 'value': 1},\n",
       " {'suit': 'Spades', 'rank': '2', 'value': 2},\n",
       " {'suit': 'Spades', 'rank': '3', 'value': 3},\n",
       " {'suit': 'Spades', 'rank': '4', 'value': 4},\n",
       " {'suit': 'Spades', 'rank': '5', 'value': 5},\n",
       " {'suit': 'Spades', 'rank': '6', 'value': 6},\n",
       " {'suit': 'Spades', 'rank': '7', 'value': 7},\n",
       " {'suit': 'Spades', 'rank': '8', 'value': 8},\n",
       " {'suit': 'Spades', 'rank': '9', 'value': 9},\n",
       " {'suit': 'Spades', 'rank': '10', 'value': 10},\n",
       " {'suit': 'Spades', 'rank': 'Jack', 'value': 11},\n",
       " {'suit': 'Spades', 'rank': 'Queen', 'value': 12},\n",
       " {'suit': 'Spades', 'rank': 'King', 'value': 13}]"
      ]
     },
     "execution_count": 13,
     "metadata": {},
     "output_type": "execute_result"
    }
   ],
   "source": [
    "deckList = createDeck()\n",
    "deckList"
   ]
  },
  {
   "cell_type": "code",
   "execution_count": 14,
   "metadata": {},
   "outputs": [],
   "source": [
    "import random\n",
    "\n",
    "def shuffleCards(deck):\n",
    "    import random\n",
    "    random.shuffle(deck)\n",
    "    return deck"
   ]
  },
  {
   "cell_type": "code",
   "execution_count": 15,
   "metadata": {},
   "outputs": [
    {
     "data": {
      "text/plain": [
       "[{'suit': 'Clubs', 'rank': '3', 'value': 3},\n",
       " {'suit': 'Diamonds', 'rank': '2', 'value': 2},\n",
       " {'suit': 'Spades', 'rank': 'Ace', 'value': 1},\n",
       " {'suit': 'Diamonds', 'rank': '3', 'value': 3},\n",
       " {'suit': 'Spades', 'rank': '3', 'value': 3},\n",
       " {'suit': 'Diamonds', 'rank': 'Jack', 'value': 11},\n",
       " {'suit': 'Clubs', 'rank': '6', 'value': 6},\n",
       " {'suit': 'Clubs', 'rank': '7', 'value': 7},\n",
       " {'suit': 'Diamonds', 'rank': '10', 'value': 10},\n",
       " {'suit': 'Clubs', 'rank': '4', 'value': 4},\n",
       " {'suit': 'Diamonds', 'rank': '8', 'value': 8},\n",
       " {'suit': 'Hearts', 'rank': '2', 'value': 2},\n",
       " {'suit': 'Diamonds', 'rank': 'Queen', 'value': 12},\n",
       " {'suit': 'Spades', 'rank': '5', 'value': 5},\n",
       " {'suit': 'Spades', 'rank': '7', 'value': 7},\n",
       " {'suit': 'Clubs', 'rank': '8', 'value': 8},\n",
       " {'suit': 'Hearts', 'rank': '9', 'value': 9},\n",
       " {'suit': 'Hearts', 'rank': 'Jack', 'value': 11},\n",
       " {'suit': 'Hearts', 'rank': 'King', 'value': 13},\n",
       " {'suit': 'Diamonds', 'rank': '4', 'value': 4},\n",
       " {'suit': 'Clubs', 'rank': '2', 'value': 2},\n",
       " {'suit': 'Clubs', 'rank': '9', 'value': 9},\n",
       " {'suit': 'Clubs', 'rank': '10', 'value': 10},\n",
       " {'suit': 'Clubs', 'rank': 'Jack', 'value': 11},\n",
       " {'suit': 'Hearts', 'rank': 'Queen', 'value': 12},\n",
       " {'suit': 'Hearts', 'rank': '4', 'value': 4},\n",
       " {'suit': 'Spades', 'rank': '2', 'value': 2},\n",
       " {'suit': 'Spades', 'rank': 'Jack', 'value': 11},\n",
       " {'suit': 'Spades', 'rank': '10', 'value': 10},\n",
       " {'suit': 'Spades', 'rank': 'King', 'value': 13},\n",
       " {'suit': 'Hearts', 'rank': 'Ace', 'value': 1},\n",
       " {'suit': 'Clubs', 'rank': '5', 'value': 5},\n",
       " {'suit': 'Hearts', 'rank': '10', 'value': 10},\n",
       " {'suit': 'Diamonds', 'rank': '9', 'value': 9},\n",
       " {'suit': 'Diamonds', 'rank': '6', 'value': 6},\n",
       " {'suit': 'Diamonds', 'rank': '7', 'value': 7},\n",
       " {'suit': 'Clubs', 'rank': 'King', 'value': 13},\n",
       " {'suit': 'Hearts', 'rank': '3', 'value': 3},\n",
       " {'suit': 'Clubs', 'rank': 'Queen', 'value': 12},\n",
       " {'suit': 'Hearts', 'rank': '8', 'value': 8},\n",
       " {'suit': 'Spades', 'rank': '9', 'value': 9},\n",
       " {'suit': 'Diamonds', 'rank': 'Ace', 'value': 1},\n",
       " {'suit': 'Hearts', 'rank': '7', 'value': 7},\n",
       " {'suit': 'Clubs', 'rank': 'Ace', 'value': 1},\n",
       " {'suit': 'Spades', 'rank': '6', 'value': 6},\n",
       " {'suit': 'Spades', 'rank': '8', 'value': 8},\n",
       " {'suit': 'Diamonds', 'rank': '5', 'value': 5},\n",
       " {'suit': 'Spades', 'rank': '4', 'value': 4},\n",
       " {'suit': 'Hearts', 'rank': '6', 'value': 6},\n",
       " {'suit': 'Hearts', 'rank': '5', 'value': 5},\n",
       " {'suit': 'Diamonds', 'rank': 'King', 'value': 13},\n",
       " {'suit': 'Spades', 'rank': 'Queen', 'value': 12}]"
      ]
     },
     "execution_count": 15,
     "metadata": {},
     "output_type": "execute_result"
    }
   ],
   "source": [
    "deckList = shuffleCards(deckList)\n",
    "deckList"
   ]
  },
  {
   "cell_type": "code",
   "execution_count": 16,
   "metadata": {},
   "outputs": [],
   "source": [
    "def getCard(deck, num=None):\n",
    "    if num is None:\n",
    "        card = deck.pop()\n",
    "    else:\n",
    "        card = deck.pop(num)\n",
    "    return card"
   ]
  },
  {
   "cell_type": "code",
   "execution_count": 17,
   "metadata": {},
   "outputs": [
    {
     "data": {
      "text/plain": [
       "{'suit': 'Spades', 'rank': 'Queen', 'value': 12}"
      ]
     },
     "execution_count": 17,
     "metadata": {},
     "output_type": "execute_result"
    }
   ],
   "source": [
    "card = getCard(deckList)\n",
    "card"
   ]
  },
  {
   "cell_type": "code",
   "execution_count": 18,
   "metadata": {},
   "outputs": [
    {
     "data": {
      "text/plain": [
       "51"
      ]
     },
     "execution_count": 18,
     "metadata": {},
     "output_type": "execute_result"
    }
   ],
   "source": [
    "len(deckList)"
   ]
  },
  {
   "cell_type": "code",
   "execution_count": 19,
   "metadata": {},
   "outputs": [],
   "source": [
    "def getCards(deck, numCards):\n",
    "    cardList = deck[-numCards:] \n",
    "    # cardList.reverse()\n",
    "    return cardList"
   ]
  },
  {
   "cell_type": "code",
   "execution_count": 20,
   "metadata": {},
   "outputs": [
    {
     "data": {
      "text/plain": [
       "[{'suit': 'Clubs', 'rank': 'Ace', 'value': 1},\n",
       " {'suit': 'Spades', 'rank': '6', 'value': 6},\n",
       " {'suit': 'Spades', 'rank': '8', 'value': 8},\n",
       " {'suit': 'Diamonds', 'rank': '5', 'value': 5},\n",
       " {'suit': 'Spades', 'rank': '4', 'value': 4},\n",
       " {'suit': 'Hearts', 'rank': '6', 'value': 6},\n",
       " {'suit': 'Hearts', 'rank': '5', 'value': 5},\n",
       " {'suit': 'Diamonds', 'rank': 'King', 'value': 13}]"
      ]
     },
     "execution_count": 20,
     "metadata": {},
     "output_type": "execute_result"
    }
   ],
   "source": [
    "cardList = getCards(deckList, 8)\n",
    "cardList"
   ]
  },
  {
   "cell_type": "code",
   "execution_count": 21,
   "metadata": {},
   "outputs": [],
   "source": [
    "def printCardList(cardList):\n",
    "    for i in range(len(cardList)):\n",
    "        print(f'{i + 1}. {cardList[i][\"suit\"]} {cardList[i][\"rank\"]}')\n",
    "        "
   ]
  },
  {
   "cell_type": "code",
   "execution_count": 22,
   "metadata": {},
   "outputs": [
    {
     "name": "stdout",
     "output_type": "stream",
     "text": [
      "1. Clubs Ace\n",
      "2. Spades 6\n",
      "3. Spades 8\n",
      "4. Diamonds 5\n",
      "5. Spades 4\n",
      "6. Hearts 6\n",
      "7. Hearts 5\n",
      "8. Diamonds King\n"
     ]
    }
   ],
   "source": [
    "printCardList(cardList)"
   ]
  },
  {
   "cell_type": "code",
   "execution_count": 23,
   "metadata": {},
   "outputs": [],
   "source": [
    "def printCardList(cardList):\n",
    "    for i, card in enumerate(cardList):\n",
    "        print(f'{i + 1}. {card[\"suit\"]} {card[\"rank\"]}')"
   ]
  },
  {
   "cell_type": "code",
   "execution_count": 24,
   "metadata": {},
   "outputs": [
    {
     "name": "stdout",
     "output_type": "stream",
     "text": [
      "1. Clubs Ace\n",
      "2. Spades 6\n",
      "3. Spades 8\n",
      "4. Diamonds 5\n",
      "5. Spades 4\n",
      "6. Hearts 6\n",
      "7. Hearts 5\n",
      "8. Diamonds King\n"
     ]
    }
   ],
   "source": [
    "printCardList(cardList)"
   ]
  },
  {
   "cell_type": "markdown",
   "metadata": {},
   "source": [
    "### GAME1"
   ]
  },
  {
   "cell_type": "code",
   "execution_count": 25,
   "metadata": {},
   "outputs": [],
   "source": [
    "def getChar(msg, allowedChars):\n",
    "    while True:\n",
    "        inchars = input(msg)\n",
    "        choice = inchars[0]\n",
    "        if choice in allowedChars:\n",
    "            return choice.lower()\n",
    "        else:\n",
    "            print(f'>>> [ERROR] 허용된 문자는 {allowedChars} 중 하나 입니다.')"
   ]
  },
  {
   "cell_type": "code",
   "execution_count": 26,
   "metadata": {},
   "outputs": [],
   "source": [
    "import time\n",
    "\n",
    "def game1(score):\n",
    "    print('>>> Higher or Lower 게임(1)을 시작합니다.')\n",
    "    print(f'>>> 현재 점수는 {score}점 입니다.')\n",
    "    \n",
    "    deck = createDeck()\n",
    "    \n",
    "    print('>>> 카드를 뒤섞습니다.')\n",
    "    deck = shuffleCards(deck)\n",
    "    time.sleep(0.5)\n",
    "    \n",
    "    print(f'{NCARDS}장의 카드를 가져옵니다.')\n",
    "    myCardList = getCards(deck, NCARDS)\n",
    "    \n",
    "    curCard = getCard(myCardList)\n",
    "    print(f\">>> 첫 번째 카드는 {curCard['suit']} {curCard['rank']} 입니다.\")\n",
    "    \n",
    "    while len(myCardList) > 0:\n",
    "        choice = getChar('>>> 다음 카드의 수가 더 클까요(h), 작을까요(l)?','lhLH')\n",
    "        \n",
    "        chStr = 'lower' if choice == 'l' else 'higher'\n",
    "        print(f'>>> 당신은 {chStr}를 선택하였습니다.')\n",
    "        \n",
    "        nextCard = getCard(myCardList)\n",
    "        print(f\">>> 다음 카드는 {nextCard['suit']} {nextCard['rank']} 입니다.\")\n",
    "\n",
    "        if (choice == 'l' and nextCard['value'] < curCard['value']) or \\\n",
    "            (choice == 'h' and nextCard['value'] > curCard['value']):\n",
    "            print('>>> 당신의 예측이 맞았습니다. 20점을 획득합니다.')\n",
    "            score += 20\n",
    "        else:\n",
    "            print('>>> 당신의 예측이 틀렸습니다. 15점을 잃습니다.')\n",
    "            score -= 15\n",
    "        \n",
    "        curCard = nextCard\n",
    "        print(f'>>> 당신의 점수는 {score}점 입니다.')\n",
    "        \n",
    "    print(f'>>> 게임이 종료됩니다. 최종 점수는 {score}점 입니다.')\n",
    "    \n",
    "    return score"
   ]
  },
  {
   "cell_type": "code",
   "execution_count": 27,
   "metadata": {},
   "outputs": [
    {
     "name": "stdout",
     "output_type": "stream",
     "text": [
      ">>> Higher or Lower 게임(1)을 시작합니다.\n",
      ">>> 현재 점수는 50점 입니다.\n",
      ">>> 카드를 뒤섞습니다.\n",
      "8장의 카드를 가져옵니다.\n",
      ">>> 첫 번째 카드는 Clubs 2 입니다.\n"
     ]
    },
    {
     "ename": "IndexError",
     "evalue": "string index out of range",
     "output_type": "error",
     "traceback": [
      "\u001b[1;31m---------------------------------------------------------------------------\u001b[0m",
      "\u001b[1;31mIndexError\u001b[0m                                Traceback (most recent call last)",
      "\u001b[1;32mc:\\PythonWorkSpace\\AI Programming Exercises\\2-2 Higher or Lower.ipynb 셀 27\u001b[0m in \u001b[0;36m<cell line: 1>\u001b[1;34m()\u001b[0m\n\u001b[1;32m----> <a href='vscode-notebook-cell:/c%3A/PythonWorkSpace/AI%20Programming%20Exercises/2-2%20Higher%20or%20Lower.ipynb#X35sZmlsZQ%3D%3D?line=0'>1</a>\u001b[0m game1(INIT_SCORE)\n",
      "\u001b[1;32mc:\\PythonWorkSpace\\AI Programming Exercises\\2-2 Higher or Lower.ipynb 셀 27\u001b[0m in \u001b[0;36mgame1\u001b[1;34m(score)\u001b[0m\n\u001b[0;32m     <a href='vscode-notebook-cell:/c%3A/PythonWorkSpace/AI%20Programming%20Exercises/2-2%20Higher%20or%20Lower.ipynb#X35sZmlsZQ%3D%3D?line=16'>17</a>\u001b[0m \u001b[39mprint\u001b[39m(\u001b[39mf\u001b[39m\u001b[39m\"\u001b[39m\u001b[39m>>> 첫 번째 카드는 \u001b[39m\u001b[39m{\u001b[39;00mcurCard[\u001b[39m'\u001b[39m\u001b[39msuit\u001b[39m\u001b[39m'\u001b[39m]\u001b[39m}\u001b[39;00m\u001b[39m \u001b[39m\u001b[39m{\u001b[39;00mcurCard[\u001b[39m'\u001b[39m\u001b[39mrank\u001b[39m\u001b[39m'\u001b[39m]\u001b[39m}\u001b[39;00m\u001b[39m 입니다.\u001b[39m\u001b[39m\"\u001b[39m)\n\u001b[0;32m     <a href='vscode-notebook-cell:/c%3A/PythonWorkSpace/AI%20Programming%20Exercises/2-2%20Higher%20or%20Lower.ipynb#X35sZmlsZQ%3D%3D?line=18'>19</a>\u001b[0m \u001b[39mwhile\u001b[39;00m \u001b[39mlen\u001b[39m(myCardList) \u001b[39m>\u001b[39m \u001b[39m0\u001b[39m:\n\u001b[1;32m---> <a href='vscode-notebook-cell:/c%3A/PythonWorkSpace/AI%20Programming%20Exercises/2-2%20Higher%20or%20Lower.ipynb#X35sZmlsZQ%3D%3D?line=19'>20</a>\u001b[0m     choice \u001b[39m=\u001b[39m getChar(\u001b[39m'\u001b[39;49m\u001b[39m>>> 다음 카드의 수가 더 클까요(h), 작을까요(l)?\u001b[39;49m\u001b[39m'\u001b[39;49m,\u001b[39m'\u001b[39;49m\u001b[39mlhLH\u001b[39;49m\u001b[39m'\u001b[39;49m)\n\u001b[0;32m     <a href='vscode-notebook-cell:/c%3A/PythonWorkSpace/AI%20Programming%20Exercises/2-2%20Higher%20or%20Lower.ipynb#X35sZmlsZQ%3D%3D?line=21'>22</a>\u001b[0m     chStr \u001b[39m=\u001b[39m \u001b[39m'\u001b[39m\u001b[39mlower\u001b[39m\u001b[39m'\u001b[39m \u001b[39mif\u001b[39;00m choice \u001b[39m==\u001b[39m \u001b[39m'\u001b[39m\u001b[39ml\u001b[39m\u001b[39m'\u001b[39m \u001b[39melse\u001b[39;00m \u001b[39m'\u001b[39m\u001b[39mhigher\u001b[39m\u001b[39m'\u001b[39m\n\u001b[0;32m     <a href='vscode-notebook-cell:/c%3A/PythonWorkSpace/AI%20Programming%20Exercises/2-2%20Higher%20or%20Lower.ipynb#X35sZmlsZQ%3D%3D?line=22'>23</a>\u001b[0m     \u001b[39mprint\u001b[39m(\u001b[39mf\u001b[39m\u001b[39m'\u001b[39m\u001b[39m>>> 당신은 \u001b[39m\u001b[39m{\u001b[39;00mchStr\u001b[39m}\u001b[39;00m\u001b[39m를 선택하였습니다.\u001b[39m\u001b[39m'\u001b[39m)\n",
      "\u001b[1;32mc:\\PythonWorkSpace\\AI Programming Exercises\\2-2 Higher or Lower.ipynb 셀 27\u001b[0m in \u001b[0;36mgetChar\u001b[1;34m(msg, allowedChars)\u001b[0m\n\u001b[0;32m      <a href='vscode-notebook-cell:/c%3A/PythonWorkSpace/AI%20Programming%20Exercises/2-2%20Higher%20or%20Lower.ipynb#X35sZmlsZQ%3D%3D?line=1'>2</a>\u001b[0m \u001b[39mwhile\u001b[39;00m \u001b[39mTrue\u001b[39;00m:\n\u001b[0;32m      <a href='vscode-notebook-cell:/c%3A/PythonWorkSpace/AI%20Programming%20Exercises/2-2%20Higher%20or%20Lower.ipynb#X35sZmlsZQ%3D%3D?line=2'>3</a>\u001b[0m     inchars \u001b[39m=\u001b[39m \u001b[39minput\u001b[39m(msg)\n\u001b[1;32m----> <a href='vscode-notebook-cell:/c%3A/PythonWorkSpace/AI%20Programming%20Exercises/2-2%20Higher%20or%20Lower.ipynb#X35sZmlsZQ%3D%3D?line=3'>4</a>\u001b[0m     choice \u001b[39m=\u001b[39m inchars[\u001b[39m0\u001b[39;49m]\n\u001b[0;32m      <a href='vscode-notebook-cell:/c%3A/PythonWorkSpace/AI%20Programming%20Exercises/2-2%20Higher%20or%20Lower.ipynb#X35sZmlsZQ%3D%3D?line=4'>5</a>\u001b[0m     \u001b[39mif\u001b[39;00m choice \u001b[39min\u001b[39;00m allowedChars:\n\u001b[0;32m      <a href='vscode-notebook-cell:/c%3A/PythonWorkSpace/AI%20Programming%20Exercises/2-2%20Higher%20or%20Lower.ipynb#X35sZmlsZQ%3D%3D?line=5'>6</a>\u001b[0m         \u001b[39mreturn\u001b[39;00m choice\u001b[39m.\u001b[39mlower()\n",
      "\u001b[1;31mIndexError\u001b[0m: string index out of range"
     ]
    }
   ],
   "source": [
    "game1(INIT_SCORE)"
   ]
  },
  {
   "cell_type": "markdown",
   "metadata": {},
   "source": [
    "### GAME2"
   ]
  },
  {
   "cell_type": "code",
   "execution_count": 28,
   "metadata": {},
   "outputs": [],
   "source": [
    "def int_get(input_str, minval=1, maxval=None, default=None):\n",
    "\n",
    "    while True:\n",
    "        if default is not None:\n",
    "            val = input(input_str+'['+str(default)+'] ')\n",
    "        else:\n",
    "            val = input(input_str+' ')\n",
    "        if val == '' and default is not None:\n",
    "            return default\n",
    "        elif set(val) <= set(\"-0123456789\"):\n",
    "            val = int(val)\n",
    "            if maxval is not None:\n",
    "                if minval <= val <= maxval:\n",
    "                    return val\n",
    "                else:\n",
    "                    print(\">>> [ERROR] 입력값이 범위를 벗어났습니다!\")\n",
    "            else:\n",
    "                if minval <= val:\n",
    "                    return val\n",
    "                else:\n",
    "                    print(\">>> [ERROR] 입력값이 범위를 벗어났습니다!\")\n",
    "        else:\n",
    "            print(\">>> [ERROR] 정수를 입력해주세요!\")\n"
   ]
  },
  {
   "cell_type": "code",
   "execution_count": 29,
   "metadata": {},
   "outputs": [],
   "source": [
    "def game2(score):\n",
    "    print(\">>> Higher or Lower 게임(2)을 시작합니다.\")\n",
    "    print(f\">>> 현재 점수는 {score}입니다.\")\n",
    "\n",
    "    deck = createDeck()\n",
    "\n",
    "    print(\">>> 카드를 뒤섞습니다.\")\n",
    "    deck = shuffleCards(deck)\n",
    "    time.sleep(0.5)\n",
    "\n",
    "    print(f\">>> 당신에게 {NCARDS}장의 카드를 나누어줍니다.\")\n",
    "    myCardList = getCards(deck, NCARDS)\n",
    "\n",
    "    print(f\">>> 딜러가 {NCARDS}장의 카드를 가져갑니다.\")\n",
    "    dealerCardList = getCards(deck, NCARDS)\n",
    "\n",
    "    while len(myCardList) > 0: \n",
    "\n",
    "        print(\">>> 당신의 카드는 다음과 같습니다.\")\n",
    "        printCardList(myCardList)\n",
    "\n",
    "        choice = int_get(\">>> 선택할 카드 번호를 입력하세요: \", minval=1,\n",
    "                         maxval=len(myCardList), default=None)\n",
    "        curCard = getCard(myCardList, choice-1)\n",
    "\n",
    "\n",
    "        print(f\">>> 당신이 선택한 카드는 {curCard['suit']} {curCard['rank']}입니다.\")\n",
    "\n",
    "        dealerCard = getCard(dealerCardList)\n",
    "        print(f\">>> 딜러의 카드는 {dealerCard['suit']} {dealerCard['rank']}입니다.\")\n",
    "\n",
    "    \n",
    "        if curCard['value'] > dealerCard['value']:\n",
    "            print(\">>> 당신이 이겼습니다. 20점을 획득합니다.\")\n",
    "            score += 20\n",
    "        elif curCard['value'] < dealerCard['value']:\n",
    "            print(\">>> 당신이 졌습니다. 20점을 잃습니다.\")\n",
    "            score -= 20\n",
    "        else:\n",
    "            print(\">>> 비겼습니다. 점수 변동은 없습니다.\")\n",
    "\n",
    "        print(f\">>> 당신의 점수는 {score}입니다.\")\n",
    "\n",
    "    print(f\">>> 게임이 종료됩니다. 당신의 최종 점수는 {score}입니다.\")\n",
    "\n",
    "    return score\n"
   ]
  },
  {
   "cell_type": "code",
   "execution_count": 30,
   "metadata": {},
   "outputs": [
    {
     "name": "stdout",
     "output_type": "stream",
     "text": [
      ">>> Higher or Lower 게임(2)을 시작합니다.\n",
      ">>> 현재 점수는 50입니다.\n",
      ">>> 카드를 뒤섞습니다.\n",
      ">>> 당신에게 8장의 카드를 나누어줍니다.\n",
      ">>> 딜러가 8장의 카드를 가져갑니다.\n",
      ">>> 당신의 카드는 다음과 같습니다.\n",
      "1. Clubs 8\n",
      "2. Spades 6\n",
      "3. Clubs Queen\n",
      "4. Spades 2\n",
      "5. Spades 5\n",
      "6. Diamonds Jack\n",
      "7. Hearts Queen\n",
      "8. Spades 3\n",
      ">>> 당신이 선택한 카드는 Spades 6입니다.\n",
      ">>> 딜러의 카드는 Spades 3입니다.\n",
      ">>> 당신이 이겼습니다. 20점을 획득합니다.\n",
      ">>> 당신의 점수는 70입니다.\n",
      ">>> 당신의 카드는 다음과 같습니다.\n",
      "1. Clubs 8\n",
      "2. Clubs Queen\n",
      "3. Spades 2\n",
      "4. Spades 5\n",
      "5. Diamonds Jack\n",
      "6. Hearts Queen\n",
      "7. Spades 3\n"
     ]
    },
    {
     "ename": "ValueError",
     "evalue": "invalid literal for int() with base 10: ''",
     "output_type": "error",
     "traceback": [
      "\u001b[1;31m---------------------------------------------------------------------------\u001b[0m",
      "\u001b[1;31mValueError\u001b[0m                                Traceback (most recent call last)",
      "\u001b[1;32mc:\\PythonWorkSpace\\AI Programming Exercises\\2-2 Higher or Lower.ipynb 셀 31\u001b[0m in \u001b[0;36m<cell line: 1>\u001b[1;34m()\u001b[0m\n\u001b[1;32m----> <a href='vscode-notebook-cell:/c%3A/PythonWorkSpace/AI%20Programming%20Exercises/2-2%20Higher%20or%20Lower.ipynb#X42sZmlsZQ%3D%3D?line=0'>1</a>\u001b[0m game2(INIT_SCORE)\n",
      "\u001b[1;32mc:\\PythonWorkSpace\\AI Programming Exercises\\2-2 Higher or Lower.ipynb 셀 31\u001b[0m in \u001b[0;36mgame2\u001b[1;34m(score)\u001b[0m\n\u001b[0;32m     <a href='vscode-notebook-cell:/c%3A/PythonWorkSpace/AI%20Programming%20Exercises/2-2%20Higher%20or%20Lower.ipynb#X42sZmlsZQ%3D%3D?line=18'>19</a>\u001b[0m \u001b[39mprint\u001b[39m(\u001b[39m\"\u001b[39m\u001b[39m>>> 당신의 카드는 다음과 같습니다.\u001b[39m\u001b[39m\"\u001b[39m)\n\u001b[0;32m     <a href='vscode-notebook-cell:/c%3A/PythonWorkSpace/AI%20Programming%20Exercises/2-2%20Higher%20or%20Lower.ipynb#X42sZmlsZQ%3D%3D?line=19'>20</a>\u001b[0m printCardList(myCardList)\n\u001b[1;32m---> <a href='vscode-notebook-cell:/c%3A/PythonWorkSpace/AI%20Programming%20Exercises/2-2%20Higher%20or%20Lower.ipynb#X42sZmlsZQ%3D%3D?line=21'>22</a>\u001b[0m choice \u001b[39m=\u001b[39m int_get(\u001b[39m\"\u001b[39;49m\u001b[39m>>> 선택할 카드 번호를 입력하세요: \u001b[39;49m\u001b[39m\"\u001b[39;49m, minval\u001b[39m=\u001b[39;49m\u001b[39m1\u001b[39;49m,\n\u001b[0;32m     <a href='vscode-notebook-cell:/c%3A/PythonWorkSpace/AI%20Programming%20Exercises/2-2%20Higher%20or%20Lower.ipynb#X42sZmlsZQ%3D%3D?line=22'>23</a>\u001b[0m                  maxval\u001b[39m=\u001b[39;49m\u001b[39mlen\u001b[39;49m(myCardList), default\u001b[39m=\u001b[39;49m\u001b[39mNone\u001b[39;49;00m)\n\u001b[0;32m     <a href='vscode-notebook-cell:/c%3A/PythonWorkSpace/AI%20Programming%20Exercises/2-2%20Higher%20or%20Lower.ipynb#X42sZmlsZQ%3D%3D?line=23'>24</a>\u001b[0m curCard \u001b[39m=\u001b[39m getCard(myCardList, choice\u001b[39m-\u001b[39m\u001b[39m1\u001b[39m)\n\u001b[0;32m     <a href='vscode-notebook-cell:/c%3A/PythonWorkSpace/AI%20Programming%20Exercises/2-2%20Higher%20or%20Lower.ipynb#X42sZmlsZQ%3D%3D?line=26'>27</a>\u001b[0m \u001b[39mprint\u001b[39m(\u001b[39mf\u001b[39m\u001b[39m\"\u001b[39m\u001b[39m>>> 당신이 선택한 카드는 \u001b[39m\u001b[39m{\u001b[39;00mcurCard[\u001b[39m'\u001b[39m\u001b[39msuit\u001b[39m\u001b[39m'\u001b[39m]\u001b[39m}\u001b[39;00m\u001b[39m \u001b[39m\u001b[39m{\u001b[39;00mcurCard[\u001b[39m'\u001b[39m\u001b[39mrank\u001b[39m\u001b[39m'\u001b[39m]\u001b[39m}\u001b[39;00m\u001b[39m입니다.\u001b[39m\u001b[39m\"\u001b[39m)\n",
      "\u001b[1;32mc:\\PythonWorkSpace\\AI Programming Exercises\\2-2 Higher or Lower.ipynb 셀 31\u001b[0m in \u001b[0;36mint_get\u001b[1;34m(input_str, minval, maxval, default)\u001b[0m\n\u001b[0;32m      <a href='vscode-notebook-cell:/c%3A/PythonWorkSpace/AI%20Programming%20Exercises/2-2%20Higher%20or%20Lower.ipynb#X42sZmlsZQ%3D%3D?line=8'>9</a>\u001b[0m     \u001b[39mreturn\u001b[39;00m default\n\u001b[0;32m     <a href='vscode-notebook-cell:/c%3A/PythonWorkSpace/AI%20Programming%20Exercises/2-2%20Higher%20or%20Lower.ipynb#X42sZmlsZQ%3D%3D?line=9'>10</a>\u001b[0m \u001b[39melif\u001b[39;00m \u001b[39mset\u001b[39m(val) \u001b[39m<\u001b[39m\u001b[39m=\u001b[39m \u001b[39mset\u001b[39m(\u001b[39m\"\u001b[39m\u001b[39m-0123456789\u001b[39m\u001b[39m\"\u001b[39m):\n\u001b[1;32m---> <a href='vscode-notebook-cell:/c%3A/PythonWorkSpace/AI%20Programming%20Exercises/2-2%20Higher%20or%20Lower.ipynb#X42sZmlsZQ%3D%3D?line=10'>11</a>\u001b[0m     val \u001b[39m=\u001b[39m \u001b[39mint\u001b[39;49m(val)\n\u001b[0;32m     <a href='vscode-notebook-cell:/c%3A/PythonWorkSpace/AI%20Programming%20Exercises/2-2%20Higher%20or%20Lower.ipynb#X42sZmlsZQ%3D%3D?line=11'>12</a>\u001b[0m     \u001b[39mif\u001b[39;00m maxval \u001b[39mis\u001b[39;00m \u001b[39mnot\u001b[39;00m \u001b[39mNone\u001b[39;00m:\n\u001b[0;32m     <a href='vscode-notebook-cell:/c%3A/PythonWorkSpace/AI%20Programming%20Exercises/2-2%20Higher%20or%20Lower.ipynb#X42sZmlsZQ%3D%3D?line=12'>13</a>\u001b[0m         \u001b[39mif\u001b[39;00m minval \u001b[39m<\u001b[39m\u001b[39m=\u001b[39m val \u001b[39m<\u001b[39m\u001b[39m=\u001b[39m maxval:\n",
      "\u001b[1;31mValueError\u001b[0m: invalid literal for int() with base 10: ''"
     ]
    }
   ],
   "source": [
    "game2(INIT_SCORE)"
   ]
  },
  {
   "cell_type": "code",
   "execution_count": null,
   "metadata": {},
   "outputs": [],
   "source": []
  },
  {
   "cell_type": "code",
   "execution_count": null,
   "metadata": {},
   "outputs": [],
   "source": []
  },
  {
   "cell_type": "code",
   "execution_count": null,
   "metadata": {},
   "outputs": [],
   "source": []
  }
 ],
 "metadata": {
  "kernelspec": {
   "display_name": "Python 3.9.8 64-bit",
   "language": "python",
   "name": "python3"
  },
  "language_info": {
   "codemirror_mode": {
    "name": "ipython",
    "version": 3
   },
   "file_extension": ".py",
   "mimetype": "text/x-python",
   "name": "python",
   "nbconvert_exporter": "python",
   "pygments_lexer": "ipython3",
   "version": "3.9.8"
  },
  "orig_nbformat": 4,
  "vscode": {
   "interpreter": {
    "hash": "ca7b62161f3b9e3222d6fb67745e01a946a6552e36cbdcc714dadc2ba14328d1"
   }
  }
 },
 "nbformat": 4,
 "nbformat_minor": 2
}
