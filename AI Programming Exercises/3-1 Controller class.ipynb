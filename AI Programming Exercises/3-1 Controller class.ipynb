{
 "cells": [
  {
   "cell_type": "code",
   "execution_count": 1,
   "metadata": {},
   "outputs": [],
   "source": [
    "switchIsOn = False"
   ]
  },
  {
   "cell_type": "code",
   "execution_count": 2,
   "metadata": {},
   "outputs": [],
   "source": [
    "def turnOn(switch):\n",
    "    switch = True\n",
    "    return switch"
   ]
  },
  {
   "cell_type": "code",
   "execution_count": 3,
   "metadata": {},
   "outputs": [],
   "source": [
    "def turnOff(switch):\n",
    "    switch = False\n",
    "    return switch"
   ]
  },
  {
   "cell_type": "code",
   "execution_count": 4,
   "metadata": {},
   "outputs": [],
   "source": [
    "def turnOn():\n",
    "    global switchIsOn\n",
    "    switchIsOn = True\n",
    "    return "
   ]
  },
  {
   "cell_type": "code",
   "execution_count": 5,
   "metadata": {},
   "outputs": [],
   "source": [
    "def turnOff():\n",
    "    global switchIsOn\n",
    "    switchIsOn = False\n",
    "    return\n"
   ]
  },
  {
   "cell_type": "markdown",
   "metadata": {},
   "source": [
    "* 스위치의 객체지향 설계"
   ]
  },
  {
   "cell_type": "code",
   "execution_count": 6,
   "metadata": {},
   "outputs": [],
   "source": [
    "class LightSwitch():\n",
    "    def __init__(self):\n",
    "        self.switchIsOn = False\n",
    "        \n",
    "    def turnOn(self):\n",
    "        self.switchIsOn = True\n",
    "\n",
    "    def turnOff(self):\n",
    "        self.switchIsOn = False"
   ]
  },
  {
   "cell_type": "code",
   "execution_count": 7,
   "metadata": {},
   "outputs": [],
   "source": [
    "lightswitch = LightSwitch()"
   ]
  },
  {
   "cell_type": "code",
   "execution_count": 8,
   "metadata": {},
   "outputs": [],
   "source": [
    "lightswitch.turnOn()"
   ]
  },
  {
   "cell_type": "code",
   "execution_count": 9,
   "metadata": {},
   "outputs": [],
   "source": [
    "class LightSwitch():\n",
    "    def __init__(self):\n",
    "        self.switchIsOn = False\n",
    "\n",
    "    def turnOn(self):\n",
    "        self.switchIsOn = True\n",
    "\n",
    "    def turnOff(self):\n",
    "        self.switchIsOn = False\n",
    "\n",
    "    def show(self):\n",
    "        print(self.switchIsOn)"
   ]
  },
  {
   "cell_type": "code",
   "execution_count": 10,
   "metadata": {},
   "outputs": [],
   "source": [
    "lightswitch1 = LightSwitch()"
   ]
  },
  {
   "cell_type": "code",
   "execution_count": 11,
   "metadata": {},
   "outputs": [
    {
     "name": "stdout",
     "output_type": "stream",
     "text": [
      "False\n"
     ]
    }
   ],
   "source": [
    "lightswitch1.show()"
   ]
  },
  {
   "cell_type": "code",
   "execution_count": 12,
   "metadata": {},
   "outputs": [],
   "source": [
    "class DimmerSwitch():\n",
    "    def __init__(self, maxLevel=10):\n",
    "        self.switchIsOn = False\n",
    "        self.brightness = 0\n",
    "        self.maxLevel = maxLevel\n",
    "\n",
    "    def turnOn(self):\n",
    "        self.switchIsOn = True\n",
    "\n",
    "    def turnOff(self):\n",
    "        self.switchIsOn = False\n",
    "\n",
    "    def raiseLevel(self):\n",
    "        if self.brightness < self.maxLevel:\n",
    "            self.brightness += 1\n",
    "\n",
    "    def lowerLevel(self):\n",
    "        if self.brightness > 0:\n",
    "            self.brightness -= 1\n",
    "\n",
    "    def show(self):\n",
    "        print(\"Switch is on?\", self.switchIsOn)\n",
    "        print(\"Brightness is\", self.brightness)\n",
    "        print(\"Max Brightness:\", self.maxLevel)\n"
   ]
  },
  {
   "cell_type": "code",
   "execution_count": 13,
   "metadata": {},
   "outputs": [],
   "source": [
    "dimmerswitch1 = DimmerSwitch()"
   ]
  },
  {
   "cell_type": "code",
   "execution_count": 14,
   "metadata": {},
   "outputs": [],
   "source": [
    "dimmerswitch1.turnOn()"
   ]
  },
  {
   "cell_type": "code",
   "execution_count": 15,
   "metadata": {},
   "outputs": [
    {
     "name": "stdout",
     "output_type": "stream",
     "text": [
      "Switch is on? True\n",
      "Brightness is 0\n",
      "Max Brightness: 10\n"
     ]
    }
   ],
   "source": [
    "dimmerswitch1.show()"
   ]
  },
  {
   "cell_type": "code",
   "execution_count": 16,
   "metadata": {},
   "outputs": [],
   "source": [
    "dimmerswitch1.raiseLevel()"
   ]
  },
  {
   "cell_type": "code",
   "execution_count": 17,
   "metadata": {},
   "outputs": [
    {
     "name": "stdout",
     "output_type": "stream",
     "text": [
      "Switch is on? True\n",
      "Brightness is 1\n",
      "Max Brightness: 10\n"
     ]
    }
   ],
   "source": [
    "dimmerswitch1.show()"
   ]
  },
  {
   "cell_type": "code",
   "execution_count": 18,
   "metadata": {},
   "outputs": [],
   "source": [
    "class TV():\n",
    "    def __init__(self, maxVol=100):\n",
    "        self.isOn = False\n",
    "        self.isMuted = False\n",
    "        self.chList = [3, 5, 7, 9, 11, 14, 15]\n",
    "        self.curChIndex = 0\n",
    "        self.maxVol = maxVol\n",
    "        self.curVol = maxVol // 2\n",
    "\n",
    "    def power(self):\n",
    "        self.isOn = not self.isOn\n",
    "\n",
    "    def volUp(self):\n",
    "        if not self.isOn:\n",
    "            return\n",
    "        if self.isMuted:\n",
    "            self.isMuted = False\n",
    "        if self.curVol < self.maxVol:\n",
    "            self.curVol += 1\n",
    "\n",
    "    def volDown(self):\n",
    "        if not self.isOn:\n",
    "            return\n",
    "        if self.isMuted:\n",
    "            self.isMuted = False\n",
    "        if self.curVol > 0:\n",
    "            self.curVol -= 1\n",
    "\n",
    "    def chUp(self):\n",
    "        if not self.isOn:\n",
    "            return\n",
    "        self.curChIndex = (self.curChIndex+1) % len(self.chList)\n",
    "\n",
    "    def chDown(self):\n",
    "        if not self.isOn:\n",
    "            return\n",
    "        self.curChIndex = (self.curChIndex-1) % len(self.chList)\n",
    "\n",
    "    def mute(self):\n",
    "        if not self.isOn:\n",
    "            return\n",
    "        self.isMuted = not self.isMuted\n",
    "\n",
    "    def setCh(self, newCh):\n",
    "        if not self.isOn:\n",
    "            return\n",
    "        if newCh in self.chList:\n",
    "            self.curChIndex = self.chList.index(newCh)\n",
    "\n",
    "    def getInfo(self):\n",
    "        if self.isOn:\n",
    "            print(\"TV is On\")\n",
    "            print(\"Channel is:\", self.chList[self.curChIndex])\n",
    "            if self.isMuted:\n",
    "                print(\"Volume is:\", self.curVol, \"(muted)\")\n",
    "            else:\n",
    "                print(\"Volume is:\", self.curVol)\n",
    "        else:\n",
    "            print(\"TV is Off\")"
   ]
  },
  {
   "cell_type": "code",
   "execution_count": 19,
   "metadata": {},
   "outputs": [],
   "source": [
    "tv1 = TV()"
   ]
  },
  {
   "cell_type": "code",
   "execution_count": 20,
   "metadata": {},
   "outputs": [],
   "source": [
    "tv1.power()"
   ]
  },
  {
   "cell_type": "code",
   "execution_count": 23,
   "metadata": {},
   "outputs": [
    {
     "name": "stdout",
     "output_type": "stream",
     "text": [
      "TV is On\n",
      "Channel is: 3\n",
      "Volume is: 50\n"
     ]
    }
   ],
   "source": [
    "tv1.getInfo()"
   ]
  },
  {
   "cell_type": "code",
   "execution_count": null,
   "metadata": {},
   "outputs": [],
   "source": []
  }
 ],
 "metadata": {
  "kernelspec": {
   "display_name": "Python 3.9.8 64-bit",
   "language": "python",
   "name": "python3"
  },
  "language_info": {
   "codemirror_mode": {
    "name": "ipython",
    "version": 3
   },
   "file_extension": ".py",
   "mimetype": "text/x-python",
   "name": "python",
   "nbconvert_exporter": "python",
   "pygments_lexer": "ipython3",
   "version": "3.9.8"
  },
  "orig_nbformat": 4,
  "vscode": {
   "interpreter": {
    "hash": "ca7b62161f3b9e3222d6fb67745e01a946a6552e36cbdcc714dadc2ba14328d1"
   }
  }
 },
 "nbformat": 4,
 "nbformat_minor": 2
}
