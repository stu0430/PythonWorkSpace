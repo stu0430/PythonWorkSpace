{
 "cells": [
  {
   "cell_type": "code",
   "execution_count": 4,
   "id": "ab175b48",
   "metadata": {},
   "outputs": [],
   "source": [
    "from util import header"
   ]
  },
  {
   "cell_type": "code",
   "execution_count": 26,
   "id": "94543e2f",
   "metadata": {},
   "outputs": [
    {
     "name": "stdout",
     "output_type": "stream",
     "text": [
      "**********************\n",
      "* 1-2 Caesar cipher  *\n",
      "*     2022.09.19     *\n",
      "* (c) Lee, Sang-Gwon *\n",
      "**********************\n"
     ]
    }
   ],
   "source": [
    "header.header_print('1-2 Caesar cipher', '2022.09.19', '(c) Lee, Sang-Gwon')"
   ]
  },
  {
   "cell_type": "code",
   "execution_count": 6,
   "id": "763aacaf",
   "metadata": {},
   "outputs": [
    {
     "data": {
      "text/plain": [
       "97"
      ]
     },
     "execution_count": 6,
     "metadata": {},
     "output_type": "execute_result"
    }
   ],
   "source": [
    "ord('a')"
   ]
  },
  {
   "cell_type": "code",
   "execution_count": 7,
   "id": "a0336003",
   "metadata": {},
   "outputs": [
    {
     "data": {
      "text/plain": [
       "'a'"
      ]
     },
     "execution_count": 7,
     "metadata": {},
     "output_type": "execute_result"
    }
   ],
   "source": [
    "chr(97)"
   ]
  },
  {
   "cell_type": "code",
   "execution_count": 8,
   "id": "5769c390",
   "metadata": {},
   "outputs": [
    {
     "data": {
      "text/plain": [
       "'b'"
      ]
     },
     "execution_count": 8,
     "metadata": {},
     "output_type": "execute_result"
    }
   ],
   "source": [
    "chr(ord('a')+1)"
   ]
  },
  {
   "cell_type": "code",
   "execution_count": 19,
   "id": "c97e555d",
   "metadata": {},
   "outputs": [],
   "source": [
    "plaintext = input(\"암호화할 문장을 입력하세요: \")"
   ]
  },
  {
   "cell_type": "code",
   "execution_count": 10,
   "id": "1473a65f",
   "metadata": {},
   "outputs": [
    {
     "data": {
      "text/plain": [
       "''"
      ]
     },
     "execution_count": 10,
     "metadata": {},
     "output_type": "execute_result"
    }
   ],
   "source": [
    "plaintext"
   ]
  },
  {
   "cell_type": "code",
   "execution_count": 11,
   "id": "f232a51f",
   "metadata": {},
   "outputs": [],
   "source": [
    "for ch in plaintext:\n",
    "    print(ord(ch))"
   ]
  },
  {
   "cell_type": "code",
   "execution_count": 12,
   "id": "372cb096",
   "metadata": {},
   "outputs": [],
   "source": [
    "for ch in plaintext:\n",
    "    print(chr(ord(ch)+1), end='')"
   ]
  },
  {
   "cell_type": "code",
   "execution_count": 13,
   "id": "e60cd8de",
   "metadata": {},
   "outputs": [
    {
     "data": {
      "text/plain": [
       "(32, 126)"
      ]
     },
     "execution_count": 13,
     "metadata": {},
     "output_type": "execute_result"
    }
   ],
   "source": [
    "first = ord(' ')\n",
    "last  = ord('~')\n",
    "first, last"
   ]
  },
  {
   "cell_type": "code",
   "execution_count": 14,
   "id": "8df363a7",
   "metadata": {},
   "outputs": [],
   "source": [
    "key = 100"
   ]
  },
  {
   "cell_type": "code",
   "execution_count": 15,
   "id": "bb92646d",
   "metadata": {},
   "outputs": [],
   "source": [
    "for ch in plaintext:\n",
    "    print(chr((ord(ch) + key - first) % (last - first + 1) + first), end='')"
   ]
  },
  {
   "cell_type": "code",
   "execution_count": 16,
   "id": "2f2a9981",
   "metadata": {},
   "outputs": [],
   "source": [
    "def make_cipher(plaintext, key):\n",
    "\n",
    "    first = ord(' ')\n",
    "    last  = ord('~')\n",
    "    \n",
    "    for ch in plaintext:\n",
    "        print(chr((ord(ch) + key - first) % (last - first + 1) + first), end='')"
   ]
  },
  {
   "cell_type": "code",
   "execution_count": 27,
   "id": "7ec767c4",
   "metadata": {},
   "outputs": [],
   "source": [
    "def make_cipher(plaintext, key):\n",
    "\n",
    "    first = ord(' ')\n",
    "    last  = ord('~')\n",
    "    \n",
    "    for ch in plaintext:\n",
    "        print(chr((ord(ch) + key - first) % (last - first + 1) + first), end='')\n"
   ]
  },
  {
   "cell_type": "code",
   "execution_count": 17,
   "id": "8a39eee7",
   "metadata": {},
   "outputs": [
    {
     "name": "stdout",
     "output_type": "stream",
     "text": [
      "Rovvy"
     ]
    }
   ],
   "source": [
    "make_cipher(\"Hello\", 10)"
   ]
  },
  {
   "cell_type": "code",
   "execution_count": 18,
   "id": "ec684716",
   "metadata": {},
   "outputs": [],
   "source": [
    "filename = \"cipher.txt\""
   ]
  },
  {
   "cell_type": "code",
   "execution_count": 20,
   "id": "5119cdd7",
   "metadata": {},
   "outputs": [],
   "source": [
    "with open(filename, 'w') as cfile:\n",
    "    cfile.write(plaintext)"
   ]
  },
  {
   "cell_type": "code",
   "execution_count": 21,
   "id": "755e74d8",
   "metadata": {},
   "outputs": [
    {
     "name": "stdout",
     "output_type": "stream",
     "text": [
      "this is a test\n"
     ]
    }
   ],
   "source": [
    "with open(filename, 'r') as cfile:\n",
    "    line = cfile.readline()\n",
    "    print(line)"
   ]
  },
  {
   "cell_type": "code",
   "execution_count": 22,
   "id": "2f2a9981",
   "metadata": {},
   "outputs": [],
   "source": [
    "def make_cipher(plaintext, key):\n",
    "    \n",
    "    ciphertext = ''\n",
    "\n",
    "    first = ord(' ')\n",
    "    last  = ord('~')\n",
    "    \n",
    "    for ch in plaintext:\n",
    "        ciphertext += chr((ord(ch) + key - first) % (last - first + 1) + first)\n",
    "    print(ciphertext)"
   ]
  },
  {
   "cell_type": "code",
   "execution_count": 23,
   "id": "b1920ac9",
   "metadata": {},
   "outputs": [],
   "source": [
    "def make_cipher(plaintext, key):\n",
    "\n",
    "    ciphertext = ''\n",
    "\n",
    "    first = ord(' ')\n",
    "    last = ord('~')\n",
    "\n",
    "    for ch in plaintext:\n",
    "        ciphertext += chr((ord(ch) + key - first) % (last - first + 1) + first)\n",
    "    \n",
    "    return ciphertext"
   ]
  },
  {
   "cell_type": "code",
   "execution_count": 24,
   "id": "30dd7353",
   "metadata": {},
   "outputs": [
    {
     "name": "stdout",
     "output_type": "stream",
     "text": [
      "**********************\n",
      "*  1-1 header print  *\n",
      "*     2022.09.14     *\n",
      "* (c) Lee, Sang-Gwon *\n",
      "**********************\n",
      "암호화된 문장 : ymnx%nx%f%yjxy\n",
      "암호문 파일을 저장하였습니다 : cipher.txt\n"
     ]
    }
   ],
   "source": [
    "from util import header\n",
    "\n",
    "def make_cipher(plaintext, key):\n",
    "\n",
    "    ciphertext = ''\n",
    "\n",
    "    first = ord(' ')\n",
    "    last = ord('~')\n",
    "\n",
    "    for ch in plaintext:\n",
    "        ciphertext += chr((ord(ch) + key - first) % (last - first + 1) + first)\n",
    "    \n",
    "    return ciphertext\n",
    "\n",
    "header.header_print('1-2 Caesar cipher', '2022.09.19', '(c) Lee, Sang-Gwon')\n",
    "\n",
    "plaintext = input('암호화할 문자을 입력하세요 : ')\n",
    "key       = int(input('Caesar Cipher 키값을 입력하세요 : '))\n",
    "filename  = input('암호문을 저장할 파일명을 입력하세요 : ')\n",
    "\n",
    "ciphertext = make_cipher(plaintext, key)\n",
    "print(f'암호화된 문장 : {ciphertext}')\n",
    "\n",
    "with open(filename, 'w') as cfile:\n",
    "    cfile.write(plaintext)\n",
    "print(f'암호문 파일을 저장하였습니다 : {filename}')"
   ]
  },
  {
   "cell_type": "code",
   "execution_count": 1,
   "id": "30dd7353",
   "metadata": {},
   "outputs": [
    {
     "name": "stdout",
     "output_type": "stream",
     "text": [
      "Overwriting caesar_cipher.py\n"
     ]
    }
   ],
   "source": [
    "%%writefile caesar_cipher.py\n",
    "from util import header\n",
    "\n",
    "def make_cipher(plaintext, key):\n",
    "\n",
    "    ciphertext = ''\n",
    "\n",
    "    first = ord(' ')\n",
    "    last = ord('~')\n",
    "\n",
    "    for ch in plaintext:\n",
    "        ciphertext += chr((ord(ch) + key - first) % (last - first + 1) + first)\n",
    "    \n",
    "    return ciphertext\n",
    "\n",
    "def main():\n",
    "    header.header_print('1-2 Caesar cipher', '2022.09.19', '(c) Lee, Sang-Gwon')\n",
    "\n",
    "    plaintext = input('암호화할 문자을 입력하세요 : ')\n",
    "    key       = int(input('Caesar Cipher 키값을 입력하세요 : '))\n",
    "    filename  = input('암호문을 저장할 파일명을 입력하세요 : ')\n",
    "\n",
    "    ciphertext = make_cipher(plaintext, key)\n",
    "    print(f'암호화된 문장 : {ciphertext}')\n",
    "\n",
    "    with open(filename, 'w') as cfile:\n",
    "        cfile.write(ciphertext)\n",
    "    print(f'암호문 파일을 저장하였습니다 : {filename}')\n",
    "    \n",
    "if __name__ == '__main__':\n",
    "    main()"
   ]
  },
  {
   "cell_type": "code",
   "execution_count": null,
   "id": "a1b84b39",
   "metadata": {},
   "outputs": [],
   "source": []
  }
 ],
 "metadata": {
  "kernelspec": {
   "display_name": "Python 3.9.8 64-bit",
   "language": "python",
   "name": "python3"
  },
  "language_info": {
   "codemirror_mode": {
    "name": "ipython",
    "version": 3
   },
   "file_extension": ".py",
   "mimetype": "text/x-python",
   "name": "python",
   "nbconvert_exporter": "python",
   "pygments_lexer": "ipython3",
   "version": "3.9.8"
  },
  "vscode": {
   "interpreter": {
    "hash": "ca7b62161f3b9e3222d6fb67745e01a946a6552e36cbdcc714dadc2ba14328d1"
   }
  }
 },
 "nbformat": 4,
 "nbformat_minor": 5
}
