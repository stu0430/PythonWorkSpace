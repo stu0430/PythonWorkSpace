{
 "cells": [
  {
   "cell_type": "markdown",
   "metadata": {},
   "source": [
    "### 1. 헤더 출력"
   ]
  },
  {
   "cell_type": "code",
   "execution_count": 17,
   "metadata": {},
   "outputs": [],
   "source": [
    "from util import header"
   ]
  },
  {
   "cell_type": "code",
   "execution_count": 18,
   "metadata": {},
   "outputs": [
    {
     "name": "stdout",
     "output_type": "stream",
     "text": [
      "**********************\n",
      "*  2-1 Bagels Game   *\n",
      "*     2022.09.28     *\n",
      "* (c) Lee, Sang-gwon *\n",
      "**********************\n"
     ]
    }
   ],
   "source": [
    "header.header_print(\"2-1 Bagels Game\", \"2022.09.28\", \"(c) Lee, Sang-gwon\")"
   ]
  },
  {
   "cell_type": "markdown",
   "metadata": {},
   "source": [
    "### 2. 전역 변수 선언"
   ]
  },
  {
   "cell_type": "code",
   "execution_count": 19,
   "metadata": {},
   "outputs": [],
   "source": [
    "MAX_GUESSES = 10\n",
    "NUM_DIGITS = 3"
   ]
  },
  {
   "cell_type": "markdown",
   "metadata": {},
   "source": [
    "### 3. 함수 설계"
   ]
  },
  {
   "cell_type": "code",
   "execution_count": 20,
   "metadata": {},
   "outputs": [],
   "source": [
    "def getSecretNum():\n",
    "    pass\n",
    "    return secretNum"
   ]
  },
  {
   "cell_type": "code",
   "execution_count": 21,
   "metadata": {},
   "outputs": [],
   "source": [
    "def getGuessNum():\n",
    "    pass\n",
    "    return guessNum"
   ]
  },
  {
   "cell_type": "code",
   "execution_count": 22,
   "metadata": {},
   "outputs": [],
   "source": [
    "def getGuessResult(secret, guess):\n",
    "    pass\n",
    "    return result"
   ]
  },
  {
   "cell_type": "markdown",
   "metadata": {},
   "source": [
    "### 4. getSecretNum() 구현"
   ]
  },
  {
   "cell_type": "code",
   "execution_count": 23,
   "metadata": {},
   "outputs": [
    {
     "data": {
      "text/plain": [
       "['0', '1', '2', '3', '4', '5', '6', '7', '8', '9']"
      ]
     },
     "execution_count": 23,
     "metadata": {},
     "output_type": "execute_result"
    }
   ],
   "source": [
    "numList = list('0123456789')\n",
    "numList"
   ]
  },
  {
   "cell_type": "code",
   "execution_count": 24,
   "metadata": {},
   "outputs": [
    {
     "data": {
      "text/plain": [
       "['2', '9', '7', '8', '3', '0', '4', '5', '1', '6']"
      ]
     },
     "execution_count": 24,
     "metadata": {},
     "output_type": "execute_result"
    }
   ],
   "source": [
    "import random\n",
    "\n",
    "random.shuffle(numList)\n",
    "numList"
   ]
  },
  {
   "cell_type": "code",
   "execution_count": 25,
   "metadata": {},
   "outputs": [],
   "source": [
    "def getSecretNum():\n",
    "    \n",
    "    numList = list('0123456789')\n",
    "    random.shuffle(numList)\n",
    "    \n",
    "    secretNum = ''\n",
    "    for i in range(NUM_DIGITS):\n",
    "        secretNum += str(numList[i])\n",
    "        \n",
    "    return secretNum"
   ]
  },
  {
   "cell_type": "code",
   "execution_count": 26,
   "metadata": {},
   "outputs": [
    {
     "data": {
      "text/plain": [
       "'261'"
      ]
     },
     "execution_count": 26,
     "metadata": {},
     "output_type": "execute_result"
    }
   ],
   "source": [
    "getSecretNum()"
   ]
  },
  {
   "cell_type": "code",
   "execution_count": 27,
   "metadata": {},
   "outputs": [],
   "source": [
    "def getSecretNum2():\n",
    "    \n",
    "    numList = list('0123456789')\n",
    "    random.shuffle(numList)\n",
    "    \n",
    "    secretNum = numList[:NUM_DIGITS]\n",
    "    secretNum = ''.join(secretNum)    \n",
    "        \n",
    "    return secretNum"
   ]
  },
  {
   "cell_type": "code",
   "execution_count": 28,
   "metadata": {},
   "outputs": [
    {
     "data": {
      "text/plain": [
       "'547'"
      ]
     },
     "execution_count": 28,
     "metadata": {},
     "output_type": "execute_result"
    }
   ],
   "source": [
    "getSecretNum2()"
   ]
  },
  {
   "cell_type": "markdown",
   "metadata": {},
   "source": [
    "### 5. getGuessNum() 구현"
   ]
  },
  {
   "cell_type": "code",
   "execution_count": 29,
   "metadata": {},
   "outputs": [],
   "source": [
    "def getGuessNum():\n",
    "    while True:\n",
    "        rightNum = True\n",
    "        getNum = input(f'>>> {str(NUM_DIGITS)}자리 추측 숫자를 입력하세요 : ')\n",
    "        \n",
    "        if len(getNum) != NUM_DIGITS:\n",
    "            print(f'>>> [ERROR] 자릿수가 {str(NUM_DIGITS)}이 아닙니다.')\n",
    "            rightNum = False\n",
    "        \n",
    "        if not set(getNum) <= set(\"0123456789\"):\n",
    "            print('>>> [ERROR] 숫자가 아닌 문자가 있습니다.')\n",
    "            rightNum = False\n",
    "        \n",
    "        if rightNum:\n",
    "            break"
   ]
  },
  {
   "cell_type": "code",
   "execution_count": 30,
   "metadata": {},
   "outputs": [],
   "source": [
    "getGuessNum()"
   ]
  },
  {
   "cell_type": "markdown",
   "metadata": {},
   "source": [
    "### 6. getGuessResult() 구현"
   ]
  },
  {
   "cell_type": "code",
   "execution_count": 35,
   "metadata": {},
   "outputs": [],
   "source": [
    "def getGuessResult(secret, guess):\n",
    "    \n",
    "    pico = 0\n",
    "    fermi = 0\n",
    "    \n",
    "    if secret == guess:\n",
    "        result = 'Bingo!'\n",
    "        \n",
    "    elif set(secret) & set(guess) == set():\n",
    "        result = 'Bagels'\n",
    "        \n",
    "    else:\n",
    "        result = ''\n",
    "        \n",
    "        for i in range(len(guess)):\n",
    "            if guess[i] == secret[i]:\n",
    "                fermi += 1\n",
    "            elif guess[i] in secret:\n",
    "                pico += 1\n",
    "                \n",
    "        for i in range(pico):\n",
    "            result += 'Pico '\n",
    "            \n",
    "        for i in range(fermi):\n",
    "            result += 'Fermi '\n",
    "    \n",
    "    return result"
   ]
  },
  {
   "cell_type": "code",
   "execution_count": 36,
   "metadata": {},
   "outputs": [
    {
     "data": {
      "text/plain": [
       "'Pico Pico '"
      ]
     },
     "execution_count": 36,
     "metadata": {},
     "output_type": "execute_result"
    }
   ],
   "source": [
    "getGuessResult('123', '412')"
   ]
  },
  {
   "cell_type": "code",
   "execution_count": null,
   "metadata": {},
   "outputs": [],
   "source": []
  }
 ],
 "metadata": {
  "kernelspec": {
   "display_name": "Python 3.9.8 64-bit",
   "language": "python",
   "name": "python3"
  },
  "language_info": {
   "codemirror_mode": {
    "name": "ipython",
    "version": 3
   },
   "file_extension": ".py",
   "mimetype": "text/x-python",
   "name": "python",
   "nbconvert_exporter": "python",
   "pygments_lexer": "ipython3",
   "version": "3.9.8"
  },
  "orig_nbformat": 4,
  "vscode": {
   "interpreter": {
    "hash": "ca7b62161f3b9e3222d6fb67745e01a946a6552e36cbdcc714dadc2ba14328d1"
   }
  }
 },
 "nbformat": 4,
 "nbformat_minor": 2
}
