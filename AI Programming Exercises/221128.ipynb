{
 "cells": [
  {
   "cell_type": "markdown",
   "metadata": {},
   "source": [
    "## 산불 시뮬레이션"
   ]
  },
  {
   "cell_type": "markdown",
   "metadata": {},
   "source": [
    "### (1) Bext,Random 테스트"
   ]
  },
  {
   "cell_type": "code",
   "execution_count": 1,
   "metadata": {},
   "outputs": [],
   "source": [
    "import bext"
   ]
  },
  {
   "cell_type": "code",
   "execution_count": 2,
   "metadata": {},
   "outputs": [],
   "source": [
    "bext.fg('red')"
   ]
  },
  {
   "cell_type": "code",
   "execution_count": 3,
   "metadata": {},
   "outputs": [
    {
     "name": "stdout",
     "output_type": "stream",
     "text": [
      "test\n"
     ]
    }
   ],
   "source": [
    "print('test')"
   ]
  },
  {
   "cell_type": "code",
   "execution_count": 4,
   "metadata": {},
   "outputs": [],
   "source": [
    "import random"
   ]
  },
  {
   "cell_type": "code",
   "execution_count": 5,
   "metadata": {},
   "outputs": [
    {
     "data": {
      "text/plain": [
       "0.05392379531064584"
      ]
     },
     "execution_count": 5,
     "metadata": {},
     "output_type": "execute_result"
    }
   ],
   "source": [
    "random.random()"
   ]
  },
  {
   "cell_type": "markdown",
   "metadata": {},
   "source": [
    "### (2) 패키지 및 전역 변수"
   ]
  },
  {
   "cell_type": "code",
   "execution_count": 6,
   "metadata": {},
   "outputs": [],
   "source": [
    "import random, time, sys, bext"
   ]
  },
  {
   "cell_type": "code",
   "execution_count": 7,
   "metadata": {},
   "outputs": [],
   "source": [
    "WIDTH = 79\n",
    "HEIGHT = 22"
   ]
  },
  {
   "cell_type": "code",
   "execution_count": 8,
   "metadata": {},
   "outputs": [],
   "source": [
    "TREE = 'A'\n",
    "FIRE = 'W'\n",
    "EMPTY = ' '"
   ]
  },
  {
   "cell_type": "code",
   "execution_count": 9,
   "metadata": {},
   "outputs": [],
   "source": [
    "INITIAL_TREE_DENSITY = 0.20\n",
    "GROW_CHANCE = 0.01\n",
    "FIRE_CHANCE = 0.01\n",
    "\n",
    "PAUSE_LENGTH = 0.5"
   ]
  },
  {
   "cell_type": "markdown",
   "metadata": {},
   "source": [
    "### (3) 함수 설계"
   ]
  },
  {
   "cell_type": "code",
   "execution_count": 10,
   "metadata": {},
   "outputs": [],
   "source": [
    "def create_new_forest():\n",
    "    # forest 공간 만들기\n",
    "    # 초기 나무 할당\n",
    "    pass\n",
    "    return forest"
   ]
  },
  {
   "cell_type": "code",
   "execution_count": 11,
   "metadata": {},
   "outputs": [],
   "source": [
    "def display_forest(forest):\n",
    "    # 화면 공간에 나무, 화재 표시\n",
    "    # 안내 정보 등 추가 표시\n",
    "    pass"
   ]
  },
  {
   "cell_type": "code",
   "execution_count": 12,
   "metadata": {},
   "outputs": [],
   "source": [
    "def create_new_forest():\n",
    "    # forest 공간 만들기\n",
    "    forest = {'width' : WIDTH, 'height' : HEIGHT}\n",
    "    \n",
    "    # 초기 나무 할당\n",
    "    for x in range(WIDTH):\n",
    "        for y in range(HEIGHT):\n",
    "            if random.random() <= INITIAL_TREE_DENSITY:\n",
    "                forest[(x, y)] = TREE\n",
    "            else:\n",
    "                forest[(x, y)] = EMPTY\n",
    "                \n",
    "    return forest"
   ]
  },
  {
   "cell_type": "code",
   "execution_count": 13,
   "metadata": {},
   "outputs": [],
   "source": [
    "forest = create_new_forest()"
   ]
  },
  {
   "cell_type": "code",
   "execution_count": 14,
   "metadata": {},
   "outputs": [],
   "source": [
    "def display_forest(forest):\n",
    "    # 화면 좌측 상단으로 이동\n",
    "    bext.goto(0, 0)\n",
    "    \n",
    "    # 화면 공간에 나무, 화재 표시\n",
    "    for y in range(forest['height']):\n",
    "        for x in range(forest['width']):\n",
    "            if forest[(x, y)] == TREE:\n",
    "                bext.fg('green')\n",
    "                print(TREE, end='')\n",
    "            elif forest[(x, y)] == FIRE:\n",
    "                bext.fg('red')\n",
    "                print(FIRE, end='')\n",
    "            else:\n",
    "                print(EMPTY, end='')\n",
    "        print()\n",
    "        \n",
    "    bext.fg('reset')\n",
    "                 \n",
    "    # 안내 정보 등 추가 표시\n",
    "    print(f'나무가 자랄 확률 : {GROW_CHANCE * 100}%')\n",
    "    print(f'산불이 날 확률 : {FIRE_CHANCE * 100}%')"
   ]
  },
  {
   "cell_type": "code",
   "execution_count": 15,
   "metadata": {},
   "outputs": [
    {
     "name": "stdout",
     "output_type": "stream",
     "text": [
      "A   A A AA         A A                          A   A   A   A A A        A   A \n",
      "AA                   A  A   A A   A   AA  AA  A               A   A      A     \n",
      "  AA A   A         A          A   A    A    A                     A  A  A    A \n",
      "     A       A                            A   AA   A  A       A  A A A        A\n",
      " A A            A          A    AA   A    A A  A    A  A                  A  A \n",
      " AA   A   A    AA A     A  A            AA A A     AA        A   A     A    AA \n",
      "     A A     A       A   A  A       A        A      A                      AA A\n",
      " A         A                        A   A AAAA         A A     A   A      A    \n",
      "    A    A AA  A    A        AA AA  A     A A  A                  A   A  AA    \n",
      "A  A A     A A A A    A                A A  A A      A   AAA A     A A         \n",
      "     AAA     AA  A               A    A  AA    A     AAA  A AA   A     A A A AA\n",
      " A      AA       A A     A A    A       A         AA A     A  A       A       A\n",
      "A   A      A    A   AA    A   AA    A   A      A        A  A          A        \n",
      " A  A          AA A     A          A A                   A    A     AA       A \n",
      "   A     A          A  A      A A A     A     AA           A A            AA  A\n",
      "  A            A A A          AA  AAA  A A        A   A          A  AA AAA     \n",
      "  A A      A      A            A                 A A    A A  AA    A           \n",
      "   A       AA  AA     A  A  A            A  A     A    AA A     A A    A       \n",
      "   A     A   A            A A A     A    A      A AA         A        A   A   A\n",
      " AA AA      AAA      A   A   AAA       A           A     A   A              A  \n",
      "        A AA    AA             A  A        A A A A   A   A    A A    A   A   A \n",
      "                  A     A    A    AA               A A   A     A     A A       \n",
      "나무가 자랄 확률 : 1.0%\n",
      "산불이 날 확률 : 1.0%\n"
     ]
    }
   ],
   "source": [
    "display_forest(forest)"
   ]
  },
  {
   "cell_type": "code",
   "execution_count": 18,
   "metadata": {},
   "outputs": [],
   "source": [
    "def main():\n",
    "    forest = create_new_forest()\n",
    "    bext.clear()\n",
    "    \n",
    "    while True:\n",
    "        display_forest(forest)\n",
    "        \n",
    "        next_forest = {'width' : forest['width'], 'height' : forest['height']}\n",
    "        \n",
    "        for x in range(forest['width']):\n",
    "            for y in range(forest['height']):\n",
    "                if (x, y) in next_forest:\n",
    "                    continue\n",
    "                \n",
    "                if forest[(x, y)] == EMPTY:\n",
    "                    if random.random() <= GROW_CHANCE:\n",
    "                        next_forest[(x, y)] = TREE\n",
    "                    else:\n",
    "                        next_forest[(x, y)] = EMPTY\n",
    "                        \n",
    "                elif forest[(x, y)] == TREE:\n",
    "                    if random.random() <= FIRE_CHANCE:\n",
    "                        next_forest[(x, y)] = FIRE\n",
    "                    else:\n",
    "                        next_forest[(x, y)] = TREE\n",
    "                    \n",
    "                elif forest[(x, y)] == FIRE:\n",
    "                    for i in range(-1, 2):\n",
    "                        for j in range(-1, 2):\n",
    "                            if 0 <= x + i < forest['width'] and 0 <= y + j < forest['height']:\n",
    "                                if forest[(x + i, y + j)] == TREE:\n",
    "                                    next_forest[(x + i, y + j)] = FIRE\n",
    "                    \n",
    "                    # if x - 1 >= 0:    \n",
    "                    #     next_forest[(x - 1, y)] = FIRE  \n",
    "                    # if x + 1 < forest['width']:\n",
    "                    #     next_forest[(x + 1, y)] = FIRE\n",
    "                    # if y - 1 >= 0:\n",
    "                    #     next_forest[(x, y - 1)] = FIRE\n",
    "                    # if y + 1 < forest['height']:\n",
    "                    #     next_forest[(x, y + 1)] = FIRE   \n",
    "                    \n",
    "                    next_forest[(x, y)] = EMPTY\n",
    "                    \n",
    "                else:\n",
    "                    # next_forest[(x, y)] = forest[(x, y)]\n",
    "                    pass\n",
    "                \n",
    "        forest = next_forest\n",
    "        time.sleep(PAUSE_LENGTH)"
   ]
  },
  {
   "cell_type": "code",
   "execution_count": 20,
   "metadata": {},
   "outputs": [
    {
     "name": "stdout",
     "output_type": "stream",
     "text": [
      "Writing fire_sim.py\n"
     ]
    }
   ],
   "source": [
    "import random, time, sys, bext\n",
    "\n",
    "WIDTH = 79\n",
    "HEIGHT = 22\n",
    "\n",
    "TREE = 'A'\n",
    "FIRE = 'W'\n",
    "EMPTY = ' '\n",
    "\n",
    "INITIAL_TREE_DENSITY = 0.20\n",
    "GROW_CHANCE = 0.01\n",
    "FIRE_CHANCE = 0.01\n",
    "\n",
    "PAUSE_LENGTH = 0.5\n",
    "\n",
    "def create_new_forest():\n",
    "    # forest 공간 만들기\n",
    "    forest = {'width': WIDTH, 'height': HEIGHT}\n",
    "\n",
    "    # 초기 나무 할당\n",
    "    for x in range(WIDTH):\n",
    "        for y in range(HEIGHT):\n",
    "            if random.random() <= INITIAL_TREE_DENSITY:\n",
    "                forest[(x, y)] = TREE\n",
    "            else:\n",
    "                forest[(x, y)] = EMPTY\n",
    "\n",
    "    return forest\n",
    "\n",
    "def display_forest(forest):\n",
    "    # 화면 좌측 상단으로 이동\n",
    "    bext.goto(0, 0)\n",
    "\n",
    "    # 화면 공간에 나무, 화재 표시\n",
    "    for y in range(forest['height']):\n",
    "        for x in range(forest['width']):\n",
    "            if forest[(x, y)] == TREE:\n",
    "                bext.fg('green')\n",
    "                print(TREE, end='')\n",
    "            elif forest[(x, y)] == FIRE:\n",
    "                bext.fg('red')\n",
    "                print(FIRE, end='')\n",
    "            else:\n",
    "                print(EMPTY, end='')\n",
    "        print()\n",
    "\n",
    "    bext.fg('reset')\n",
    "\n",
    "    # 안내 정보 등 추가 표시\n",
    "    print(f'나무가 자랄 확률 : {GROW_CHANCE * 100}%')\n",
    "    print(f'산불이 날 확률 : {FIRE_CHANCE * 100}%')\n",
    "    \n",
    "def main():\n",
    "    forest = create_new_forest()\n",
    "    bext.clear()\n",
    "    \n",
    "    while True:\n",
    "        display_forest(forest)\n",
    "        \n",
    "        next_forest = {'width' : forest['width'], 'height' : forest['height']}\n",
    "        \n",
    "        for x in range(forest['width']):\n",
    "            for y in range(forest['height']):\n",
    "                if (x, y) in next_forest:\n",
    "                    continue\n",
    "                \n",
    "                if forest[(x, y)] == EMPTY:\n",
    "                    if random.random() <= GROW_CHANCE:\n",
    "                        next_forest[(x, y)] = TREE\n",
    "                    else:\n",
    "                        next_forest[(x, y)] = EMPTY\n",
    "                        \n",
    "                elif forest[(x, y)] == TREE:\n",
    "                    if random.random() <= FIRE_CHANCE:\n",
    "                        next_forest[(x, y)] = FIRE\n",
    "                    else:\n",
    "                        next_forest[(x, y)] = TREE\n",
    "                    \n",
    "                elif forest[(x, y)] == FIRE:\n",
    "                    for i in range(-1, 2):\n",
    "                        for j in range(-1, 2):\n",
    "                            if 0 <= x + i < forest['width'] and 0 <= y + j < forest['height']:\n",
    "                                if forest[(x + i, y + j)] == TREE:\n",
    "                                    next_forest[(x + i, y + j)] = FIRE\n",
    "                    \n",
    "                    # if x - 1 >= 0 and forest[(x - 1, y)] == TREE:    \n",
    "                    #     next_forest[(x - 1, y)] = FIRE  \n",
    "                    # if x + 1 < forest['width'] and forest[(x + 1, y)] == TREE:\n",
    "                    #     next_forest[(x + 1, y)] = FIRE\n",
    "                    # if y - 1 >= 0 and forest[(x, y - 1)] == TREE:\n",
    "                    #     next_forest[(x, y - 1)] = FIRE\n",
    "                    # if y + 1 < forest['height'] and forest[(x, y + 1)] == TREE:\n",
    "                    #     next_forest[(x, y + 1)] = FIRE   \n",
    "                    \n",
    "                    next_forest[(x, y)] = EMPTY\n",
    "                    \n",
    "                else:\n",
    "                    # next_forest[(x, y)] = forest[(x, y)]\n",
    "                    pass\n",
    "                \n",
    "        forest = next_forest\n",
    "        time.sleep(PAUSE_LENGTH)\n",
    "\n",
    "if __name__ == '__main__':\n",
    "    main()"
   ]
  },
  {
   "cell_type": "code",
   "execution_count": null,
   "metadata": {},
   "outputs": [],
   "source": []
  }
 ],
 "metadata": {
  "kernelspec": {
   "display_name": "Python 3.9.8 64-bit",
   "language": "python",
   "name": "python3"
  },
  "language_info": {
   "codemirror_mode": {
    "name": "ipython",
    "version": 3
   },
   "file_extension": ".py",
   "mimetype": "text/x-python",
   "name": "python",
   "nbconvert_exporter": "python",
   "pygments_lexer": "ipython3",
   "version": "3.9.8"
  },
  "orig_nbformat": 4,
  "vscode": {
   "interpreter": {
    "hash": "ca7b62161f3b9e3222d6fb67745e01a946a6552e36cbdcc714dadc2ba14328d1"
   }
  }
 },
 "nbformat": 4,
 "nbformat_minor": 2
}
