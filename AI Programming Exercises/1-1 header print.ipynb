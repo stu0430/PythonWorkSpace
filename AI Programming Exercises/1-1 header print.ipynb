{
 "cells": [
  {
   "cell_type": "code",
   "execution_count": 3,
   "id": "349407cf",
   "metadata": {},
   "outputs": [],
   "source": [
    "def star_line(count):\n",
    "    for i in range(count):\n",
    "        print('*', end='')\n",
    "    print()"
   ]
  },
  {
   "cell_type": "code",
   "execution_count": 4,
   "id": "d4b12ca3",
   "metadata": {},
   "outputs": [
    {
     "name": "stdout",
     "output_type": "stream",
     "text": [
      "**********\n"
     ]
    }
   ],
   "source": [
    "star_line(10)"
   ]
  },
  {
   "cell_type": "code",
   "execution_count": 5,
   "id": "f8916aa5",
   "metadata": {},
   "outputs": [
    {
     "data": {
      "text/plain": [
       "16"
      ]
     },
     "execution_count": 5,
     "metadata": {},
     "output_type": "execute_result"
    }
   ],
   "source": [
    "max(len(\"1-1 header print\"), len(\"2022.09.14\"))"
   ]
  },
  {
   "cell_type": "code",
   "execution_count": 6,
   "id": "c2d7402c",
   "metadata": {},
   "outputs": [],
   "source": [
    "def print_space(count):\n",
    "    for i in range(count):\n",
    "        print(' ', end='')"
   ]
  },
  {
   "cell_type": "code",
   "execution_count": 7,
   "id": "1ffe3591",
   "metadata": {},
   "outputs": [],
   "source": [
    "def header_text(width, text):\n",
    "    print(\"*\", end='')\n",
    "    lspace = (width - len(text)) // 2\n",
    "    print_space(lspace)\n",
    "    print(text, end='')\n",
    "    rspace = width - lspace - len(text)\n",
    "    print_space(rspace)\n",
    "    print(\"*\")"
   ]
  },
  {
   "cell_type": "code",
   "execution_count": null,
   "id": "8005b3c6",
   "metadata": {},
   "outputs": [
    {
     "name": "stdout",
     "output_type": "stream",
     "text": [
      "Writing header.py\n"
     ]
    }
   ],
   "source": [
    "%%writefile header.py\n",
    "\n",
    "def star_line(count):\n",
    "    for i in range(count):\n",
    "        print('*', end='')\n",
    "    print()\n",
    "    \n",
    "def print_space(count):\n",
    "    for i in range(count):\n",
    "        print(' ', end='')\n",
    "        \n",
    "def header_text(width, text):\n",
    "    print(\"*\", end='')\n",
    "    lspace = int((width - len(text))/2)\n",
    "    print_space(lspace)\n",
    "    print(text, end='')\n",
    "    rspace = width - lspace - len(text)\n",
    "    print_space(rspace)\n",
    "    print(\"*\")\n",
    "    \n",
    "def header_print(title, date, name):\n",
    "    line_len = max(len(title), len(date), len(name))\n",
    "    star_line(line_len+4)\n",
    "    header_text(line_len+2, title)\n",
    "    header_text(line_len+2, date)\n",
    "    header_text(line_len+2, name)\n",
    "    star_line(line_len+4)    "
   ]
  },
  {
   "cell_type": "code",
   "execution_count": 9,
   "id": "a5f566e6",
   "metadata": {},
   "outputs": [
    {
     "name": "stdout",
     "output_type": "stream",
     "text": [
      "**********************\n",
      "*  1-1 header print  *\n",
      "*     2022.09.14     *\n",
      "* (c) Lee, Sang-Gwon *\n",
      "**********************\n"
     ]
    }
   ],
   "source": [
    "header_print('1-1 header print', '2022.09.14', '(c) Lee, Sang-Gwon')"
   ]
  },
  {
   "cell_type": "code",
   "execution_count": null,
   "id": "60c77d27",
   "metadata": {},
   "outputs": [],
   "source": []
  }
 ],
 "metadata": {
  "kernelspec": {
   "display_name": "Python 3.9.8 64-bit",
   "language": "python",
   "name": "python3"
  },
  "language_info": {
   "codemirror_mode": {
    "name": "ipython",
    "version": 3
   },
   "file_extension": ".py",
   "mimetype": "text/x-python",
   "name": "python",
   "nbconvert_exporter": "python",
   "pygments_lexer": "ipython3",
   "version": "3.9.8 (tags/v3.9.8:bb3fdcf, Nov  5 2021, 20:48:33) [MSC v.1929 64 bit (AMD64)]"
  },
  "vscode": {
   "interpreter": {
    "hash": "ca7b62161f3b9e3222d6fb67745e01a946a6552e36cbdcc714dadc2ba14328d1"
   }
  }
 },
 "nbformat": 4,
 "nbformat_minor": 5
}
