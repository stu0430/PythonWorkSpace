{
 "cells": [
  {
   "cell_type": "markdown",
   "metadata": {},
   "source": [
    "### 1. 헤더 출력"
   ]
  },
  {
   "cell_type": "code",
   "execution_count": 1,
   "metadata": {},
   "outputs": [],
   "source": [
    "from util import header"
   ]
  },
  {
   "cell_type": "code",
   "execution_count": 4,
   "metadata": {},
   "outputs": [
    {
     "name": "stdout",
     "output_type": "stream",
     "text": [
      "***********************\n",
      "* 1-3 Caesar Decipher *\n",
      "*     2022.09.21      *\n",
      "* (c) Lee, Sang-Gwon  *\n",
      "***********************\n"
     ]
    }
   ],
   "source": [
    "header.header_print('1-3 Caesar Decipher', '2022.09.21', '(c) Lee, Sang-Gwon')"
   ]
  },
  {
   "cell_type": "markdown",
   "metadata": {},
   "source": [
    "### 2. 암호문을 읽어서 출력하기"
   ]
  },
  {
   "cell_type": "code",
   "execution_count": 5,
   "metadata": {},
   "outputs": [],
   "source": [
    "cipher_file = input('암호문 파일명을 입력하세요 : ')"
   ]
  },
  {
   "cell_type": "code",
   "execution_count": 6,
   "metadata": {},
   "outputs": [
    {
     "data": {
      "text/plain": [
       "'cipher.txt'"
      ]
     },
     "execution_count": 6,
     "metadata": {},
     "output_type": "execute_result"
    }
   ],
   "source": [
    "cipher_file"
   ]
  },
  {
   "cell_type": "code",
   "execution_count": 10,
   "metadata": {},
   "outputs": [
    {
     "name": "stdout",
     "output_type": "stream",
     "text": [
      "Ymnx%nx%f%yjxy\n"
     ]
    }
   ],
   "source": [
    "import os\n",
    "\n",
    "if not os.path.isfile(cipher_file):\n",
    "    print('>>> [ERROR] 암호문 파일이 존재하지 않습니다!')\n",
    "else:\n",
    "    with open(cipher_file, 'r') as cfile:\n",
    "        ciphertext = cfile.readline()\n",
    "        print(ciphertext)"
   ]
  },
  {
   "cell_type": "markdown",
   "metadata": {},
   "source": [
    "### 3.암호문에서 문자 탐색"
   ]
  },
  {
   "cell_type": "code",
   "execution_count": 13,
   "metadata": {},
   "outputs": [
    {
     "name": "stdout",
     "output_type": "stream",
     "text": [
      "Znoy&oy&g&zkyz\n",
      "[opz'pz'h'{lz{\n",
      "\\pq{(q{(i(|m{|\n",
      "]qr|)r|)j)}n|}\n",
      "^rs}*s}*k*~o}~\n",
      "_st~+t~+l+ p~ \n",
      "`tu ,u ,m,!q !\n",
      "auv!-v!-n-\"r!\"\n",
      "bvw\".w\".o.#s\"#\n",
      "cwx#/x#/p/$t#$\n",
      "dxy$0y$0q0%u$%\n",
      "eyz%1z%1r1&v%&\n",
      "fz{&2{&2s2'w&'\n",
      "g{|'3|'3t3(x'(\n",
      "h|}(4}(4u4)y()\n",
      "i}~)5~)5v5*z)*\n",
      "j~ *6 *6w6+{*+\n",
      "k !+7!+7x7,|+,\n",
      "l!\",8\",8y8-},-\n",
      "m\"#-9#-9z9.~-.\n"
     ]
    }
   ],
   "source": [
    "def make_cipher(plaintext, key):\n",
    "\n",
    "    ciphertext = ''\n",
    "\n",
    "    first = ord(' ')\n",
    "    last = ord('~')\n",
    "\n",
    "    for ch in plaintext:\n",
    "        ciphertext += chr((ord(ch) + key - first) % (last - first + 1) + first)\n",
    "\n",
    "    return ciphertext\n",
    "\n",
    "key_max = int(input('대입할 최대 키 값을 입력하세요 : '))\n",
    "for i in range(1,key_max+1):\n",
    "     plaintext = make_cipher(ciphertext, i)\n",
    "     print(plaintext)"
   ]
  },
  {
   "cell_type": "markdown",
   "metadata": {},
   "source": [
    "### 4. 빈도수 분석으로 키 찾기"
   ]
  },
  {
   "cell_type": "code",
   "execution_count": 18,
   "metadata": {},
   "outputs": [
    {
     "name": "stdout",
     "output_type": "stream",
     "text": [
      "{' ': 0, '!': 0, '\"': 0, '#': 0, '$': 0, '%': 0, '&': 0, \"'\": 0, '(': 0, ')': 0, '*': 0, '+': 0, ',': 0, '-': 0, '.': 0, '/': 0, '0': 0, '1': 0, '2': 0, '3': 0, '4': 0, '5': 0, '6': 0, '7': 0, '8': 0, '9': 0, ':': 0, ';': 0, '<': 0, '=': 0, '>': 0, '?': 0, '@': 0, 'A': 0, 'B': 0, 'C': 0, 'D': 0, 'E': 0, 'F': 0, 'G': 0, 'H': 0, 'I': 0, 'J': 0, 'K': 0, 'L': 0, 'M': 0, 'N': 0, 'O': 0, 'P': 0, 'Q': 0, 'R': 0, 'S': 0, 'T': 0, 'U': 0, 'V': 0, 'W': 0, 'X': 0, 'Y': 0, 'Z': 0, '[': 0, '\\\\': 0, ']': 0, '^': 0, '_': 0, '`': 0, 'a': 0, 'b': 0, 'c': 0, 'd': 0, 'e': 0, 'f': 0, 'g': 0, 'h': 0, 'i': 0, 'j': 0, 'k': 0, 'l': 0, 'm': 0, 'n': 0, 'o': 0, 'p': 0, 'q': 0, 'r': 0, 's': 0, 't': 0, 'u': 0, 'v': 0, 'w': 0, 'x': 0, 'y': 0, 'z': 0, '{': 0, '|': 0, '}': 0, '~': 0}\n"
     ]
    }
   ],
   "source": [
    "dic = dict()\n",
    "for i in range(32, 127):\n",
    "    dic[chr(i)] = 0\n",
    "print(dic)"
   ]
  },
  {
   "cell_type": "code",
   "execution_count": 19,
   "metadata": {},
   "outputs": [
    {
     "name": "stdout",
     "output_type": "stream",
     "text": [
      "{' ': 0, '!': 0, '\"': 0, '#': 0, '$': 0, '%': 3, '&': 0, \"'\": 0, '(': 0, ')': 0, '*': 0, '+': 0, ',': 0, '-': 0, '.': 0, '/': 0, '0': 0, '1': 0, '2': 0, '3': 0, '4': 0, '5': 0, '6': 0, '7': 0, '8': 0, '9': 0, ':': 0, ';': 0, '<': 0, '=': 0, '>': 0, '?': 0, '@': 0, 'A': 0, 'B': 0, 'C': 0, 'D': 0, 'E': 0, 'F': 0, 'G': 0, 'H': 0, 'I': 0, 'J': 0, 'K': 0, 'L': 0, 'M': 0, 'N': 0, 'O': 0, 'P': 0, 'Q': 0, 'R': 0, 'S': 0, 'T': 0, 'U': 0, 'V': 0, 'W': 0, 'X': 0, 'Y': 1, 'Z': 0, '[': 0, '\\\\': 0, ']': 0, '^': 0, '_': 0, '`': 0, 'a': 0, 'b': 0, 'c': 0, 'd': 0, 'e': 0, 'f': 1, 'g': 0, 'h': 0, 'i': 0, 'j': 1, 'k': 0, 'l': 0, 'm': 1, 'n': 2, 'o': 0, 'p': 0, 'q': 0, 'r': 0, 's': 0, 't': 0, 'u': 0, 'v': 0, 'w': 0, 'x': 3, 'y': 2, 'z': 0, '{': 0, '|': 0, '}': 0, '~': 0}\n"
     ]
    }
   ],
   "source": [
    "for i in ciphertext:\n",
    "    dic[i] += 1\n",
    "print(dic)"
   ]
  },
  {
   "cell_type": "code",
   "execution_count": 20,
   "metadata": {},
   "outputs": [
    {
     "data": {
      "text/plain": [
       "[('%', 3),\n",
       " ('x', 3),\n",
       " ('n', 2),\n",
       " ('y', 2),\n",
       " ('Y', 1),\n",
       " ('f', 1),\n",
       " ('j', 1),\n",
       " ('m', 1),\n",
       " (' ', 0),\n",
       " ('!', 0),\n",
       " ('\"', 0),\n",
       " ('#', 0),\n",
       " ('$', 0),\n",
       " ('&', 0),\n",
       " (\"'\", 0),\n",
       " ('(', 0),\n",
       " (')', 0),\n",
       " ('*', 0),\n",
       " ('+', 0),\n",
       " (',', 0),\n",
       " ('-', 0),\n",
       " ('.', 0),\n",
       " ('/', 0),\n",
       " ('0', 0),\n",
       " ('1', 0),\n",
       " ('2', 0),\n",
       " ('3', 0),\n",
       " ('4', 0),\n",
       " ('5', 0),\n",
       " ('6', 0),\n",
       " ('7', 0),\n",
       " ('8', 0),\n",
       " ('9', 0),\n",
       " (':', 0),\n",
       " (';', 0),\n",
       " ('<', 0),\n",
       " ('=', 0),\n",
       " ('>', 0),\n",
       " ('?', 0),\n",
       " ('@', 0),\n",
       " ('A', 0),\n",
       " ('B', 0),\n",
       " ('C', 0),\n",
       " ('D', 0),\n",
       " ('E', 0),\n",
       " ('F', 0),\n",
       " ('G', 0),\n",
       " ('H', 0),\n",
       " ('I', 0),\n",
       " ('J', 0),\n",
       " ('K', 0),\n",
       " ('L', 0),\n",
       " ('M', 0),\n",
       " ('N', 0),\n",
       " ('O', 0),\n",
       " ('P', 0),\n",
       " ('Q', 0),\n",
       " ('R', 0),\n",
       " ('S', 0),\n",
       " ('T', 0),\n",
       " ('U', 0),\n",
       " ('V', 0),\n",
       " ('W', 0),\n",
       " ('X', 0),\n",
       " ('Z', 0),\n",
       " ('[', 0),\n",
       " ('\\\\', 0),\n",
       " (']', 0),\n",
       " ('^', 0),\n",
       " ('_', 0),\n",
       " ('`', 0),\n",
       " ('a', 0),\n",
       " ('b', 0),\n",
       " ('c', 0),\n",
       " ('d', 0),\n",
       " ('e', 0),\n",
       " ('g', 0),\n",
       " ('h', 0),\n",
       " ('i', 0),\n",
       " ('k', 0),\n",
       " ('l', 0),\n",
       " ('o', 0),\n",
       " ('p', 0),\n",
       " ('q', 0),\n",
       " ('r', 0),\n",
       " ('s', 0),\n",
       " ('t', 0),\n",
       " ('u', 0),\n",
       " ('v', 0),\n",
       " ('w', 0),\n",
       " ('z', 0),\n",
       " ('{', 0),\n",
       " ('|', 0),\n",
       " ('}', 0),\n",
       " ('~', 0)]"
      ]
     },
     "execution_count": 20,
     "metadata": {},
     "output_type": "execute_result"
    }
   ],
   "source": [
    "import operator\n",
    "\n",
    "n_dic = sorted(dic.items(), key=operator.itemgetter(1), reverse=True)\n",
    "n_dic"
   ]
  },
  {
   "cell_type": "code",
   "execution_count": 34,
   "metadata": {},
   "outputs": [
    {
     "data": {
      "text/plain": [
       "'%'"
      ]
     },
     "execution_count": 34,
     "metadata": {},
     "output_type": "execute_result"
    }
   ],
   "source": [
    "x = n_dic[0][0]\n",
    "x"
   ]
  },
  {
   "cell_type": "code",
   "execution_count": 35,
   "metadata": {},
   "outputs": [],
   "source": [
    "lst = [' ', 'e', 'a', 'r', 'i', 'o', 't', 'n', 's', 'l', 'c']"
   ]
  },
  {
   "cell_type": "code",
   "execution_count": 36,
   "metadata": {},
   "outputs": [
    {
     "data": {
      "text/plain": [
       "5"
      ]
     },
     "execution_count": 36,
     "metadata": {},
     "output_type": "execute_result"
    }
   ],
   "source": [
    "ord(n_dic[0][0]) - ord(lst[0])"
   ]
  },
  {
   "cell_type": "code",
   "execution_count": 37,
   "metadata": {},
   "outputs": [],
   "source": [
    "key_space = ord('~') - ord(' ')"
   ]
  },
  {
   "cell_type": "code",
   "execution_count": 38,
   "metadata": {},
   "outputs": [
    {
     "name": "stdout",
     "output_type": "stream",
     "text": [
      "This is a test\n",
      ":NOYeOYeGeZKYZ\n",
      "6JKUaKUaCaVGUV\n",
      "G[\\fr\\frTrgXfg\n",
      ">RS]iS]iKi^O]^\n",
      "DXYcoYcoQodUcd\n",
      "I]^ht^htVtiZhi\n",
      "CWXbnXbnPncTbc\n",
      "H\\]gs]gsUshYgh\n",
      "AUV`lV`lNlaR`a\n",
      "8LMWcMWcEcXIWX\n"
     ]
    }
   ],
   "source": [
    "for i in range(len(lst)):\n",
    "    diff = ord(x) - ord(lst[i])\n",
    "    plaintext = make_cipher(ciphertext, -diff)\n",
    "    print(plaintext)"
   ]
  },
  {
   "cell_type": "code",
   "execution_count": 1,
   "metadata": {},
   "outputs": [
    {
     "name": "stdout",
     "output_type": "stream",
     "text": [
      "Overwriting caesar_decipher.py\n"
     ]
    }
   ],
   "source": [
    "%%writefile caesar_decipher.py\n",
    "\n",
    "import operator\n",
    "import os\n",
    "from util import header\n",
    "\n",
    "\n",
    "def make_cipher(plaintext, key):\n",
    "\n",
    "    ciphertext = ''\n",
    "\n",
    "    first = ord(' ')\n",
    "    last = ord('~')\n",
    "\n",
    "    for ch in plaintext:\n",
    "        ciphertext += chr((ord(ch) + key - first) % (last - first + 1) + first)\n",
    "\n",
    "    return ciphertext\n",
    "\n",
    "def make_freqlist(input_text):\n",
    "    alpha_freq = dict()\n",
    "    \n",
    "    for i in range(32, 127):\n",
    "        alpha_freq[chr(i)] = 0\n",
    "    \n",
    "    for i in input_text:\n",
    "        alpha_freq[i] += 1\n",
    "        \n",
    "    freq_list = sorted(alpha_freq.items(), key=operator.itemgetter(1), reverse=True)\n",
    "    \n",
    "    return freq_list\n",
    "\n",
    "def main():\n",
    "    header.header_print('1-3 Caesar Decipher', '2022.09.21', '(c) Lee, Sang-Gwon')\n",
    "    \n",
    "    cipher_file = input('암호문 파일명을 입력하세요 : ')\n",
    "    \n",
    "    if not os.path.isfile(cipher_file):\n",
    "        print('>>> [ERROR] 암호문 파일이 존재하지 않습니다!')\n",
    "    else:\n",
    "        with open(cipher_file, 'r') as cfile:\n",
    "            ciphertext = cfile.readline()\n",
    "            print(f'암호문 : {ciphertext}')\n",
    "    \n",
    "    lst = [' ', 'e', 'a', 'r', 'i', 'o', 't', 'n', 's', 'l', 'c']\n",
    "    \n",
    "    freqlist = make_freqlist(ciphertext)\n",
    "    \n",
    "    mfreq_ch = freqlist[0][0]\n",
    "    \n",
    "    for i in range(len(lst)):\n",
    "        diff = ord(mfreq_ch) - ord(lst[i])\n",
    "        plaintext = make_cipher(ciphertext, -diff)\n",
    "        print(f'{i + 1}번째 해독문 : {plaintext}')\n",
    "\n",
    "if __name__ == '__main__':\n",
    "    main()"
   ]
  },
  {
   "cell_type": "code",
   "execution_count": 44,
   "metadata": {},
   "outputs": [
    {
     "name": "stdout",
     "output_type": "stream",
     "text": [
      "***********************\n",
      "* 1-3 Caesar Decipher *\n",
      "*     2022.09.21      *\n",
      "* (c) Lee, Sang-Gwon  *\n",
      "***********************\n",
      "암호문 : Ymnx%nx%f%yjxy\n",
      "0번째 해독문 : This is a test\n",
      "1번째 해독문 : :NOYeOYeGeZKYZ\n",
      "2번째 해독문 : 6JKUaKUaCaVGUV\n",
      "3번째 해독문 : G[\\fr\\frTrgXfg\n",
      "4번째 해독문 : >RS]iS]iKi^O]^\n",
      "5번째 해독문 : DXYcoYcoQodUcd\n",
      "6번째 해독문 : I]^ht^htVtiZhi\n",
      "7번째 해독문 : CWXbnXbnPncTbc\n",
      "8번째 해독문 : H\\]gs]gsUshYgh\n",
      "9번째 해독문 : AUV`lV`lNlaR`a\n",
      "10번째 해독문 : 8LMWcMWcEcXIWX\n"
     ]
    }
   ],
   "source": [
    "main()"
   ]
  },
  {
   "cell_type": "code",
   "execution_count": null,
   "metadata": {},
   "outputs": [],
   "source": []
  },
  {
   "cell_type": "code",
   "execution_count": null,
   "metadata": {},
   "outputs": [],
   "source": []
  }
 ],
 "metadata": {
  "kernelspec": {
   "display_name": "Python 3.9.8 64-bit",
   "language": "python",
   "name": "python3"
  },
  "language_info": {
   "codemirror_mode": {
    "name": "ipython",
    "version": 3
   },
   "file_extension": ".py",
   "mimetype": "text/x-python",
   "name": "python",
   "nbconvert_exporter": "python",
   "pygments_lexer": "ipython3",
   "version": "3.9.8"
  },
  "orig_nbformat": 4,
  "vscode": {
   "interpreter": {
    "hash": "ca7b62161f3b9e3222d6fb67745e01a946a6552e36cbdcc714dadc2ba14328d1"
   }
  }
 },
 "nbformat": 4,
 "nbformat_minor": 2
}
