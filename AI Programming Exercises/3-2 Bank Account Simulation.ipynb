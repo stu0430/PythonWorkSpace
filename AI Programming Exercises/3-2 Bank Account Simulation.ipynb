{
 "cells": [
  {
   "cell_type": "code",
   "execution_count": 1,
   "metadata": {},
   "outputs": [],
   "source": [
    "accounts = []"
   ]
  },
  {
   "cell_type": "code",
   "execution_count": 2,
   "metadata": {},
   "outputs": [],
   "source": [
    "import datetime\n",
    "def openAccount(name, balance, password):\n",
    "    global accounts\n",
    "    today =  datetime.date.today()\n",
    "    year = str(today.year)\n",
    "    lastNo = str(len(accounts)).zfill(4)\n",
    "    accountNum = year + '-' + lastNo \n",
    "    newAccount = {'name': name, 'accountNum' : accountNum, 'password': password, 'balance': balance}\n",
    "    accounts.append(newAccount)"
   ]
  },
  {
   "cell_type": "code",
   "execution_count": 3,
   "metadata": {},
   "outputs": [],
   "source": [
    "openAccount('아무개', 1000, 'password')"
   ]
  },
  {
   "cell_type": "code",
   "execution_count": 4,
   "metadata": {},
   "outputs": [
    {
     "data": {
      "text/plain": [
       "[{'name': '아무개',\n",
       "  'accountNum': '2022-0000',\n",
       "  'password': 'password',\n",
       "  'balance': 1000}]"
      ]
     },
     "execution_count": 4,
     "metadata": {},
     "output_type": "execute_result"
    }
   ],
   "source": [
    "accounts"
   ]
  },
  {
   "cell_type": "code",
   "execution_count": 5,
   "metadata": {},
   "outputs": [],
   "source": [
    "def deposit(accountNum, amount, password):\n",
    "    global accounts\n",
    "    \n",
    "    accountidx = int(accountNum[5:])\n",
    "    if accountidx < 0 or accountidx >= len(accounts):\n",
    "        print('>>> [ERROR] 계좌번호가 바르지 않습니다.')\n",
    "        return\n",
    "    \n",
    "    oPassword = accounts[accountidx]['password']\n",
    "    if password != oPassword:\n",
    "        print('>>> [ERROR] 비밀번호가 일치하지 않습니다.')\n",
    "        return\n",
    "    \n",
    "    if amount <= 0:\n",
    "        print('>>> [ERROR] 0이나 음수의 금액은 입금할 수 없습니다.')\n",
    "        return\n",
    "    \n",
    "    accounts[accountidx]['balance'] += amount"
   ]
  },
  {
   "cell_type": "code",
   "execution_count": 6,
   "metadata": {},
   "outputs": [],
   "source": [
    "deposit('2022-0000', 10000, 'password')"
   ]
  },
  {
   "cell_type": "code",
   "execution_count": 7,
   "metadata": {},
   "outputs": [
    {
     "data": {
      "text/plain": [
       "[{'name': '아무개',\n",
       "  'accountNum': '2022-0000',\n",
       "  'password': 'password',\n",
       "  'balance': 11000}]"
      ]
     },
     "execution_count": 7,
     "metadata": {},
     "output_type": "execute_result"
    }
   ],
   "source": [
    "accounts"
   ]
  },
  {
   "cell_type": "code",
   "execution_count": 8,
   "metadata": {},
   "outputs": [],
   "source": [
    "def withdraw(accountNum, amount, password):\n",
    "    global accounts\n",
    "\n",
    "    accountidx = int(accountNum[5:])\n",
    "    if accountidx < 0 or accountidx >= len(accounts):\n",
    "        print('>>> [ERROR] 계좌번호가 바르지 않습니다.')\n",
    "        return\n",
    "\n",
    "    oPassword = accounts[accountidx]['password']\n",
    "    if password != oPassword:\n",
    "        print('>>> [ERROR] 비밀번호가 일치하지 않습니다.')\n",
    "        return\n",
    "\n",
    "    if amount <= 0:\n",
    "        print('>>> [ERROR] 0이나 음수의 금액은 출금할 수 없습니다.')\n",
    "        return\n",
    "\n",
    "    accounts[accountidx]['balance'] -= amount"
   ]
  },
  {
   "cell_type": "code",
   "execution_count": 9,
   "metadata": {},
   "outputs": [],
   "source": [
    "withdraw('2022-0000', 10000, 'password')"
   ]
  },
  {
   "cell_type": "code",
   "execution_count": 10,
   "metadata": {},
   "outputs": [
    {
     "data": {
      "text/plain": [
       "[{'name': '아무개',\n",
       "  'accountNum': '2022-0000',\n",
       "  'password': 'password',\n",
       "  'balance': 1000}]"
      ]
     },
     "execution_count": 10,
     "metadata": {},
     "output_type": "execute_result"
    }
   ],
   "source": [
    "accounts"
   ]
  },
  {
   "cell_type": "code",
   "execution_count": 11,
   "metadata": {},
   "outputs": [],
   "source": [
    "def checkBalance(accountNum, password):\n",
    "    global accounts\n",
    "\n",
    "    accountidx = int(accountNum[5:])\n",
    "    if accountidx < 0 or accountidx >= len(accounts):\n",
    "        print('>>> [ERROR] 계좌번호가 바르지 않습니다.')\n",
    "        return\n",
    "\n",
    "    oPassword = accounts[accountidx]['password']\n",
    "    if password != oPassword:\n",
    "        print('>>> [ERROR] 비밀번호가 일치하지 않습니다.')\n",
    "        return\n",
    "    \n",
    "    print(accounts[accountidx]['balance'])\n"
   ]
  },
  {
   "cell_type": "code",
   "execution_count": 12,
   "metadata": {},
   "outputs": [
    {
     "name": "stdout",
     "output_type": "stream",
     "text": [
      "1000\n"
     ]
    }
   ],
   "source": [
    "checkBalance('2022-0000', 'password')"
   ]
  },
  {
   "cell_type": "code",
   "execution_count": 13,
   "metadata": {},
   "outputs": [],
   "source": [
    "def showinfo():\n",
    "    pass"
   ]
  },
  {
   "cell_type": "code",
   "execution_count": 14,
   "metadata": {},
   "outputs": [],
   "source": [
    "def main():\n",
    "    \n",
    "    intro = '원하는 업무를 선택하세요.'\n",
    "    choiceList = ['계좌 개설', '잔액 확인', '입금', '출금', '전체 계좌 조회']\n",
    "    \n",
    "    while True:\n",
    "        choice = menu(intro, choiceList)\n",
    "        \n",
    "        if choice == 1:\n",
    "            print('계좌 개설')\n",
    "            name = input('이름을 입력하세요 : ')\n",
    "            password = input('비밀번호를 입력하세요 : ')\n",
    "            balance = int(input('입금할 금액을 입력하세요 : '))\n",
    "            openAccount(name, balance, password)\n",
    "        elif choice == 2:\n",
    "            pass\n",
    "        elif choice == 3:\n",
    "            print('입금')\n",
    "            accountNum = input('계좌번호를 입력하세요 : ')\n",
    "            password = input('비밀번호를 입력하세요 : ')\n",
    "            amount = int(input('입금할 금액을 입력하세요 : '))\n",
    "            deposit(accountNum, amount, password)\n",
    "            \n",
    "        elif choice == 4:\n",
    "            print('출금')\n",
    "            accountNum = input('계좌번호를 입력하세요 : ')\n",
    "            password = input('비밀번호를 입력하세요 : ')\n",
    "            amount = int(input('출금할 금액을 입력하세요 : '))\n",
    "            withdraw(accountNum, amount, password)\n",
    "        elif choice == 5:\n",
    "            pass\n",
    "        else:\n",
    "            byStr = ''\n",
    "            print(byStr)\n",
    "            break"
   ]
  },
  {
   "cell_type": "markdown",
   "metadata": {},
   "source": [
    "### 메뉴 설계\n",
    "\n",
    "* 기본 기능 선택\n",
    "  - 1. 계좌 개설\n",
    "  - 2. 잔액 확인\n",
    "  - 3. 입금\n",
    "  - 4. 출금\n",
    "  - 5. 전체 계좌 조회 (직원용)\n",
    "  - 0. 종료\n",
    "\n",
    "* English Menu\n",
    "  - Create (n)ew account\n",
    "  -"
   ]
  },
  {
   "cell_type": "code",
   "execution_count": 15,
   "metadata": {},
   "outputs": [],
   "source": [
    "def menu(introStr, menuList, default=None):\n",
    "    \n",
    "    return choice"
   ]
  },
  {
   "cell_type": "code",
   "execution_count": 16,
   "metadata": {},
   "outputs": [],
   "source": [
    "class Account():\n",
    "    def __init__(self, name, balance, password, accountNum):\n",
    "        self.name = name\n",
    "        self.balance = balance\n",
    "        self.password = password\n",
    "        self.accountNum = accountNum\n",
    "\n",
    "    def deposit(self, amount, password):\n",
    "        if password != self.password:\n",
    "            raise AbortTransaction('>>> [ERROR] 비밀번호가 일치하지 않습니다.')\n",
    "        self.balance += amount\n",
    "        \n",
    "        return self.balance\n",
    "    \n",
    "    def withdraw():\n",
    "        pass        \n",
    "    def getBalance():\n",
    "        pass\n",
    "    def show():\n",
    "        pass"
   ]
  },
  {
   "cell_type": "code",
   "execution_count": 17,
   "metadata": {},
   "outputs": [],
   "source": [
    "class Bank():\n",
    "    def __init__(self):\n",
    "        self.accountList = []\n",
    "        \n",
    "    def createAccount(self, name, amount, password):\n",
    "        today = datetime.date.today()\n",
    "        year = str(today.year)\n",
    "        lastNo = str(len(self.accountList)).zfill(4)\n",
    "        accountNum = year + '-' + lastNo\n",
    "        Account(name, amount, password, accountNum)\n",
    "        newAccount = Account(name, amount, password, accountNum)\n",
    "        self.accountList.append(newAccount)\n",
    "        return accountNum\n",
    "\n",
    "    def openAccount(self):\n",
    "        print('>>> [ 계좌 개설 ] ')\n",
    "        name = input('>>> 계좌를 개설할 사용자의 이름을 입력하세요 : ')\n",
    "        sAmount = int(input('>>> 계좌 개설 시 입금할 금액을 입력하세요 : '))\n",
    "        password = input('>>> 계좌의 비밀번호를 입력하세요 : ')\n",
    "        accountNum = self.createAccount(name, sAmount, password)\n",
    "        print(f'>>> 당신의 계좌번호는 {accountNum} 입니다.')\n",
    "    \n",
    "    def closeAccount(self):\n",
    "        pass\n",
    "    \n",
    "    def deposit(self):\n",
    "        print('>>> [ 입금 ] ')\n",
    "        accountNum = input('>>> 사용자의 계좌번호를 입력하세요 : ')\n",
    "        \n",
    "        accountidx = int(accountNum[5:])\n",
    "        if accountidx < 0 or accountidx >= len(accounts):\n",
    "            raise AbortTransaction('>>> [ERROR] 계좌번호가 바르지 않습니다.')\n",
    "        \n",
    "        curAccount = self.accountList[accountidx]\n",
    "        \n",
    "        amount = int(input('>>> 입금할 금액을 입력하세요 : '))\n",
    "        if amount <= 0:\n",
    "            raise AbortTransaction('>>> [ERROR] 0이나 음수의 금액은 입금할 수 없습니다.')\n",
    "        \n",
    "        password = input('>>> 계좌의 비밀번호를 입력하세요 : ')\n",
    "        \n",
    "        newBalance = curAccount.deposit(amount,password)\n",
    "        \n",
    "        print(f'>>> 당신의 현재 잔고는 {newBalance} 입니다.')\n",
    "        \n",
    "    def balance(self):\n",
    "        pass\n",
    "    \n",
    "    def withdraw(self):\n",
    "        pass\n",
    "    \n",
    "    def show(self):\n",
    "        pass\n",
    "    \n",
    "    def bankInfo(self):\n",
    "        pass\n",
    "    "
   ]
  },
  {
   "cell_type": "code",
   "execution_count": 18,
   "metadata": {},
   "outputs": [],
   "source": [
    "class AbortTransaction(Exception):\n",
    "    pass"
   ]
  },
  {
   "cell_type": "code",
   "execution_count": 19,
   "metadata": {},
   "outputs": [],
   "source": [
    "def main():\n",
    "    \n",
    "    bank = Bank()\n",
    "\n",
    "    intro = '원하는 업무를 선택하세요.'\n",
    "    choiceList = ['계좌 개설', '잔액 확인', '입금', '출금', '전체 계좌 조회']\n",
    "\n",
    "    while True:\n",
    "        choice = menu(intro, choiceList)\n",
    "\n",
    "        try:\n",
    "            if choice == 1:\n",
    "                bank.openAccount()\n",
    "\n",
    "            elif choice == 2:\n",
    "                bank.balance()\n",
    "\n",
    "            elif choice == 3:\n",
    "                bank.deposit()\n",
    "\n",
    "            elif choice == 4:\n",
    "                bank.withdraw()\n",
    "\n",
    "            elif choice == 5:\n",
    "                bank.show()\n",
    "\n",
    "            else:\n",
    "                byStr = ''\n",
    "                print(byStr)\n",
    "                break\n",
    "        \n",
    "        except AbortTransaction as error:\n",
    "            print(error)\n",
    "            continue"
   ]
  },
  {
   "cell_type": "code",
   "execution_count": null,
   "metadata": {},
   "outputs": [],
   "source": []
  },
  {
   "cell_type": "code",
   "execution_count": null,
   "metadata": {},
   "outputs": [],
   "source": []
  },
  {
   "cell_type": "code",
   "execution_count": null,
   "metadata": {},
   "outputs": [],
   "source": []
  }
 ],
 "metadata": {
  "kernelspec": {
   "display_name": "Python 3.9.8 64-bit",
   "language": "python",
   "name": "python3"
  },
  "language_info": {
   "codemirror_mode": {
    "name": "ipython",
    "version": 3
   },
   "file_extension": ".py",
   "mimetype": "text/x-python",
   "name": "python",
   "nbconvert_exporter": "python",
   "pygments_lexer": "ipython3",
   "version": "3.9.8 (tags/v3.9.8:bb3fdcf, Nov  5 2021, 20:48:33) [MSC v.1929 64 bit (AMD64)]"
  },
  "orig_nbformat": 4,
  "vscode": {
   "interpreter": {
    "hash": "ca7b62161f3b9e3222d6fb67745e01a946a6552e36cbdcc714dadc2ba14328d1"
   }
  }
 },
 "nbformat": 4,
 "nbformat_minor": 2
}
