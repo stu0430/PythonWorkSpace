{
 "cells": [
  {
   "cell_type": "markdown",
   "metadata": {},
   "source": [
    "### 1. 패키지, 전역변수"
   ]
  },
  {
   "cell_type": "code",
   "execution_count": 1,
   "metadata": {},
   "outputs": [],
   "source": [
    "import time"
   ]
  },
  {
   "cell_type": "code",
   "execution_count": 2,
   "metadata": {},
   "outputs": [],
   "source": [
    "BAR = chr(9608)"
   ]
  },
  {
   "cell_type": "code",
   "execution_count": 3,
   "metadata": {},
   "outputs": [
    {
     "name": "stdout",
     "output_type": "stream",
     "text": [
      "█\n"
     ]
    }
   ],
   "source": [
    "print(BAR)"
   ]
  },
  {
   "cell_type": "markdown",
   "metadata": {},
   "source": [
    "### 2. 함수 설계"
   ]
  },
  {
   "cell_type": "code",
   "execution_count": 4,
   "metadata": {},
   "outputs": [],
   "source": [
    "def get_progress_bar(progress, total, bar_width=40):\n",
    "    pass\n",
    "    return progress_bar"
   ]
  },
  {
   "cell_type": "code",
   "execution_count": 5,
   "metadata": {},
   "outputs": [],
   "source": [
    "def get_progress_bar(progress, total, bar_width=40):\n",
    "    progress_bar = ''\n",
    "    progress_bar += '['\n",
    "    \n",
    "    if progress > total:\n",
    "        progress = total\n",
    "    elif progress < 0:\n",
    "        progress = 0\n",
    "    \n",
    "    number_of_bars = int(progress / total * bar_width)\n",
    "    \n",
    "    progress_bar += BAR * number_of_bars\n",
    "    progress_bar += ' ' * (bar_width - number_of_bars)\n",
    "    progress_bar += ']'\n",
    "    \n",
    "    percentage = round(progress / total * 100, 1)\n",
    "    progress_bar += ' ' + str(percentage) + '%'\n",
    "    \n",
    "    progress_bar += ' ' + str(progress) + '/' + str(total)\n",
    "    \n",
    "    return progress_bar"
   ]
  },
  {
   "cell_type": "code",
   "execution_count": 6,
   "metadata": {},
   "outputs": [
    {
     "data": {
      "text/plain": [
       "'[████████                                ] 20.0% 20/100'"
      ]
     },
     "execution_count": 6,
     "metadata": {},
     "output_type": "execute_result"
    }
   ],
   "source": [
    "get_progress_bar(20, 100, bar_width=40)"
   ]
  },
  {
   "cell_type": "markdown",
   "metadata": {},
   "source": [
    "### 3. 메인함수 설계"
   ]
  },
  {
   "cell_type": "code",
   "execution_count": 7,
   "metadata": {},
   "outputs": [
    {
     "name": "stdout",
     "output_type": "stream",
     "text": [
      "*******************\n",
      "*  Progress Bar   *\n",
      "*   2022.11.23    *\n",
      "* (c) Al Sweigart *\n",
      "*******************\n",
      "[████████████████████████████████████████] 100.0% 4096/4096"
     ]
    }
   ],
   "source": [
    "import random\n",
    "from util import util\n",
    "\n",
    "def main():\n",
    "    util.print_header(\"Progress Bar\", \"2022.11.23\", \"(c) Al Sweigart\")\n",
    "    \n",
    "    bytes_downloaded = 0\n",
    "    download_size = 4096\n",
    "    \n",
    "    while bytes_downloaded < download_size:\n",
    "        bytes_downloaded += random.randint(0, 100)\n",
    "        if bytes_downloaded > download_size:\n",
    "            bytes_downloaded = download_size\n",
    "        \n",
    "        bar_str = get_progress_bar(bytes_downloaded, download_size)\n",
    "        print('\\r' + bar_str, end='', flush=True)\n",
    "        time.sleep(0.2)\n",
    "\n",
    "if __name__ == '__main__':\n",
    "    main()"
   ]
  },
  {
   "cell_type": "markdown",
   "metadata": {},
   "source": [
    "### 4. tqdm 테스트"
   ]
  },
  {
   "cell_type": "code",
   "execution_count": 9,
   "metadata": {},
   "outputs": [],
   "source": [
    "import time\n",
    "from tqdm import tqdm"
   ]
  },
  {
   "cell_type": "code",
   "execution_count": 10,
   "metadata": {},
   "outputs": [
    {
     "name": "stderr",
     "output_type": "stream",
     "text": [
      "100%|██████████| 100/100 [00:20<00:00,  4.86it/s]\n"
     ]
    }
   ],
   "source": [
    "for i in tqdm(range(100)):\n",
    "    time.sleep(0.2)"
   ]
  },
  {
   "cell_type": "markdown",
   "metadata": {},
   "source": [
    "### 5. tqdm 버전"
   ]
  },
  {
   "cell_type": "code",
   "execution_count": 18,
   "metadata": {},
   "outputs": [],
   "source": [
    "import random\n",
    "\n",
    "class Download:\n",
    "    def __init__(self, total):\n",
    "        self.total = total\n",
    "        self.progress = 0\n",
    "        self.stop = False\n",
    "        \n",
    "    def __iter__(self):\n",
    "        return self\n",
    "    \n",
    "    def __next__(self):\n",
    "        self.progress += random.randint(0, 100)\n",
    "        if self.stop:\n",
    "            raise StopIteration\n",
    "        elif self.progress > self.total:\n",
    "            self.progress = self.total\n",
    "            self.stop = True\n",
    "        return self.progress"
   ]
  },
  {
   "cell_type": "code",
   "execution_count": 19,
   "metadata": {},
   "outputs": [
    {
     "name": "stdout",
     "output_type": "stream",
     "text": [
      "0 48\n",
      "1 87\n",
      "2 187\n",
      "3 284\n",
      "4 317\n",
      "5 319\n",
      "6 347\n",
      "7 370\n",
      "8 465\n",
      "9 536\n",
      "10 567\n",
      "11 652\n",
      "12 687\n",
      "13 746\n",
      "14 830\n",
      "15 923\n",
      "16 928\n",
      "17 1005\n",
      "18 1017\n",
      "19 1028\n",
      "20 1092\n",
      "21 1109\n",
      "22 1142\n",
      "23 1232\n",
      "24 1279\n",
      "25 1334\n",
      "26 1421\n",
      "27 1488\n",
      "28 1489\n",
      "29 1519\n",
      "30 1609\n",
      "31 1665\n",
      "32 1730\n",
      "33 1756\n",
      "34 1850\n",
      "35 1928\n",
      "36 1951\n",
      "37 1999\n",
      "38 2093\n",
      "39 2133\n",
      "40 2208\n",
      "41 2240\n",
      "42 2259\n",
      "43 2314\n",
      "44 2388\n",
      "45 2407\n",
      "46 2450\n",
      "47 2520\n",
      "48 2562\n",
      "49 2636\n",
      "50 2735\n",
      "51 2784\n",
      "52 2804\n",
      "53 2843\n",
      "54 2939\n",
      "55 3023\n",
      "56 3092\n",
      "57 3180\n",
      "58 3227\n",
      "59 3288\n",
      "60 3309\n",
      "61 3319\n",
      "62 3320\n",
      "63 3385\n",
      "64 3458\n",
      "65 3505\n",
      "66 3536\n",
      "67 3559\n",
      "68 3627\n",
      "69 3727\n",
      "70 3757\n",
      "71 3765\n",
      "72 3864\n",
      "73 3953\n",
      "74 4036\n",
      "75 4036\n",
      "76 4079\n",
      "77 4096\n"
     ]
    }
   ],
   "source": [
    "for i, down in enumerate(Download(4096)):\n",
    "    print(i, down)"
   ]
  },
  {
   "cell_type": "code",
   "execution_count": 20,
   "metadata": {},
   "outputs": [
    {
     "name": "stdout",
     "output_type": "stream",
     "text": [
      "*******************\n",
      "*  Progress Bar   *\n",
      "*   2022.11.23    *\n",
      "* (c) Al Sweigart *\n",
      "*******************\n",
      "[████████████████████████████████████████] 100.0% 4096/4096"
     ]
    }
   ],
   "source": [
    "def main():\n",
    "    util.print_header(\"Progress Bar\", \"2022.11.23\", \"(c) Al Sweigart\")\n",
    "\n",
    "    bytes_downloaded = 0\n",
    "    download_size = 4096\n",
    "    \n",
    "    for bytes_downloaded in Download(download_size):\n",
    "        bar_str = get_progress_bar(bytes_downloaded, download_size)\n",
    "        print('\\r' + bar_str, end='', flush=True)\n",
    "        time.sleep(0.2)\n",
    "\n",
    "if __name__ == '__main__':\n",
    "    main()"
   ]
  },
  {
   "cell_type": "code",
   "execution_count": 22,
   "metadata": {},
   "outputs": [
    {
     "name": "stdout",
     "output_type": "stream",
     "text": [
      "*******************\n",
      "*  Progress Bar   *\n",
      "*   2022.11.23    *\n",
      "* (c) Al Sweigart *\n",
      "*******************\n"
     ]
    },
    {
     "name": "stderr",
     "output_type": "stream",
     "text": [
      "  2%|▏         | 87/4096 [00:18<13:52,  4.82it/s]\n"
     ]
    }
   ],
   "source": [
    "def main():\n",
    "    util.print_header(\"Progress Bar\", \"2022.11.23\", \"(c) Al Sweigart\")\n",
    "\n",
    "    bytes_downloaded = 0\n",
    "    download_size = 4096\n",
    "\n",
    "    for i in tqdm(Download(download_size), total = 4096):\n",
    "        time.sleep(0.2)\n",
    "\n",
    "if __name__ == '__main__':\n",
    "    main()"
   ]
  },
  {
   "cell_type": "code",
   "execution_count": 23,
   "metadata": {},
   "outputs": [],
   "source": [
    "class Download2:\n",
    "    def __init__(self, total, increment):\n",
    "        self.total = total\n",
    "        self.increment = increment\n",
    "        self.progress = 0\n",
    "        self.stop = False\n",
    "\n",
    "    def __iter__(self):\n",
    "        return self\n",
    "\n",
    "    def __next__(self):\n",
    "        self.progress += self.increment\n",
    "        if self.stop:\n",
    "            raise StopIteration\n",
    "        elif self.progress > self.total:\n",
    "            self.progress = self.total\n",
    "            self.stop = True\n",
    "        return self.progress"
   ]
  },
  {
   "cell_type": "code",
   "execution_count": 24,
   "metadata": {},
   "outputs": [
    {
     "name": "stdout",
     "output_type": "stream",
     "text": [
      "*******************\n",
      "*  Progress Bar   *\n",
      "*   2022.11.23    *\n",
      "* (c) Al Sweigart *\n",
      "*******************\n"
     ]
    },
    {
     "name": "stderr",
     "output_type": "stream",
     "text": [
      "100%|██████████| 41/41 [00:08<00:00,  4.81it/s]\n"
     ]
    }
   ],
   "source": [
    "import math\n",
    "def main():\n",
    "    util.print_header(\"Progress Bar\", \"2022.11.23\", \"(c) Al Sweigart\")\n",
    "\n",
    "    bytes_downloaded = 0\n",
    "    download_size = 4096\n",
    "    increment = 100\n",
    "\n",
    "    for i in tqdm(Download2(download_size, increment), total=math.ceil(download_size/increment)):\n",
    "        time.sleep(0.2)\n",
    "\n",
    "if __name__ == '__main__':\n",
    "    main()"
   ]
  },
  {
   "cell_type": "code",
   "execution_count": null,
   "metadata": {},
   "outputs": [],
   "source": []
  },
  {
   "cell_type": "code",
   "execution_count": null,
   "metadata": {},
   "outputs": [],
   "source": []
  }
 ],
 "metadata": {
  "kernelspec": {
   "display_name": "Python 3.9.8 64-bit",
   "language": "python",
   "name": "python3"
  },
  "language_info": {
   "codemirror_mode": {
    "name": "ipython",
    "version": 3
   },
   "file_extension": ".py",
   "mimetype": "text/x-python",
   "name": "python",
   "nbconvert_exporter": "python",
   "pygments_lexer": "ipython3",
   "version": "3.9.8"
  },
  "orig_nbformat": 4,
  "vscode": {
   "interpreter": {
    "hash": "ca7b62161f3b9e3222d6fb67745e01a946a6552e36cbdcc714dadc2ba14328d1"
   }
  }
 },
 "nbformat": 4,
 "nbformat_minor": 2
}
