{
 "cells": [
  {
   "cell_type": "code",
   "execution_count": 2,
   "metadata": {},
   "outputs": [],
   "source": [
    "import time\n",
    "import keyboard"
   ]
  },
  {
   "cell_type": "code",
   "execution_count": 3,
   "metadata": {},
   "outputs": [
    {
     "name": "stdout",
     "output_type": "stream",
     "text": [
      "오른쪽 방향키 입력\n",
      "아래쪽 방향키 입력\n",
      "위쪽 방향키 입력\n",
      "종료 키 입력\n"
     ]
    }
   ],
   "source": [
    "while True:\n",
    "    if keyboard.is_pressed('down'):\n",
    "        print('아래쪽 방향키 입력')\n",
    "        time.sleep(0.2)\n",
    "        \n",
    "    if keyboard.is_pressed('up'):\n",
    "        print('위쪽 방향키 입력')\n",
    "        time.sleep(0.2)\n",
    "\n",
    "    if keyboard.is_pressed('right'):\n",
    "        print('오른쪽 방향키 입력')\n",
    "        time.sleep(0.2)\n",
    "\n",
    "    if keyboard.is_pressed('left'):\n",
    "        print('왼쪽 방향키 입력')\n",
    "        time.sleep(0.2)\n",
    "\n",
    "    if keyboard.is_pressed('q'):\n",
    "        print('종료 키 입력')\n",
    "        time.sleep(0.2)\n",
    "        break\n"
   ]
  },
  {
   "cell_type": "code",
   "execution_count": 4,
   "metadata": {},
   "outputs": [],
   "source": [
    "import beepy"
   ]
  },
  {
   "cell_type": "code",
   "execution_count": null,
   "metadata": {},
   "outputs": [],
   "source": []
  },
  {
   "cell_type": "code",
   "execution_count": null,
   "metadata": {},
   "outputs": [],
   "source": []
  }
 ],
 "metadata": {
  "kernelspec": {
   "display_name": "Python 3.9.8 64-bit",
   "language": "python",
   "name": "python3"
  },
  "language_info": {
   "codemirror_mode": {
    "name": "ipython",
    "version": 3
   },
   "file_extension": ".py",
   "mimetype": "text/x-python",
   "name": "python",
   "nbconvert_exporter": "python",
   "pygments_lexer": "ipython3",
   "version": "3.9.8"
  },
  "orig_nbformat": 4,
  "vscode": {
   "interpreter": {
    "hash": "ca7b62161f3b9e3222d6fb67745e01a946a6552e36cbdcc714dadc2ba14328d1"
   }
  }
 },
 "nbformat": 4,
 "nbformat_minor": 2
}
